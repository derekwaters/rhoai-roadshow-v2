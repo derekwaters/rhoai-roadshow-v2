{
 "cells": [
  {
   "cell_type": "markdown",
   "id": "95e575c7-b29c-45cd-8f77-5f51b7670cae",
   "metadata": {},
   "source": [
    "# WARNING\n",
    "Only run this notebook if you experienced the AWS quota issue when adding a node to the cluster\n",
    "\n",
    "\n",
    "## Delete the MachineSet for the failed node\n",
    "In the *Compute* menu  \n",
    "1. Click *MachineSets*\n",
    "   Locate the MachineSet you created earlier.\n",
    "2. Click the MachineSet to view its details.\n",
    "3. Click *Action > Delete MachineSet*  \n",
    "   OpenShift displays a dialog box promptint confirmation of deletion.  \n",
    "\n",
    "<img src=\"images/delete-machine-set.png\"\n",
    "     alt=\"Delete the MachineSet\"\n",
    "     style=\"width:25%;\">\n",
    "     \n",
    "4. Click *Delete*.\n",
    "   OpenShift proceeds to delete the MachineSet and the failed Machine.\n",
    "\n",
    "\n"
   ]
  },
  {
   "cell_type": "markdown",
   "id": "4efccf6d-171e-44b9-b655-d8cebf78a8c4",
   "metadata": {},
   "source": [
    "## Modify the MachineSet specification\n",
    "\n",
    "The following command updates the MachineSet configuration you created earlier to use a different Availability Zone.\n",
    "\n",
    "If you are running in Ohio - `us-east-2` there are [3 AZs](https://aws.amazon.com/about-aws/global-infrastructure/regions_az) `us-east2a`, `us-east2b`, `us-east2c` to choose from."
   ]
  },
  {
   "cell_type": "code",
   "execution_count": null,
   "id": "3c50b7c4-a361-48d0-9f76-a8e52c2149a9",
   "metadata": {},
   "outputs": [],
   "source": [
    "!sed -i 's/us-east-2a/us-east-2b/g' gpu-machineset.json"
   ]
  },
  {
   "cell_type": "markdown",
   "id": "8a1df5d8-db41-42d3-840d-fb70753076cd",
   "metadata": {},
   "source": [
    "## Create the new MachineSet\n",
    "\n",
    "Now create the MachineSet and associated Machine"
   ]
  },
  {
   "cell_type": "code",
   "execution_count": null,
   "id": "05e85105-cbd1-49f3-a039-9e604dad21be",
   "metadata": {},
   "outputs": [],
   "source": [
    "!oc create -f gpu-machineset.json"
   ]
  },
  {
   "cell_type": "markdown",
   "id": "551dde44-42bd-4fc2-b10b-454fd8462e75",
   "metadata": {},
   "source": [
    "## Return to previous Notebook\n",
    "\n",
    "Now return to the previous Notebook to keep executing the steps where you left off."
   ]
  },
  {
   "cell_type": "code",
   "execution_count": null,
   "id": "d0234f17-5918-42a9-84df-a311ae8ab947",
   "metadata": {},
   "outputs": [],
   "source": []
  }
 ],
 "metadata": {
  "kernelspec": {
   "display_name": "Python 3.11",
   "language": "python",
   "name": "python3"
  },
  "language_info": {
   "codemirror_mode": {
    "name": "ipython",
    "version": 3
   },
   "file_extension": ".py",
   "mimetype": "text/x-python",
   "name": "python",
   "nbconvert_exporter": "python",
   "pygments_lexer": "ipython3",
   "version": "3.11.11"
  }
 },
 "nbformat": 4,
 "nbformat_minor": 5
}
