{
 "cells": [
  {
   "cell_type": "markdown",
   "id": "2e687dc7-84a4-4761-ac03-921be2dc5b98",
   "metadata": {},
   "source": [
    "## Running Ray-based distributed workloads\n",
    "\n",
    "👷‍♂️ Work In Progress 👷‍♂️\n",
    "\n",
    "We are going to use the notebooks that come with the Codeflare SDK as documented in the [Red Hat Documentation](https://docs.redhat.com/en/documentation/red_hat_openshift_ai_cloud_service/1/html/working_with_distributed_workloads/running-ray-based-distributed-workloads_distributed-workloads#downloading-the-demo-jupyter-notebooks-from-the-codeflare-sdk_distributed-workloads)\n"
   ]
  },
  {
   "cell_type": "markdown",
   "id": "fc12d796",
   "metadata": {},
   "source": [
    "Install the codeflare sdk"
   ]
  },
  {
   "cell_type": "code",
   "execution_count": 1,
   "id": "e29c0259-c814-401b-8f3a-7703cf236d16",
   "metadata": {},
   "outputs": [
    {
     "name": "stdout",
     "output_type": "stream",
     "text": [
      "\n",
      "\u001b[1m[\u001b[0m\u001b[34;49mnotice\u001b[0m\u001b[1;39;49m]\u001b[0m\u001b[39;49m A new release of pip is available: \u001b[0m\u001b[31;49m24.2\u001b[0m\u001b[39;49m -> \u001b[0m\u001b[32;49m25.1.1\u001b[0m\n",
      "\u001b[1m[\u001b[0m\u001b[34;49mnotice\u001b[0m\u001b[1;39;49m]\u001b[0m\u001b[39;49m To update, run: \u001b[0m\u001b[32;49mpip install --upgrade pip\u001b[0m\n"
     ]
    }
   ],
   "source": [
    "!pip install -q codeflare_sdk"
   ]
  },
  {
   "cell_type": "markdown",
   "id": "33809777",
   "metadata": {},
   "source": [
    "Copy the notebooks into our workspace"
   ]
  },
  {
   "cell_type": "code",
   "execution_count": 4,
   "id": "c2399967-a3f5-46e6-919b-3c4380322614",
   "metadata": {},
   "outputs": [],
   "source": [
    "from codeflare_sdk import copy_demo_nbs\n",
    "copy_demo_nbs()"
   ]
  },
  {
   "cell_type": "markdown",
   "id": "5ab41694",
   "metadata": {},
   "source": [
    "Login to OpenShift"
   ]
  },
  {
   "cell_type": "code",
   "execution_count": 2,
   "id": "24e1b9f6-9ee1-4e0b-8e1c-5af3a3065737",
   "metadata": {},
   "outputs": [
    {
     "name": "stdout",
     "output_type": "stream",
     "text": [
      "WARNING: Using insecure TLS client config. Setting this option is not supported!\n",
      "\n",
      "Login successful.\n",
      "\n",
      "You have access to 109 projects, the list has been suppressed. You can list all projects with 'oc projects'\n",
      "\n",
      "Using project \"agent-demo\".\n",
      "Welcome! See 'oc help' to get started.\n"
     ]
    }
   ],
   "source": [
    "!oc login -u admin -p ${ADMIN_PASSWORD} --server=https://api.sno.${BASE_DOMAIN}:6443 --insecure-skip-tls-verify"
   ]
  },
  {
   "cell_type": "markdown",
   "id": "a3467b60",
   "metadata": {},
   "source": [
    "Get a user token (we will use this in the cloudflare notebooks)"
   ]
  },
  {
   "cell_type": "code",
   "execution_count": null,
   "id": "75740dad-83ab-4b84-a075-d2323e428146",
   "metadata": {},
   "outputs": [],
   "source": [
    "!oc whoami --show-token"
   ]
  },
  {
   "cell_type": "markdown",
   "id": "1a3c06f0",
   "metadata": {},
   "source": [
    "Echo the OpenShift api endpoint (we will use this in the cloudflare notebooks)"
   ]
  },
  {
   "cell_type": "code",
   "execution_count": 5,
   "id": "be6f84a5-ae93-4ba1-a1b4-20e61b7a4ed5",
   "metadata": {},
   "outputs": [
    {
     "name": "stdout",
     "output_type": "stream",
     "text": [
      "api.sno.sandbox2964.opentlc.com:6443\n"
     ]
    }
   ],
   "source": [
    "!echo api.sno.${BASE_DOMAIN}:6443"
   ]
  },
  {
   "cell_type": "markdown",
   "id": "dd088796",
   "metadata": {},
   "source": [
    "Setup the basic Kueue configuration for the cluster"
   ]
  },
  {
   "cell_type": "code",
   "execution_count": 6,
   "id": "1c408e4d-6719-4e6e-b649-21085a73ea1b",
   "metadata": {},
   "outputs": [
    {
     "name": "stderr",
     "output_type": "stream",
     "text": [
      "Warning: resource resourceflavors/default-flavor is missing the kubectl.kubernetes.io/last-applied-configuration annotation which is required by oc apply. oc apply should only be used on resources created declaratively by either oc create --save-config or oc apply. The missing annotation will be patched automatically.\n"
     ]
    },
    {
     "name": "stdout",
     "output_type": "stream",
     "text": [
      "resourceflavor.kueue.x-k8s.io/default-flavor configured\n"
     ]
    },
    {
     "name": "stderr",
     "output_type": "stream",
     "text": [
      "Warning: resource clusterqueues/cluster-queue is missing the kubectl.kubernetes.io/last-applied-configuration annotation which is required by oc apply. oc apply should only be used on resources created declaratively by either oc create --save-config or oc apply. The missing annotation will be patched automatically.\n"
     ]
    },
    {
     "name": "stdout",
     "output_type": "stream",
     "text": [
      "clusterqueue.kueue.x-k8s.io/cluster-queue configured\n",
      "localqueue.kueue.x-k8s.io/local-queue created\n"
     ]
    }
   ],
   "source": [
    "%%bash\n",
    "oc apply -f- << EOF\n",
    "---\n",
    "apiVersion: kueue.x-k8s.io/v1beta1\n",
    "kind: ResourceFlavor\n",
    "metadata:\n",
    "  name: default-flavor\n",
    "---\n",
    "apiVersion: kueue.x-k8s.io/v1beta1\n",
    "kind: ClusterQueue\n",
    "metadata:\n",
    "  name: \"cluster-queue\"\n",
    "spec:\n",
    "  namespaceSelector: {}  # match all.\n",
    "  resourceGroups:\n",
    "  - coveredResources: [\"cpu\", \"memory\", \"nvidia.com/gpu\"]\n",
    "    flavors:\n",
    "    - name: \"default-flavor\"\n",
    "      resources:\n",
    "      - name: \"cpu\"\n",
    "        nominalQuota: 6\n",
    "      - name: \"memory\"\n",
    "        nominalQuota: 20Gi\n",
    "      - name: \"nvidia.com/gpu\"\n",
    "        nominalQuota: 1\n",
    "---\n",
    "apiVersion: kueue.x-k8s.io/v1beta1\n",
    "kind: LocalQueue\n",
    "metadata:\n",
    "  namespace: agent-demo\n",
    "  name: local-queue\n",
    "  annotations:\n",
    "    kueue.x-k8s.io/default-queue: 'true'\n",
    "spec:\n",
    "  clusterQueue: cluster-queue\n",
    "EOF"
   ]
  },
  {
   "cell_type": "markdown",
   "id": "1aa357e1",
   "metadata": {},
   "source": [
    "Navigate to > demo_notebooks > guided_demos > 0_basic_ray.ipynb\n",
    "\n",
    "Follow the instructions to test out distributed workloads using Kueue/Ray/Cloudflare"
   ]
  },
  {
   "cell_type": "markdown",
   "id": "fd4c5e9e",
   "metadata": {},
   "source": []
  }
 ],
 "metadata": {
  "kernelspec": {
   "display_name": "Python 3.11",
   "language": "python",
   "name": "python3"
  },
  "language_info": {
   "codemirror_mode": {
    "name": "ipython",
    "version": 3
   },
   "file_extension": ".py",
   "mimetype": "text/x-python",
   "name": "python",
   "nbconvert_exporter": "python",
   "pygments_lexer": "ipython3",
   "version": "3.11.11"
  }
 },
 "nbformat": 4,
 "nbformat_minor": 5
}
