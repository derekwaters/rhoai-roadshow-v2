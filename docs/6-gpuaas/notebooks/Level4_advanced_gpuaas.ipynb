{
 "cells": [
  {
   "cell_type": "markdown",
   "id": "2e687dc7-84a4-4761-ac03-921be2dc5b98",
   "metadata": {},
   "source": [
    "## Running Ray-based distributed workloads\n",
    "\n",
    "👷‍♂️ Work In Progress 👷‍♂️\n",
    "\n",
    "If you got to here - you may want to goto the next notebook [Multi Node - Multi GPU](./Level5_multi-gpu-node.ipynb) instead.\n",
    "\n",
    "The Codeflare SDK is being deprecated in the future releases and will likely be replace with a Kueue based implementation.\n",
    "\n",
    "[Kueue](https://kueue.sigs.k8s.io) is a cloud-native job queueing system for batch, HPC, AI/ML, and similar applications in a Kubernetes cluster.\n",
    "\n",
    "The following content is still part of the product today.\n",
    "\n",
    "We are going to use the notebooks that come with the Codeflare SDK as documented in the [Red Hat Documentation](https://docs.redhat.com/en/documentation/red_hat_openshift_ai_cloud_service/1/html/working_with_distributed_workloads/running-ray-based-distributed-workloads_distributed-workloads#downloading-the-demo-jupyter-notebooks-from-the-codeflare-sdk_distributed-workloads)\n"
   ]
  },
  {
   "cell_type": "markdown",
   "id": "fc12d796",
   "metadata": {},
   "source": [
    "Install the codeflare sdk"
   ]
  },
  {
   "cell_type": "code",
   "execution_count": 1,
   "id": "e29c0259-c814-401b-8f3a-7703cf236d16",
   "metadata": {},
   "outputs": [
    {
     "name": "stdout",
     "output_type": "stream",
     "text": [
      "\n",
      "\u001b[1m[\u001b[0m\u001b[34;49mnotice\u001b[0m\u001b[1;39;49m]\u001b[0m\u001b[39;49m A new release of pip is available: \u001b[0m\u001b[31;49m24.2\u001b[0m\u001b[39;49m -> \u001b[0m\u001b[32;49m25.1.1\u001b[0m\n",
      "\u001b[1m[\u001b[0m\u001b[34;49mnotice\u001b[0m\u001b[1;39;49m]\u001b[0m\u001b[39;49m To update, run: \u001b[0m\u001b[32;49mpip install --upgrade pip\u001b[0m\n"
     ]
    }
   ],
   "source": [
    "!pip install -q codeflare_sdk"
   ]
  },
  {
   "cell_type": "markdown",
   "id": "33809777",
   "metadata": {},
   "source": [
    "Copy the notebooks into our workspace"
   ]
  },
  {
   "cell_type": "code",
   "execution_count": 4,
   "id": "c2399967-a3f5-46e6-919b-3c4380322614",
   "metadata": {},
   "outputs": [],
   "source": [
    "from codeflare_sdk import copy_demo_nbs\n",
    "copy_demo_nbs()"
   ]
  },
  {
   "cell_type": "markdown",
   "id": "5ab41694",
   "metadata": {},
   "source": [
    "Login to OpenShift"
   ]
  },
  {
   "cell_type": "code",
   "execution_count": 2,
   "id": "24e1b9f6-9ee1-4e0b-8e1c-5af3a3065737",
   "metadata": {},
   "outputs": [
    {
     "name": "stdout",
     "output_type": "stream",
     "text": [
      "WARNING: Using insecure TLS client config. Setting this option is not supported!\n",
      "\n",
      "Login successful.\n",
      "\n",
      "You have access to 109 projects, the list has been suppressed. You can list all projects with 'oc projects'\n",
      "\n",
      "Using project \"ai-roadshow\".\n",
      "Welcome! See 'oc help' to get started.\n"
     ]
    }
   ],
   "source": [
    "!oc login -u admin -p ${ADMIN_PASSWORD} --server=https://api.sno.${BASE_DOMAIN}:6443 --insecure-skip-tls-verify"
   ]
  },
  {
   "cell_type": "markdown",
   "id": "a3467b60",
   "metadata": {},
   "source": [
    "Get a user token (we will use this in the cloudflare notebooks)"
   ]
  },
  {
   "cell_type": "code",
   "execution_count": null,
   "id": "75740dad-83ab-4b84-a075-d2323e428146",
   "metadata": {},
   "outputs": [],
   "source": [
    "!oc whoami --show-token"
   ]
  },
  {
   "cell_type": "markdown",
   "id": "1a3c06f0",
   "metadata": {},
   "source": [
    "Echo the OpenShift api endpoint (we will use this in the cloudflare notebooks)"
   ]
  },
  {
   "cell_type": "code",
   "execution_count": 5,
   "id": "be6f84a5-ae93-4ba1-a1b4-20e61b7a4ed5",
   "metadata": {},
   "outputs": [
    {
     "name": "stdout",
     "output_type": "stream",
     "text": [
      "api.sno.sandbox2964.opentlc.com:6443\n"
     ]
    }
   ],
   "source": [
    "!echo api.sno.${BASE_DOMAIN}:6443"
   ]
  },
  {
   "cell_type": "markdown",
   "id": "1aa357e1",
   "metadata": {},
   "source": [
    "Navigate to > demo_notebooks > guided_demos > 0_basic_ray.ipynb\n",
    "\n",
    "Follow the instructions to test out distributed workloads using Kueue/Ray/Cloudflare"
   ]
  },
  {
   "cell_type": "markdown",
   "id": "fd4c5e9e",
   "metadata": {},
   "source": []
  }
 ],
 "metadata": {
  "kernelspec": {
   "display_name": "Python 3.11",
   "language": "python",
   "name": "python3"
  },
  "language_info": {
   "codemirror_mode": {
    "name": "ipython",
    "version": 3
   },
   "file_extension": ".py",
   "mimetype": "text/x-python",
   "name": "python",
   "nbconvert_exporter": "python",
   "pygments_lexer": "ipython3",
   "version": "3.11.11"
  }
 },
 "nbformat": 4,
 "nbformat_minor": 5
}
