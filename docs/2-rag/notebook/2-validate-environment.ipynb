{
 "cells": [
  {
   "cell_type": "markdown",
   "id": "ceffd7de-5d51-4d05-aa50-9ffa247e709f",
   "metadata": {},
   "source": [
    "# Install required Python modules\n",
    "\n",
    "*Note:* This step may take a while to run the first time."
   ]
  },
  {
   "cell_type": "code",
   "execution_count": 1,
   "id": "c7518dc2-fbeb-4968-b126-af818e32c436",
   "metadata": {},
   "outputs": [
    {
     "name": "stdout",
     "output_type": "stream",
     "text": [
      "\n",
      "\u001b[1m[\u001b[0m\u001b[34;49mnotice\u001b[0m\u001b[1;39;49m]\u001b[0m\u001b[39;49m A new release of pip is available: \u001b[0m\u001b[31;49m24.2\u001b[0m\u001b[39;49m -> \u001b[0m\u001b[32;49m25.1.1\u001b[0m\n",
      "\u001b[1m[\u001b[0m\u001b[34;49mnotice\u001b[0m\u001b[1;39;49m]\u001b[0m\u001b[39;49m To update, run: \u001b[0m\u001b[32;49mpip install --upgrade pip\u001b[0m\n"
     ]
    }
   ],
   "source": [
    "# Step 1: Install necessary libraries (run in a cell if needed)\n",
    "!pip install -q -r requirements.txt"
   ]
  },
  {
   "cell_type": "code",
   "execution_count": 2,
   "id": "34e9a822-a34d-4755-b954-d76d2bf897f5",
   "metadata": {},
   "outputs": [
    {
     "name": "stderr",
     "output_type": "stream",
     "text": [
      "/opt/app-root/lib64/python3.11/site-packages/sentence_transformers/cross_encoder/CrossEncoder.py:11: TqdmWarning: IProgress not found. Please update jupyter and ipywidgets. See https://ipywidgets.readthedocs.io/en/stable/user_install.html\n",
      "  from tqdm.autonotebook import tqdm, trange\n"
     ]
    }
   ],
   "source": [
    "from pymilvus import connections, utility, Collection, CollectionSchema, FieldSchema, DataType\n",
    "from sentence_transformers import SentenceTransformer\n",
    "from sklearn.metrics.pairwise import cosine_similarity\n",
    "import numpy as np\n",
    "import matplotlib.pyplot as plt\n",
    "from sklearn.decomposition import PCA"
   ]
  },
  {
   "cell_type": "markdown",
   "id": "61b36009-61f9-4308-b770-8d5656c4090e",
   "metadata": {},
   "source": [
    "# Shakeout minio connection"
   ]
  },
  {
   "cell_type": "code",
   "execution_count": 3,
   "id": "51adc21c-8892-4ef2-ab9d-7d67dbf4775e",
   "metadata": {},
   "outputs": [
    {
     "name": "stdout",
     "output_type": "stream",
     "text": [
      "🟢 Connection succeeded – buckets discovered:\n",
      "  • data\n",
      "  • models\n",
      "  • rag-docs\n"
     ]
    }
   ],
   "source": [
    "#!/usr/bin/env python3\n",
    "\"\"\"\n",
    "Shake-out test for a MinIO deployment on Kubernetes.\n",
    "\n",
    "Environment variables:\n",
    "  AWS_S3_ENDPOINT        – MinIO service DNS name (e.g. minio.minio.svc.cluster.local)\n",
    "  AWS_ACCESS_KEY_ID      – MinIO access key\n",
    "  AWS_SECRET_ACCESS_KEY  – MinIO secret key\n",
    "  AWS_DEFAULT_REGION     – Dummy value; boto3 still expects one\n",
    "\"\"\"\n",
    "import os\n",
    "import sys\n",
    "\n",
    "import boto3\n",
    "from botocore.client import Config\n",
    "from botocore.exceptions import BotoCoreError, ClientError\n",
    "\n",
    "\n",
    "endpoint = os.getenv(\"AWS_S3_ENDPOINT\", \"minio.minio.svc.cluster.local\")\n",
    "access_key = os.getenv(\"AWS_ACCESS_KEY_ID\", \"minio\")\n",
    "secret_key = os.getenv(\"AWS_SECRET_ACCESS_KEY\", \"test\")\n",
    "region = os.getenv(\"AWS_DEFAULT_REGION\", \"us-east-1\") or \"us-east-1\"\n",
    "\n",
    "\n",
    "minio_status = \"🟢 OK\"\n",
    "\n",
    "try:\n",
    "    s3 = boto3.client(\n",
    "        \"s3\",\n",
    "        endpoint_url=f\"http://{endpoint}\",\n",
    "        aws_access_key_id=access_key,\n",
    "        aws_secret_access_key=secret_key,\n",
    "        region_name=region,\n",
    "        config=Config(signature_version=\"s3v4\"),\n",
    "    )\n",
    "\n",
    "    resp = s3.list_buckets()\n",
    "    buckets = [b[\"Name\"] for b in resp.get(\"Buckets\", [])]\n",
    "\n",
    "    if buckets:\n",
    "        print(\"🟢 Connection succeeded – buckets discovered:\")\n",
    "        for name in buckets:\n",
    "            print(f\"  • {name}\")\n",
    "    else:\n",
    "        print(\"🟢 Connected but no buckets found.\")\n",
    "\n",
    "except (BotoCoreError, ClientError) as exc:\n",
    "    print(f\"🔴 MinIO connectivity test failed: {exc}\", file=sys.stderr)\n",
    "    minio_status=\"🔴 FAIL\""
   ]
  },
  {
   "cell_type": "markdown",
   "id": "5ae4bfa8-7250-457e-bc39-7dadefaf3d6a",
   "metadata": {},
   "source": [
    "# Shakeout the Milvus connectivity\n"
   ]
  },
  {
   "cell_type": "markdown",
   "id": "f8acfa6d-a20f-4028-ba4c-f6be7cfb39ec",
   "metadata": {},
   "source": [
    "## Create the Milvus database"
   ]
  },
  {
   "cell_type": "code",
   "execution_count": 4,
   "id": "87ac1faa-dd01-43cd-95ff-47ac827222c2",
   "metadata": {},
   "outputs": [
    {
     "name": "stdout",
     "output_type": "stream",
     "text": [
      "Collection list: ['animal_test', 'my_rag_collection']\n",
      "Collection list: ['animal_test', 'my_rag_collection', 'shakeout_collection']\n"
     ]
    }
   ],
   "source": [
    "milvus_status = \"🟢 OK\"\n",
    "# This is the name of the collection that this program will use.\n",
    "collection_name = \"shakeout_collection\"\n",
    "\n",
    "try:\n",
    "    # Create the client object\n",
    "    connections.connect(\n",
    "        uri=\"http://milvus-service.milvus.svc.cluster.local:19530\",\n",
    "        alias=\"default\"\n",
    "    )\n",
    "    \n",
    "    # Make sure we start with a clean slate by deleting the collection if it exists from a prior run.\n",
    "    if utility.has_collection(collection_name):\n",
    "        utility.drop_collection(collection_name)\n",
    "    print(f\"Collection list: {utility.list_collections()}\") \n",
    "\n",
    "    # Databases need a schema. In this lab the schema will consist \n",
    "    # of an identifier and a vector that contains the embedding of a text string.\n",
    "    \n",
    "    # Define the primary key field for unique record identification\n",
    "    id_field = FieldSchema(\n",
    "        name=\"id\",\n",
    "        dtype=DataType.INT64,\n",
    "        is_primary=True,\n",
    "        auto_id=False\n",
    "    )\n",
    "    \n",
    "    # Specify embedding model and its output dimension\n",
    "    embedding_model = \"all-MiniLM-L6-v2\"  # Example Hugging Face model\n",
    "    embedding_dim = 384  # Embedding vector size as per the model\n",
    "    \n",
    "    # Define the vector field to hold embedding values\n",
    "    embedding_field = FieldSchema(\n",
    "        name=\"embedding\",\n",
    "        dtype=DataType.FLOAT_VECTOR,\n",
    "        dim=embedding_dim\n",
    "    )\n",
    "    \n",
    "    # Assemble collection schema combining ID and embedding fields\n",
    "    schema = CollectionSchema(\n",
    "        fields=[id_field, embedding_field],\n",
    "        description=\"Milvus shakeout test\",\n",
    "        enable_dynamic_field=False\n",
    "    )\n",
    "\n",
    "    # Instantiate the Milvus collection using the defined schema and configuration\n",
    "    collection = Collection(\n",
    "        name=collection_name, \n",
    "        schema=schema, \n",
    "        using='default', \n",
    "        shards_num=2,\n",
    "        consistency_level=\"Strong\"\n",
    "    )\n",
    "    \n",
    "    # List all collections in Milvus to confirm creation\n",
    "    print(f\"Collection list: {utility.list_collections()}\")\n",
    "\n",
    "    # Close the Milvus connection\n",
    "    collection.release()\n",
    "    utility.drop_collection(collection_name)\n",
    "except:\n",
    "    milvus_status=\"🔴 FAIL\""
   ]
  },
  {
   "cell_type": "code",
   "execution_count": 5,
   "id": "2642df0a-1b7c-41d5-b61f-0ecb7aa5387a",
   "metadata": {},
   "outputs": [
    {
     "name": "stdout",
     "output_type": "stream",
     "text": [
      "Minio status: 🟢 OK\n",
      "Milvus status: 🟢 OK\n"
     ]
    }
   ],
   "source": [
    "print(f\"Minio status: {minio_status}\")\n",
    "print(f\"Milvus status: {milvus_status}\")"
   ]
  }
 ],
 "metadata": {
  "kernelspec": {
   "display_name": "Python 3.11",
   "language": "python",
   "name": "python3"
  },
  "language_info": {
   "codemirror_mode": {
    "name": "ipython",
    "version": 3
   },
   "file_extension": ".py",
   "mimetype": "text/x-python",
   "name": "python",
   "nbconvert_exporter": "python",
   "pygments_lexer": "ipython3",
   "version": "3.11.11"
  }
 },
 "nbformat": 4,
 "nbformat_minor": 5
}
