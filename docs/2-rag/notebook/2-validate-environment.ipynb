{
 "cells": [
  {
   "cell_type": "markdown",
   "id": "ceffd7de-5d51-4d05-aa50-9ffa247e709f",
   "metadata": {},
   "source": [
    "# Install required Python modules\n",
    "\n",
    "*Note:* This step may take a while to run the first time."
   ]
  },
  {
   "cell_type": "code",
   "execution_count": 1,
   "id": "61ab88ea-3161-4ef0-a8d7-bb3468b18bda",
   "metadata": {},
   "outputs": [
    {
     "name": "stdout",
     "output_type": "stream",
     "text": [
      "downloading uv 0.8.4 x86_64-unknown-linux-gnu\n",
      "no checksums to verify\n",
      "installing to /opt/app-root/src/.local/bin\n",
      "  uv\n",
      "  uvx\n",
      "everything's installed!\n"
     ]
    }
   ],
   "source": [
    "# Install uv for simplified package management. (It is not necessary to understand this step.)\n",
    "!curl -LsSf https://astral.sh/uv/install.sh | sh"
   ]
  },
  {
   "cell_type": "code",
   "execution_count": 2,
   "id": "c7518dc2-fbeb-4968-b126-af818e32c436",
   "metadata": {},
   "outputs": [
    {
     "name": "stdout",
     "output_type": "stream",
     "text": [
      "\u001b[2mUsing Python 3.11.11 environment at: /opt/app-root\u001b[0m\n",
      "\u001b[2K\u001b[2mResolved \u001b[1m142 packages\u001b[0m \u001b[2min 1.22s\u001b[0m\u001b[0m                                       \u001b[0m\n",
      "\u001b[2K\u001b[2mPrepared \u001b[1m1 package\u001b[0m \u001b[2min 24ms\u001b[0m\u001b[0m                                               \n",
      "\u001b[2mUninstalled \u001b[1m1 package\u001b[0m \u001b[2min 3ms\u001b[0m\u001b[0m\n",
      "\u001b[2K░░░░░░░░░░░░░░░░░░░░ [0/115] \u001b[2mInstalling wheels...                               \u001b[0m\u001b[1m\u001b[33mwarning\u001b[39m\u001b[0m\u001b[1m:\u001b[0m \u001b[1mFailed to hardlink files; falling back to full copy. This may lead to degraded performance.\n",
      "         If the cache and target directories are on different filesystems, hardlinking may not be supported.\n",
      "         If this is intentional, set `export UV_LINK_MODE=copy` or use `--link-mode=copy` to suppress this warning.\u001b[0m\n",
      "\u001b[2K\u001b[2mInstalled \u001b[1m115 packages\u001b[0m \u001b[2min 54.31s\u001b[0m\u001b[0m                            \u001b[0m\n",
      " \u001b[32m+\u001b[39m \u001b[1maccelerate\u001b[0m\u001b[2m==1.9.0\u001b[0m\n",
      " \u001b[32m+\u001b[39m \u001b[1mannotated-types\u001b[0m\u001b[2m==0.7.0\u001b[0m\n",
      " \u001b[32m+\u001b[39m \u001b[1mboto3\u001b[0m\u001b[2m==1.34.103\u001b[0m\n",
      " \u001b[32m+\u001b[39m \u001b[1mbotocore\u001b[0m\u001b[2m==1.34.162\u001b[0m\n",
      " \u001b[32m+\u001b[39m \u001b[1mclick\u001b[0m\u001b[2m==8.2.1\u001b[0m\n",
      " \u001b[32m+\u001b[39m \u001b[1mcontourpy\u001b[0m\u001b[2m==1.3.3\u001b[0m\n",
      " \u001b[32m+\u001b[39m \u001b[1mcycler\u001b[0m\u001b[2m==0.12.1\u001b[0m\n",
      " \u001b[32m+\u001b[39m \u001b[1mdill\u001b[0m\u001b[2m==0.4.0\u001b[0m\n",
      " \u001b[32m+\u001b[39m \u001b[1mdistro\u001b[0m\u001b[2m==1.9.0\u001b[0m\n",
      " \u001b[32m+\u001b[39m \u001b[1mdocling\u001b[0m\u001b[2m==2.39.0\u001b[0m\n",
      " \u001b[32m+\u001b[39m \u001b[1mdocling-core\u001b[0m\u001b[2m==2.44.1\u001b[0m\n",
      " \u001b[32m+\u001b[39m \u001b[1mdocling-ibm-models\u001b[0m\u001b[2m==3.9.0\u001b[0m\n",
      " \u001b[32m+\u001b[39m \u001b[1mdocling-parse\u001b[0m\u001b[2m==4.1.0\u001b[0m\n",
      " \u001b[32m+\u001b[39m \u001b[1measyocr\u001b[0m\u001b[2m==1.7.2\u001b[0m\n",
      " \u001b[32m+\u001b[39m \u001b[1met-xmlfile\u001b[0m\u001b[2m==2.0.0\u001b[0m\n",
      " \u001b[32m+\u001b[39m \u001b[1mfilelock\u001b[0m\u001b[2m==3.18.0\u001b[0m\n",
      " \u001b[32m+\u001b[39m \u001b[1mfiletype\u001b[0m\u001b[2m==1.2.0\u001b[0m\n",
      " \u001b[32m+\u001b[39m \u001b[1mfonttools\u001b[0m\u001b[2m==4.59.0\u001b[0m\n",
      " \u001b[32m+\u001b[39m \u001b[1mfsspec\u001b[0m\u001b[2m==2025.7.0\u001b[0m\n",
      " \u001b[32m+\u001b[39m \u001b[1mgrpcio\u001b[0m\u001b[2m==1.67.1\u001b[0m\n",
      " \u001b[32m+\u001b[39m \u001b[1mhf-xet\u001b[0m\u001b[2m==1.1.5\u001b[0m\n",
      " \u001b[32m+\u001b[39m \u001b[1mhuggingface-hub\u001b[0m\u001b[2m==0.33.2\u001b[0m\n",
      " \u001b[32m+\u001b[39m \u001b[1mimageio\u001b[0m\u001b[2m==2.37.0\u001b[0m\n",
      " \u001b[32m+\u001b[39m \u001b[1mjiter\u001b[0m\u001b[2m==0.10.0\u001b[0m\n",
      " \u001b[32m+\u001b[39m \u001b[1mjmespath\u001b[0m\u001b[2m==1.0.1\u001b[0m\n",
      " \u001b[32m+\u001b[39m \u001b[1mjoblib\u001b[0m\u001b[2m==1.5.1\u001b[0m\n",
      " \u001b[32m+\u001b[39m \u001b[1mjsonlines\u001b[0m\u001b[2m==3.1.0\u001b[0m\n",
      " \u001b[32m+\u001b[39m \u001b[1mjsonpatch\u001b[0m\u001b[2m==1.33\u001b[0m\n",
      " \u001b[32m+\u001b[39m \u001b[1mjsonref\u001b[0m\u001b[2m==1.1.0\u001b[0m\n",
      " \u001b[32m+\u001b[39m \u001b[1mkiwisolver\u001b[0m\u001b[2m==1.4.8\u001b[0m\n",
      " \u001b[32m+\u001b[39m \u001b[1mlangchain-core\u001b[0m\u001b[2m==0.3.68\u001b[0m\n",
      " \u001b[32m+\u001b[39m \u001b[1mlangchain-openai\u001b[0m\u001b[2m==0.3.27\u001b[0m\n",
      " \u001b[32m+\u001b[39m \u001b[1mlangsmith\u001b[0m\u001b[2m==0.4.10\u001b[0m\n",
      " \u001b[32m+\u001b[39m \u001b[1mlatex2mathml\u001b[0m\u001b[2m==3.78.0\u001b[0m\n",
      " \u001b[32m+\u001b[39m \u001b[1mlazy-loader\u001b[0m\u001b[2m==0.4\u001b[0m\n",
      " \u001b[32m+\u001b[39m \u001b[1mlxml\u001b[0m\u001b[2m==5.4.0\u001b[0m\n",
      " \u001b[32m+\u001b[39m \u001b[1mmarkdown-it-py\u001b[0m\u001b[2m==3.0.0\u001b[0m\n",
      " \u001b[32m+\u001b[39m \u001b[1mmarko\u001b[0m\u001b[2m==2.1.4\u001b[0m\n",
      " \u001b[32m+\u001b[39m \u001b[1mmarshmallow\u001b[0m\u001b[2m==3.20.2\u001b[0m\n",
      " \u001b[32m+\u001b[39m \u001b[1mmatplotlib\u001b[0m\u001b[2m==3.8.4\u001b[0m\n",
      " \u001b[32m+\u001b[39m \u001b[1mmdurl\u001b[0m\u001b[2m==0.1.2\u001b[0m\n",
      " \u001b[32m+\u001b[39m \u001b[1mmilvus-lite\u001b[0m\u001b[2m==2.5.1\u001b[0m\n",
      " \u001b[32m+\u001b[39m \u001b[1mmpire\u001b[0m\u001b[2m==2.10.2\u001b[0m\n",
      " \u001b[32m+\u001b[39m \u001b[1mmpmath\u001b[0m\u001b[2m==1.3.0\u001b[0m\n",
      " \u001b[32m+\u001b[39m \u001b[1mmultiprocess\u001b[0m\u001b[2m==0.70.18\u001b[0m\n",
      " \u001b[32m+\u001b[39m \u001b[1mnetworkx\u001b[0m\u001b[2m==3.5\u001b[0m\n",
      " \u001b[32m+\u001b[39m \u001b[1mninja\u001b[0m\u001b[2m==1.11.1.4\u001b[0m\n",
      " \u001b[32m+\u001b[39m \u001b[1mnumpy\u001b[0m\u001b[2m==2.3.2\u001b[0m\n",
      " \u001b[32m+\u001b[39m \u001b[1mnvidia-cublas-cu12\u001b[0m\u001b[2m==12.6.4.1\u001b[0m\n",
      " \u001b[32m+\u001b[39m \u001b[1mnvidia-cuda-cupti-cu12\u001b[0m\u001b[2m==12.6.80\u001b[0m\n",
      " \u001b[32m+\u001b[39m \u001b[1mnvidia-cuda-nvrtc-cu12\u001b[0m\u001b[2m==12.6.77\u001b[0m\n",
      " \u001b[32m+\u001b[39m \u001b[1mnvidia-cuda-runtime-cu12\u001b[0m\u001b[2m==12.6.77\u001b[0m\n",
      " \u001b[32m+\u001b[39m \u001b[1mnvidia-cudnn-cu12\u001b[0m\u001b[2m==9.5.1.17\u001b[0m\n",
      " \u001b[32m+\u001b[39m \u001b[1mnvidia-cufft-cu12\u001b[0m\u001b[2m==11.3.0.4\u001b[0m\n",
      " \u001b[32m+\u001b[39m \u001b[1mnvidia-cufile-cu12\u001b[0m\u001b[2m==1.11.1.6\u001b[0m\n",
      " \u001b[32m+\u001b[39m \u001b[1mnvidia-curand-cu12\u001b[0m\u001b[2m==10.3.7.77\u001b[0m\n",
      " \u001b[32m+\u001b[39m \u001b[1mnvidia-cusolver-cu12\u001b[0m\u001b[2m==11.7.1.2\u001b[0m\n",
      " \u001b[32m+\u001b[39m \u001b[1mnvidia-cusparse-cu12\u001b[0m\u001b[2m==12.5.4.2\u001b[0m\n",
      " \u001b[32m+\u001b[39m \u001b[1mnvidia-cusparselt-cu12\u001b[0m\u001b[2m==0.6.3\u001b[0m\n",
      " \u001b[32m+\u001b[39m \u001b[1mnvidia-nccl-cu12\u001b[0m\u001b[2m==2.26.2\u001b[0m\n",
      " \u001b[32m+\u001b[39m \u001b[1mnvidia-nvjitlink-cu12\u001b[0m\u001b[2m==12.6.85\u001b[0m\n",
      " \u001b[32m+\u001b[39m \u001b[1mnvidia-nvtx-cu12\u001b[0m\u001b[2m==12.6.77\u001b[0m\n",
      " \u001b[32m+\u001b[39m \u001b[1mopenai\u001b[0m\u001b[2m==1.98.0\u001b[0m\n",
      " \u001b[32m+\u001b[39m \u001b[1mopencv-python-headless\u001b[0m\u001b[2m==4.11.0.86\u001b[0m\n",
      " \u001b[32m+\u001b[39m \u001b[1mopenpyxl\u001b[0m\u001b[2m==3.1.5\u001b[0m\n",
      " \u001b[32m+\u001b[39m \u001b[1morjson\u001b[0m\u001b[2m==3.11.1\u001b[0m\n",
      " \u001b[31m-\u001b[39m \u001b[1mpackaging\u001b[0m\u001b[2m==25.0\u001b[0m\n",
      " \u001b[32m+\u001b[39m \u001b[1mpackaging\u001b[0m\u001b[2m==24.2\u001b[0m\n",
      " \u001b[32m+\u001b[39m \u001b[1mpandas\u001b[0m\u001b[2m==2.3.1\u001b[0m\n",
      " \u001b[32m+\u001b[39m \u001b[1mpillow\u001b[0m\u001b[2m==11.3.0\u001b[0m\n",
      " \u001b[32m+\u001b[39m \u001b[1mpluggy\u001b[0m\u001b[2m==1.6.0\u001b[0m\n",
      " \u001b[32m+\u001b[39m \u001b[1mprotobuf\u001b[0m\u001b[2m==6.31.1\u001b[0m\n",
      " \u001b[32m+\u001b[39m \u001b[1mpyclipper\u001b[0m\u001b[2m==1.3.0.post6\u001b[0m\n",
      " \u001b[32m+\u001b[39m \u001b[1mpydantic\u001b[0m\u001b[2m==2.11.7\u001b[0m\n",
      " \u001b[32m+\u001b[39m \u001b[1mpydantic-core\u001b[0m\u001b[2m==2.33.2\u001b[0m\n",
      " \u001b[32m+\u001b[39m \u001b[1mpydantic-settings\u001b[0m\u001b[2m==2.10.1\u001b[0m\n",
      " \u001b[32m+\u001b[39m \u001b[1mpylatexenc\u001b[0m\u001b[2m==2.10\u001b[0m\n",
      " \u001b[32m+\u001b[39m \u001b[1mpymilvus\u001b[0m\u001b[2m==2.5.0\u001b[0m\n",
      " \u001b[32m+\u001b[39m \u001b[1mpyparsing\u001b[0m\u001b[2m==3.2.3\u001b[0m\n",
      " \u001b[32m+\u001b[39m \u001b[1mpypdfium2\u001b[0m\u001b[2m==4.30.0\u001b[0m\n",
      " \u001b[32m+\u001b[39m \u001b[1mpython-bidi\u001b[0m\u001b[2m==0.6.6\u001b[0m\n",
      " \u001b[32m+\u001b[39m \u001b[1mpython-docx\u001b[0m\u001b[2m==1.2.0\u001b[0m\n",
      " \u001b[32m+\u001b[39m \u001b[1mpython-dotenv\u001b[0m\u001b[2m==1.1.1\u001b[0m\n",
      " \u001b[32m+\u001b[39m \u001b[1mpython-pptx\u001b[0m\u001b[2m==1.0.2\u001b[0m\n",
      " \u001b[32m+\u001b[39m \u001b[1mpytz\u001b[0m\u001b[2m==2025.2\u001b[0m\n",
      " \u001b[32m+\u001b[39m \u001b[1mregex\u001b[0m\u001b[2m==2025.7.34\u001b[0m\n",
      " \u001b[32m+\u001b[39m \u001b[1mrequests-toolbelt\u001b[0m\u001b[2m==1.0.0\u001b[0m\n",
      " \u001b[32m+\u001b[39m \u001b[1mrich\u001b[0m\u001b[2m==14.1.0\u001b[0m\n",
      " \u001b[32m+\u001b[39m \u001b[1mrtree\u001b[0m\u001b[2m==1.4.0\u001b[0m\n",
      " \u001b[32m+\u001b[39m \u001b[1ms3transfer\u001b[0m\u001b[2m==0.10.4\u001b[0m\n",
      " \u001b[32m+\u001b[39m \u001b[1msafetensors\u001b[0m\u001b[2m==0.5.3\u001b[0m\n",
      " \u001b[32m+\u001b[39m \u001b[1mscikit-image\u001b[0m\u001b[2m==0.25.2\u001b[0m\n",
      " \u001b[32m+\u001b[39m \u001b[1mscikit-learn\u001b[0m\u001b[2m==1.4.2\u001b[0m\n",
      " \u001b[32m+\u001b[39m \u001b[1mscipy\u001b[0m\u001b[2m==1.16.1\u001b[0m\n",
      " \u001b[32m+\u001b[39m \u001b[1msemchunk\u001b[0m\u001b[2m==2.2.2\u001b[0m\n",
      " \u001b[32m+\u001b[39m \u001b[1msentence-transformers\u001b[0m\u001b[2m==3.0.1\u001b[0m\n",
      " \u001b[32m+\u001b[39m \u001b[1mshapely\u001b[0m\u001b[2m==2.1.1\u001b[0m\n",
      " \u001b[32m+\u001b[39m \u001b[1mshellingham\u001b[0m\u001b[2m==1.5.4\u001b[0m\n",
      " \u001b[32m+\u001b[39m \u001b[1msympy\u001b[0m\u001b[2m==1.14.0\u001b[0m\n",
      " \u001b[32m+\u001b[39m \u001b[1mtabulate\u001b[0m\u001b[2m==0.9.0\u001b[0m\n",
      " \u001b[32m+\u001b[39m \u001b[1mtenacity\u001b[0m\u001b[2m==9.1.2\u001b[0m\n",
      " \u001b[32m+\u001b[39m \u001b[1mthreadpoolctl\u001b[0m\u001b[2m==3.6.0\u001b[0m\n",
      " \u001b[32m+\u001b[39m \u001b[1mtifffile\u001b[0m\u001b[2m==2025.6.11\u001b[0m\n",
      " \u001b[32m+\u001b[39m \u001b[1mtiktoken\u001b[0m\u001b[2m==0.9.0\u001b[0m\n",
      " \u001b[32m+\u001b[39m \u001b[1mtokenizers\u001b[0m\u001b[2m==0.21.4\u001b[0m\n",
      " \u001b[32m+\u001b[39m \u001b[1mtorch\u001b[0m\u001b[2m==2.7.1\u001b[0m\n",
      " \u001b[32m+\u001b[39m \u001b[1mtorchvision\u001b[0m\u001b[2m==0.22.1\u001b[0m\n",
      " \u001b[32m+\u001b[39m \u001b[1mtqdm\u001b[0m\u001b[2m==4.67.1\u001b[0m\n",
      " \u001b[32m+\u001b[39m \u001b[1mtransformers\u001b[0m\u001b[2m==4.53.3\u001b[0m\n",
      " \u001b[32m+\u001b[39m \u001b[1mtriton\u001b[0m\u001b[2m==3.3.1\u001b[0m\n",
      " \u001b[32m+\u001b[39m \u001b[1mtyper\u001b[0m\u001b[2m==0.16.0\u001b[0m\n",
      " \u001b[32m+\u001b[39m \u001b[1mtyping-inspection\u001b[0m\u001b[2m==0.4.1\u001b[0m\n",
      " \u001b[32m+\u001b[39m \u001b[1mtzdata\u001b[0m\u001b[2m==2025.2\u001b[0m\n",
      " \u001b[32m+\u001b[39m \u001b[1mujson\u001b[0m\u001b[2m==5.10.0\u001b[0m\n",
      " \u001b[32m+\u001b[39m \u001b[1mxlsxwriter\u001b[0m\u001b[2m==3.2.5\u001b[0m\n",
      " \u001b[32m+\u001b[39m \u001b[1mzstandard\u001b[0m\u001b[2m==0.23.0\u001b[0m\n"
     ]
    }
   ],
   "source": [
    "# Step 1: Install necessary libraries (run in a cell if needed)\n",
    "!uv pip install -r requirements.txt"
   ]
  },
  {
   "cell_type": "markdown",
   "id": "a13b7a91-c996-444e-a1fe-3d991ff145ab",
   "metadata": {},
   "source": [
    "# Import libraries needed for this notebook\n",
    "\n",
    "⚠️ Note. You can safely ignore the *TqdmWarning*. This is simply because this JupyterLab notebook image does not have the ipywidgets progress bar widget installed."
   ]
  },
  {
   "cell_type": "code",
   "execution_count": 3,
   "id": "34e9a822-a34d-4755-b954-d76d2bf897f5",
   "metadata": {
    "scrolled": true
   },
   "outputs": [
    {
     "name": "stderr",
     "output_type": "stream",
     "text": [
      "/opt/app-root/lib64/python3.11/site-packages/sentence_transformers/cross_encoder/CrossEncoder.py:11: TqdmWarning: IProgress not found. Please update jupyter and ipywidgets. See https://ipywidgets.readthedocs.io/en/stable/user_install.html\n",
      "  from tqdm.autonotebook import tqdm, trange\n"
     ]
    }
   ],
   "source": [
    "from utils import *\n",
    "from pymilvus import connections, utility, Collection, CollectionSchema, FieldSchema, DataType\n",
    "from sentence_transformers import SentenceTransformer\n",
    "from sklearn.metrics.pairwise import cosine_similarity\n",
    "import numpy as np\n",
    "import matplotlib.pyplot as plt\n",
    "from sklearn.decomposition import PCA"
   ]
  },
  {
   "cell_type": "markdown",
   "id": "d46b4b4d-1ab1-4504-9b2f-9a1540cdfd82",
   "metadata": {},
   "source": [
    "# Initialise important variables\n",
    "Initialise key variables used in this lab that are not defined as external environment variables.  \n",
    "By initialising these at the top of the code we can more centrally manage them.  \n",
    "Ideally these should have been defined in the Workbench, but for this lab we are defining them in the notebook."
   ]
  },
  {
   "cell_type": "code",
   "execution_count": 4,
   "id": "f001c0d0-9d55-48e8-bb84-38ced6ad26dd",
   "metadata": {},
   "outputs": [],
   "source": [
    "milvus_uri=\"http://milvus-service.milvus.svc.cluster.local:19530\"\n",
    "llm_uri = \"http://llama3-2-3b-predictor.llama-serving.svc.cluster.local:8080/v1/completions\"\n",
    "model_name = \"llama3-2-3b\""
   ]
  },
  {
   "cell_type": "markdown",
   "id": "61b36009-61f9-4308-b770-8d5656c4090e",
   "metadata": {},
   "source": [
    "# Shakeout minio connection\n",
    "Test that S3 connectivity is working by listing the S3 buckets in the S3 service that we will be using for this lab.\n",
    "\n",
    "Note: These environment variables were defined when you configured your Workspace"
   ]
  },
  {
   "cell_type": "code",
   "execution_count": 5,
   "id": "51adc21c-8892-4ef2-ab9d-7d67dbf4775e",
   "metadata": {},
   "outputs": [
    {
     "name": "stdout",
     "output_type": "stream",
     "text": [
      "🔧 Configuration loaded successfully!\n",
      "🎯 S3 endpoint: minio.minio.svc.cluster.local:9000\n",
      "🔑 S3 Access key: minio\n",
      "📁 S3 Secret key: ******\n",
      "🌏 S3 region: none\n",
      "🪣 Bucket containing files: rag-docs\n",
      "🟢 Connection succeeded – buckets discovered:\n",
      "  • data\n",
      "  • models\n",
      "  • rag-docs\n"
     ]
    }
   ],
   "source": [
    "#!/usr/bin/env python3\n",
    "\"\"\"\n",
    "Shake-out test for a MinIO deployment on Kubernetes.\n",
    "\n",
    "Environment variables:\n",
    "  AWS_S3_ENDPOINT        – MinIO service DNS name (e.g. minio.minio.svc.cluster.local)\n",
    "  AWS_ACCESS_KEY_ID      – MinIO access key\n",
    "  AWS_SECRET_ACCESS_KEY  – MinIO secret key\n",
    "  AWS_DEFAULT_REGION     – Dummy value; boto3 still expects one\n",
    "\"\"\"\n",
    "import os\n",
    "import sys\n",
    "\n",
    "import boto3\n",
    "from botocore.client import Config\n",
    "from botocore.exceptions import BotoCoreError, ClientError\n",
    "\n",
    "\n",
    "endpoint = os.getenv(\"AWS_S3_ENDPOINT\")\n",
    "access_key = os.getenv(\"AWS_ACCESS_KEY_ID\")\n",
    "secret_key = os.getenv(\"AWS_SECRET_ACCESS_KEY\")\n",
    "region = os.getenv(\"AWS_DEFAULT_REGION\")\n",
    "bucket= os.getenv(\"AWS_S3_BUCKET\")\n",
    "\n",
    "print(\"🔧 Configuration loaded successfully!\")\n",
    "print(f\"🎯 S3 endpoint: {endpoint}\")\n",
    "print(f\"🔑 S3 Access key: {access_key}\")\n",
    "print(f\"📁 S3 Secret key: ******\")\n",
    "print(f\"🌏 S3 region: {region}\")\n",
    "print(f\"🪣 Bucket containing files: {bucket}\")\n",
    "\n",
    "minio_status = \"🟢 OK\"\n",
    "\n",
    "try:\n",
    "    s3 = boto3.client(\n",
    "        \"s3\",\n",
    "        endpoint_url=f\"http://{endpoint}\",\n",
    "        aws_access_key_id=access_key,\n",
    "        aws_secret_access_key=secret_key,\n",
    "        region_name=region,\n",
    "        config=Config(signature_version=\"s3v4\"),\n",
    "    )\n",
    "\n",
    "    resp = s3.list_buckets()\n",
    "    buckets = [b[\"Name\"] for b in resp.get(\"Buckets\", [])]\n",
    "\n",
    "    if buckets:\n",
    "        print(\"🟢 Connection succeeded – buckets discovered:\")\n",
    "        for name in buckets:\n",
    "            print(f\"  • {name}\")\n",
    "    else:\n",
    "        print(\"🟢 Connected but no buckets found.\")\n",
    "\n",
    "except (BotoCoreError, ClientError) as exc:\n",
    "    print(f\"🔴 MinIO connectivity test failed: {exc}\\n\"\n",
    "           \"   💁 Tip: Check your secret key via the terminal.\", file=sys.stderr)\n",
    "    minio_status=\"🔴 FAIL\""
   ]
  },
  {
   "cell_type": "markdown",
   "id": "5ae4bfa8-7250-457e-bc39-7dadefaf3d6a",
   "metadata": {},
   "source": [
    "# Shakeout the Milvus connectivity\n",
    "\n",
    "To test the health of the Milvus service we will create a database.  \n",
    "In this code we will:  \n",
    "* Connect to the Milvus server  \n",
    "* Create a collection  \n",
    "* Define a simple schema  "
   ]
  },
  {
   "cell_type": "code",
   "execution_count": 6,
   "id": "87ac1faa-dd01-43cd-95ff-47ac827222c2",
   "metadata": {},
   "outputs": [
    {
     "name": "stdout",
     "output_type": "stream",
     "text": [
      "Collection list: ['rag_vector_db', 'my_rag_collection', 'vectordb_collection']\n",
      "Collection list: ['rag_vector_db', 'my_rag_collection', 'vectordb_collection', 'shakeout_collection']\n"
     ]
    }
   ],
   "source": [
    "milvus_status = \"🟢 OK\"\n",
    "# This is the name of the collection that this program will use.\n",
    "collection_name = \"shakeout_collection\"\n",
    "\n",
    "try:\n",
    "    # Create the client object\n",
    "    connections.connect(\n",
    "        uri=milvus_uri,\n",
    "        alias=\"default\"\n",
    "    )\n",
    "    \n",
    "    # Make sure we start with a clean slate by deleting the collection if it exists from a prior run.\n",
    "    if utility.has_collection(collection_name):\n",
    "        utility.drop_collection(collection_name)\n",
    "    print(f\"Collection list: {utility.list_collections()}\") \n",
    "\n",
    "    ######################################\n",
    "    ##### Define the database schema #####\n",
    "    ######################################\n",
    "    # Databases need a schema. In this lab the schema will consist of an identifier and a vector that contains the embedding of a text string.\n",
    "    \n",
    "    # Define the primary key field for unique record identification\n",
    "    id_field = FieldSchema(\n",
    "        name=\"id\",\n",
    "        dtype=DataType.INT64,\n",
    "        is_primary=True,\n",
    "        auto_id=False\n",
    "    )\n",
    "\n",
    "    # Choose a reasonable number of dimensions that a common embedding model would use. \n",
    "    # (Note: This would normally be defined by the embedding model you use. You will see that in the next exercise.)\n",
    "    embedding_dim = 384    \n",
    "    \n",
    "    # Define the vector field to hold embedding values\n",
    "    embedding_field = FieldSchema(\n",
    "        name=\"embedding\",\n",
    "        dtype=DataType.FLOAT_VECTOR,\n",
    "        dim=embedding_dim\n",
    "    )\n",
    "    \n",
    "    # Assemble collection schema combining ID and embedding fields\n",
    "    schema = CollectionSchema(\n",
    "        fields=[id_field, embedding_field],\n",
    "        description=\"Milvus shakeout test\",\n",
    "        enable_dynamic_field=False\n",
    "    )\n",
    "\n",
    "    #######################################################\n",
    "    ##### Create the database with the defined schema #####\n",
    "    #######################################################\n",
    "    # Instantiate the Milvus collection using the defined schema and configuration\n",
    "    collection = Collection(\n",
    "        name=collection_name, \n",
    "        schema=schema, \n",
    "        using='default', \n",
    "        shards_num=2,\n",
    "        consistency_level=\"Strong\"\n",
    "    )\n",
    "\n",
    "    #####################################################################\n",
    "    ##### Verify we can query collections. If so, Milvus is running #####\n",
    "    #####################################################################\n",
    "    # List all collections in Milvus to confirm creation\n",
    "    print(f\"Collection list: {utility.list_collections()}\")\n",
    "\n",
    "    # Close the Milvus connection\n",
    "    collection.release()\n",
    "    utility.drop_collection(collection_name)\n",
    "except Exception as e:\n",
    "    milvus_status = \"🔴 FAIL\"\n",
    "    print(f\"❌ Milvus connection or operation failed: {str(e)}\")\n",
    "    import traceback\n",
    "    traceback.print_exc()"
   ]
  },
  {
   "cell_type": "markdown",
   "id": "3baf8106-8051-40b3-a55c-b9e34b2ca67a",
   "metadata": {},
   "source": [
    "# Download documents used in this module\n",
    "This step uses a helper funtion in the `utils.py` module to download all PDF documents from the Git repository and save it in the Minio S3 storage in the *rag-docs* bucket."
   ]
  },
  {
   "cell_type": "code",
   "execution_count": 7,
   "id": "561d1442-886e-4bcd-8c83-e71b8fc5a6ba",
   "metadata": {},
   "outputs": [
    {
     "name": "stdout",
     "output_type": "stream",
     "text": [
      "INFO: download_source_docs()\n",
      "INFO: validate_bucket()\n",
      "🪣 Bucket 'rag-docs' exists.\n",
      "⬇️ Downloading: https://raw.githubusercontent.com/odh-labs/rhoai-roadshow-v2/rag-dev/docs/2-rag/data/2502.07835v1.pdf\n",
      "⬆️ Uploading: 2502.07835v1.pdf to bucket rag-docs\n",
      "🟢 Uploaded '2502.07835v1.pdf' successfully.\n"
     ]
    }
   ],
   "source": [
    "# Copy all of the source documents into S3\n",
    "download_status = \"🟢 OK\"\n",
    "\n",
    "# Define the list of files to download for the RAG activities\n",
    "file_list = [\n",
    "    \"https://raw.githubusercontent.com/odh-labs/rhoai-roadshow-v2/rag-dev/docs/2-rag/data/2502.07835v1.pdf\"\n",
    "]\n",
    "\n",
    "try:\n",
    "    if download_source_docs( s3, bucket, file_list ) == False:\n",
    "        download_status=\"🔴 FAIL\"    \n",
    "except Exception as e:\n",
    "    print(f\"Error occurred: {e}\")\n",
    "    download_status=\"🔴 FAIL\""
   ]
  },
  {
   "cell_type": "markdown",
   "id": "4d142a29-d889-4e19-8460-e66b9fee387a",
   "metadata": {},
   "source": [
    "# Validate LLM connectivity\n",
    "Check that the LLM that is used by this lab is available."
   ]
  },
  {
   "cell_type": "code",
   "execution_count": 8,
   "id": "15b0bf4d-7839-45c8-a212-337316198c0d",
   "metadata": {},
   "outputs": [
    {
     "name": "stdout",
     "output_type": "stream",
     "text": [
      "✅ vLLM responded successfully:\n",
      "Completion: Canberra\n"
     ]
    }
   ],
   "source": [
    "import requests\n",
    "import json\n",
    "\n",
    "llm_status = \"🟢 OK\"\n",
    "\n",
    "payload = {\n",
    "    \"model\": model_name,\n",
    "    \"prompt\": \"What is the capital of Australia?\\nA:\",\n",
    "    \"max_tokens\": 50,\n",
    "    \"temperature\": 0.7,\n",
    "    \"stop\": [\"\\n\"]  # Prevent the LLM from generating extra questions as it responds.\n",
    "}\n",
    "\n",
    "headers = {\"Content-Type\": \"application/json\"}\n",
    "\n",
    "try:\n",
    "    response = requests.post(llm_uri, headers=headers, data=json.dumps(payload), timeout=10)\n",
    "    if response.ok:\n",
    "        result = response.json()\n",
    "        print(\"✅ vLLM responded successfully:\")\n",
    "        print(\"Completion:\", result[\"choices\"][0][\"text\"].strip())\n",
    "    else:\n",
    "        print(f\"⚠️ vLLM responded with status code {response.status_code}:\")\n",
    "        print(response.text)\n",
    "        llm_status = \"🔴 FAIL\"\n",
    "except requests.exceptions.RequestException as e:\n",
    "    print(f\"❌ Failed to reach vLLM at {llm_uri}: {e}\")\n",
    "    llm_status = \"🔴 FAIL\""
   ]
  },
  {
   "cell_type": "code",
   "execution_count": 9,
   "id": "2642df0a-1b7c-41d5-b61f-0ecb7aa5387a",
   "metadata": {},
   "outputs": [
    {
     "name": "stdout",
     "output_type": "stream",
     "text": [
      "Minio connectivity status: 🟢 OK\n",
      "Milvus status: 🟢 OK\n",
      "File download status: 🟢 OK\n",
      "LLM status: 🟢 OK\n",
      "\n",
      "If all results are OK, return to your lab workbook for further instructions. If any have an error please inform your instructor.\n"
     ]
    }
   ],
   "source": [
    "print(f\"Minio connectivity status: {minio_status}\")\n",
    "print(f\"Milvus status: {milvus_status}\")\n",
    "print(f\"File download status: {download_status}\")\n",
    "print(f\"LLM status: {llm_status}\")\n",
    "\n",
    "print(\"\\nIf all results are OK, return to your lab workbook for further instructions. If any have an error please inform your instructor.\")"
   ]
  }
 ],
 "metadata": {
  "kernelspec": {
   "display_name": "Python 3.11",
   "language": "python",
   "name": "python3"
  },
  "language_info": {
   "codemirror_mode": {
    "name": "ipython",
    "version": 3
   },
   "file_extension": ".py",
   "mimetype": "text/x-python",
   "name": "python",
   "nbconvert_exporter": "python",
   "pygments_lexer": "ipython3",
   "version": "3.11.11"
  }
 },
 "nbformat": 4,
 "nbformat_minor": 5
}
