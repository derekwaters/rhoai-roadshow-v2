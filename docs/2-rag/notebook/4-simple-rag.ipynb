{
 "cells": [
  {
   "cell_type": "markdown",
   "id": "72373e99-c9a9-44be-b0a8-d572666c4a0b",
   "metadata": {},
   "source": [
    "# 🔧 Environment Setup and Dependencies\n",
    "\n",
    "Before we begin, let's install the required packages. This RAG implementation uses several key libraries:\n",
    "\n",
    "- **`docling`**: Advanced PDF parsing and document structure extraction\n",
    "- **`sentence-transformers`**: Pre-trained models for text embeddings\n",
    "- **`pymilvus`**: Python client for Milvus vector database\n",
    "- **`langchain-openai`**: LLM integration and prompt templating\n",
    "- **`boto3`**: AWS/MinIO S3 client for object storage\n",
    "- **`httpx`**: HTTP client for API calls\n",
    "- **`tqdm`**: Progress bars for better user experience\n",
    "\n",
    "> **Note**: The installation may take a few minutes as it downloads pre-trained models and dependencies.\n"
   ]
  },
  {
   "cell_type": "code",
   "execution_count": 1,
   "id": "cd443db6-4eca-42c3-b63a-be3286249a67",
   "metadata": {},
   "outputs": [
    {
     "name": "stdout",
     "output_type": "stream",
     "text": [
      "\u001b[2mUsing Python 3.11.11 environment at: /opt/app-root\u001b[0m\n",
      "\u001b[2mAudited \u001b[1m10 packages\u001b[0m \u001b[2min 21ms\u001b[0m\u001b[0m\n"
     ]
    }
   ],
   "source": [
    "!uv pip install -r requirements.txt"
   ]
  },
  {
   "cell_type": "code",
   "execution_count": 2,
   "id": "08964f15-4c5b-48da-aaed-8d0bb817fc68",
   "metadata": {},
   "outputs": [
    {
     "name": "stderr",
     "output_type": "stream",
     "text": [
      "/opt/app-root/lib64/python3.11/site-packages/tqdm/auto.py:21: TqdmWarning: IProgress not found. Please update jupyter and ipywidgets. See https://ipywidgets.readthedocs.io/en/stable/user_install.html\n",
      "  from .autonotebook import tqdm as notebook_tqdm\n"
     ]
    }
   ],
   "source": [
    "# Core Python libraries\n",
    "import os\n",
    "import json\n",
    "import sys\n",
    "from pathlib import Path\n",
    "\n",
    "# Object storage and cloud services\n",
    "import boto3\n",
    "from botocore.config import Config\n",
    "\n",
    "# Document processing and parsing\n",
    "from docling.document_converter import DocumentConverter\n",
    "from docling_core.transforms.chunker.hierarchical_chunker import HierarchicalChunker\n",
    "\n",
    "# Vector database\n",
    "from pymilvus import connections, utility, Collection, CollectionSchema, FieldSchema, DataType\n",
    "\n",
    "# LLM integration and prompt management\n",
    "from langchain_openai import ChatOpenAI\n",
    "from langchain_core.prompts import ChatPromptTemplate\n",
    "from langchain_core.prompts.chat import SystemMessagePromptTemplate, HumanMessagePromptTemplate\n",
    "\n",
    "# HTTP client for API calls\n",
    "import httpx\n",
    "\n",
    "# Matplotlib for visualization\n",
    "import matplotlib.pyplot as plt\n",
    "# PCA for dimensionality reduction\n",
    "from sklearn.decomposition import PCA\n",
    "\n",
    "# Progress tracking for user experience\n",
    "from tqdm import tqdm"
   ]
  },
  {
   "cell_type": "markdown",
   "id": "fb50b9a4-9eae-4a1c-b8ef-d397ef7c0483",
   "metadata": {},
   "source": [
    "# ⚙️ Configuration and Connection Setup\n",
    "\n",
    "This section configures the various services our RAG system depends on:\n",
    "\n",
    "## Object Storage Configuration\n",
    "- **MinIO/S3**: For storing and retrieving source documents\n",
    "- **Bucket and Object**: Specifies which document to process\n",
    "\n",
    "## Model and Database Configuration\n",
    "- **Embedding Model**: The SentenceTransformer model for text embeddings\n",
    "- **Vector Database**: Milvus connection details\n",
    "- **LLM Endpoint**: The inference server for generating responses\n",
    "\n",
    "> **Environment Variables**: These configurations are typically stored as environment variables for security and flexibility across different deployment environments.\n"
   ]
  },
  {
   "cell_type": "code",
   "execution_count": 3,
   "id": "5f4d9cd0-05a5-4073-b76a-7ab829679400",
   "metadata": {},
   "outputs": [
    {
     "name": "stdout",
     "output_type": "stream",
     "text": [
      "🔧 Configuration loaded successfully!\n",
      "🪣 Bucket containing files: rag-docs\n",
      "📁 Document to process: 2502.07835v1.pdf\n",
      "🔗 Inference server: http://llama3-2-3b-predictor.llama-serving.svc.cluster.local:8080/v1\n",
      "🔗 Inference model name: llama3-2-3b\n",
      "🗃️ Vector database: http://milvus-service.milvus.svc.cluster.local:19530\n",
      "🧠 Embedding model: all-MiniLM-L6-v2\n"
     ]
    }
   ],
   "source": [
    "# ===== STORAGE CONFIGURATION =====\n",
    "# MinIO/S3 object storage settings - used for retrieving source documents\n",
    "endpoint = os.getenv(\"AWS_S3_ENDPOINT\")           # MinIO service DNS name (e.g. minio.minio.svc.cluster.local)\n",
    "access_key = os.getenv(\"AWS_ACCESS_KEY_ID\")       # MinIO access key credentials\n",
    "secret_key = os.getenv(\"AWS_SECRET_ACCESS_KEY\")   # MinIO secret key credentials\n",
    "region = os.getenv(\"AWS_DEFAULT_REGION\")          # AWS region (dummy value for MinIO)\n",
    "bucket_name = os.getenv(\"AWS_S3_BUCKET\")          # Bucket containing our source documents\n",
    "object_key = \"2502.07835v1.pdf\"                   # Specific PDF document to process (research paper on AI code assessment)\n",
    "download_dir = \"downloads\"                        # Local directory for downloaded documents\n",
    "\n",
    "# ===== MODEL AND INFERENCE CONFIGURATION =====\n",
    "# LLM inference server - provides the generation capabilities for RAG responses\n",
    "# Default to a known default if the environment variable is not defined.\n",
    "inference_server_url = os.getenv(\"INFERENCE_SERVER_URL\", \"http://llama3-2-3b-predictor.llama-serving.svc.cluster.local:8080/v1\")\n",
    "inference_server_model_name = os.getenv(\"INFERENCE_SERVER_MODEL_NAME\", \"llama3-2-3b\")\n",
    "\n",
    "# Vector database configuration\n",
    "milvus_url = \"http://milvus-service.milvus.svc.cluster.local:19530\"\n",
    "collection_name = \"my_rag_collection\"\n",
    "\n",
    "# Embedding model configuration\n",
    "embedding_model_name = \"all-MiniLM-L6-v2\"  # Lightweight, effective model for semantic similarity\n",
    "\n",
    "print(\"🔧 Configuration loaded successfully!\")\n",
    "print(f\"🪣 Bucket containing files: {bucket_name}\")\n",
    "print(f\"📁 Document to process: {object_key}\")\n",
    "print(f\"🔗 Inference server: {inference_server_url}\")\n",
    "print(f\"🔗 Inference model name: {inference_server_model_name}\")\n",
    "print(f\"🗃️ Vector database: {milvus_url}\")\n",
    "print(f\"🧠 Embedding model: {embedding_model_name}\")"
   ]
  },
  {
   "cell_type": "markdown",
   "id": "ed065a2f-157f-491b-b2d2-923a21566cfb",
   "metadata": {},
   "source": [
    "## 🪣 Connect to the s3 storage to retrieve the documents"
   ]
  },
  {
   "cell_type": "code",
   "execution_count": 4,
   "id": "23873c03-a3a7-48ff-a66d-f96b8de90e65",
   "metadata": {},
   "outputs": [
    {
     "name": "stdout",
     "output_type": "stream",
     "text": [
      "📥 Preparing to download document...\n",
      "   Source: rag-docs/2502.07835v1.pdf\n",
      "   Destination: downloads/2502.07835v1.pdf\n",
      "🔄 Downloading document for processing...\n",
      "✅ Successfully downloaded '2502.07835v1.pdf' to 'downloads/2502.07835v1.pdf'\n",
      "📊 File size: 1,870,265 bytes (1.8 MB)\n"
     ]
    }
   ],
   "source": [
    "# ===== INITIALIZE S3/MINIO CLIENT =====\n",
    "# Create boto3 client configured for MinIO (S3-compatible object storage)\n",
    "s3 = boto3.client(\n",
    "    \"s3\",\n",
    "    endpoint_url=f\"http://{endpoint}\",        # MinIO endpoint URL\n",
    "    aws_access_key_id=access_key,             # Authentication credentials\n",
    "    aws_secret_access_key=secret_key,\n",
    "    region_name=region,                       # Required by boto3, but not used by MinIO\n",
    "    config=Config(signature_version=\"s3v4\"),  # S3 signature version for authentication\n",
    ")\n",
    "\n",
    "# ===== PREPARE LOCAL STORAGE =====\n",
    "# Create local directory to store downloaded documents\n",
    "os.makedirs(download_dir, exist_ok=True)\n",
    "local_path = os.path.join(download_dir, object_key)\n",
    "\n",
    "print(f\"📥 Preparing to download document...\")\n",
    "print(f\"   Source: {bucket_name}/{object_key}\")\n",
    "print(f\"   Destination: {local_path}\")\n",
    "\n",
    "# ===== DOWNLOAD DOCUMENT =====\n",
    "# Download the PDF document from object storage with proper error handling\n",
    "try:\n",
    "    print(f\"🔄 Downloading document for processing...\")\n",
    "    s3.download_file(bucket_name, object_key, local_path)\n",
    "    print(f\"✅ Successfully downloaded '{object_key}' to '{local_path}'\")\n",
    "    \n",
    "    # Verify the file was downloaded and get its size\n",
    "    file_size = os.path.getsize(local_path)\n",
    "    print(f\"📊 File size: {file_size:,} bytes ({file_size/1024/1024:.1f} MB)\")\n",
    "    \n",
    "except s3.exceptions.NoSuchKey:\n",
    "    print(f\"❌ ERROR: File '{object_key}' not found in bucket '{bucket_name}'\")\n",
    "    print(\"   Please check the bucket name and object key are correct.\")\n",
    "except Exception as e:\n",
    "    print(f\"❌ ERROR: Failed to download file: {e}\")\n",
    "    print(\"   Please check your MinIO/S3 configuration and network connectivity.\")"
   ]
  },
  {
   "cell_type": "markdown",
   "id": "32670b30-629f-4563-b44f-e71d8b04aaff",
   "metadata": {},
   "source": [
    "---\n",
    "# 📄 Docling: Preparing Text for RAG Systems\n",
    "\n",
    "**Docling** is used to prepare documents for Retrieval-Augmented Generation (RAG) systems.\n",
    "\n",
    "Text documents such as PDFs, HTML pages, or plain text need to be **converted into chunks** that can be embedded and stored in a vector database. Docling simplifies this process by extracting, cleaning, and chunking content into well-structured semantic units.\n",
    "\n",
    "For this lab, Docling will be used to prepare documents before they are embedded and indexed in Milvus.\n",
    "\n",
    "---\n",
    "\n",
    "## What is Docling?\n",
    "\n",
    "**Docling** is a Python library designed for **document preparation** in GenAI pipelines. Its role is to transform unstructured content into structured, embeddable units, typically for use in:\n",
    "\n",
    "- **RAG applications**: Extracting retrievable units from long documents\n",
    "- **Semantic search pipelines**: Chunking content into searchable segments\n",
    "- **LLM input pipelines**: Creating well-scoped context windows\n",
    "\n",
    "Docling is particularly useful for converting complex documents like PDFs into consistent formats that can be embedded by LLMs.\n",
    "\n",
    "---\n",
    "\n",
    "## Why Use Docling?\n",
    "\n",
    "**Docling** provides:\n",
    "\n",
    "- **Multi-format support**: PDF, DOCX, TXT, Markdown, HTML\n",
    "- **Intelligent chunking**: Preserves context while segmenting content\n",
    "- **Metadata extraction**: Title, headers, sections, and more\n",
    "- **Customisable workflows**: Fine-tune chunk size, overlap, and cleaning\n",
    "- **Streamlined RAG integration**: Designed to fit directly into vector pipelines\n",
    "\n",
    "---\n",
    "\n",
    "## Key Concepts\n",
    "\n",
    "### Chunking\n",
    "- Breaks large documents into smaller parts for efficient retrieval.\n",
    "- Can be based on token count, sentence boundaries, or structure (e.g. headings).\n",
    "- Prevents LLMs from exceeding context window limits.\n",
    "\n",
    "### Overlap\n",
    "- Ensures context is preserved across chunks.\n",
    "- Helpful in maintaining continuity of thought or narrative.\n",
    "\n",
    "### Metadata\n",
    "- Docling can attach metadata (e.g. file name, page number, section header) to each chunk.\n",
    "- Useful for traceability and debugging in RAG outputs.\n",
    "\n",
    "---\n",
    "\n",
    "## Typical Docling Workflow\n",
    "\n",
    "1. **Load the document**\n",
    "   - From local files or URLs\n",
    "\n",
    "2. **Parse and clean**\n",
    "   - Normalise spacing, remove boilerplate, handle special characters\n",
    "\n",
    "3. **Chunk**\n",
    "   - Create segments that fit within model context limits\n",
    "\n",
    "4. **Enrich**\n",
    "   - Add metadata such as section titles or page numbers\n",
    "\n",
    "5. **Output**\n",
    "   - Return a list of chunk objects ready for embedding\n",
    "\n",
    "---\n",
    "\n",
    "Let’s use Docling to transform raw documents into structured, retrievable content!\n"
   ]
  },
  {
   "cell_type": "markdown",
   "id": "13a8e142-c422-4a84-bea7-887aa9862ba8",
   "metadata": {},
   "source": [
    "---\n",
    "## 1. Load the document"
   ]
  },
  {
   "cell_type": "code",
   "execution_count": 5,
   "id": "8144c5f0-b14e-480f-8d69-adbc793c336e",
   "metadata": {},
   "outputs": [
    {
     "name": "stdout",
     "output_type": "stream",
     "text": [
      "🟢 INFO: Found document at: /opt/app-root/src/rhoai-roadshow-v2/docs/2-rag/notebook/downloads/2502.07835v1.pdf\n"
     ]
    }
   ],
   "source": [
    "from utils import project_root\n",
    "\n",
    "# Assemble a complete path to the file so the document import can properly and reliably always find the document.\n",
    "doc_source = project_root() / local_path\n",
    "\n",
    "if not doc_source.is_file():\n",
    "    raise FileNotFoundError(f\"{doc_source} does not exist.\")\n",
    "\n",
    "print(f\"🟢 INFO: Found document at: {doc_source}\")"
   ]
  },
  {
   "cell_type": "markdown",
   "id": "0d7e4aa2-2651-480d-b92b-bbd54463b3d6",
   "metadata": {},
   "source": [
    "---\n",
    "## 2. Parse and clean\n",
    "First we parse the document and store it in an internal Docling format"
   ]
  },
  {
   "cell_type": "code",
   "execution_count": 6,
   "id": "c36081b3-4b28-40f7-9ef4-1c26ad36a50e",
   "metadata": {},
   "outputs": [
    {
     "name": "stdout",
     "output_type": "stream",
     "text": [
      "🟢 INFO: {1: PageItem(size=Size(width=612.0, height=792.0), image=None, page_no=1), 2: PageItem(size=Size(width=612.0, height=792.0), image=None, page_no=2), 3: PageItem(size=Size(width=612.0, height=792.0), image=None, page_no=3), 4: PageItem(size=Size(width=612.0, height=792.0), image=None, page_no=4), 5: PageItem(size=Size(width=612.0, height=792.0), image=None, page_no=5), 6: PageItem(size=Size(width=612.0, height=792.0), image=None, page_no=6), 7: PageItem(size=Size(width=612.0, height=792.0), image=None, page_no=7), 8: PageItem(size=Size(width=612.0, height=792.0), image=None, page_no=8), 9: PageItem(size=Size(width=612.0, height=792.0), image=None, page_no=9), 10: PageItem(size=Size(width=612.0, height=792.0), image=None, page_no=10), 11: PageItem(size=Size(width=612.0, height=792.0), image=None, page_no=11), 12: PageItem(size=Size(width=612.0, height=792.0), image=None, page_no=12), 13: PageItem(size=Size(width=612.0, height=792.0), image=None, page_no=13)}\n"
     ]
    }
   ],
   "source": [
    "\"\"\"\n",
    "Parse and chunk a PDF using Docling v2.x\n",
    "\"\"\"\n",
    "doc = DocumentConverter().convert(source=doc_source).document\n",
    "\n",
    "print(f\"🟢 INFO: {doc.pages}\")"
   ]
  },
  {
   "cell_type": "markdown",
   "id": "723a7e45-a680-413c-9d18-600afdb90570",
   "metadata": {},
   "source": [
    "--- \n",
    "## 3. Chunk the document\n",
    "This code loads the document and converts it to chunks that can be invididually embedded.\n",
    "Once the document is chunked it can be stored in the database."
   ]
  },
  {
   "cell_type": "code",
   "execution_count": 7,
   "id": "cd0e5e2c-f062-433d-a8a1-d6ce7664392a",
   "metadata": {},
   "outputs": [
    {
     "name": "stdout",
     "output_type": "stream",
     "text": [
      "📄 Processing document with Docling...\n",
      "   Converting PDF: /opt/app-root/src/rhoai-roadshow-v2/docs/2-rag/notebook/downloads/2502.07835v1.pdf\n",
      "📊 DOCUMENT ANALYSIS:\n",
      "   • Total pages: 13\n",
      "   • Document type: <class 'docling_core.types.doc.document.DoclingDocument'>\n",
      "   • Processing strategy: Structure-aware parsing\n",
      "\n",
      "🔪 Chunking document into smaller pieces...\n",
      "   • Strategy: Hierarchical chunking\n",
      "   • Benefits: Preserves document structure and context\n",
      "📈 CHUNKING RESULTS:\n",
      "   • Total chunks created: 70\n",
      "   • Average chunk length: 326 characters\n",
      "   • Shortest chunk: 6 characters\n",
      "   • Longest chunk: 1545 characters\n",
      "\n",
      "📝 SAMPLE CHUNK (first 200 characters):\n",
      "   \"ahilanp@gmail.com...\"\n",
      "\n",
      "✅ Document processing complete! Ready for embedding generation.\n"
     ]
    }
   ],
   "source": [
    "# ===== DOCUMENT PROCESSING AND CHUNKING =====\n",
    "# Now let's process our PDF document and break it into searchable chunks\n",
    "print(\"📄 Processing document with Docling...\")\n",
    "\n",
    "# Initialize document converter and chunker\n",
    "converter = DocumentConverter()\n",
    "chunker = HierarchicalChunker()\n",
    "\n",
    "# Convert the PDF to a structured document object\n",
    "print(f\"   Converting PDF: {doc_source}\")\n",
    "doc = converter.convert(source=doc_source).document\n",
    "\n",
    "# Analyze document structure\n",
    "print(f\"📊 DOCUMENT ANALYSIS:\")\n",
    "print(f\"   • Total pages: {len(doc.pages)}\")\n",
    "print(f\"   • Document type: {type(doc)}\")\n",
    "\n",
    "# Document metadata would be available here if the document contained it\n",
    "print(f\"   • Processing strategy: Structure-aware parsing\")\n",
    "\n",
    "# Perform hierarchical chunking\n",
    "print(f\"\\n🔪 Chunking document into smaller pieces...\")\n",
    "print(f\"   • Strategy: Hierarchical chunking\")\n",
    "print(f\"   • Benefits: Preserves document structure and context\")\n",
    "\n",
    "# Extract text chunks from the document\n",
    "texts = [chunk.text for chunk in chunker.chunk(doc)]\n",
    "\n",
    "print(f\"📈 CHUNKING RESULTS:\")\n",
    "print(f\"   • Total chunks created: {len(texts)}\")\n",
    "print(f\"   • Average chunk length: {sum(len(text) for text in texts) / len(texts):.0f} characters\")\n",
    "print(f\"   • Shortest chunk: {min(len(text) for text in texts)} characters\")\n",
    "max_chunk_size = max(len(text) for text in texts)             # This is needed for defining the Milvus schema.\n",
    "print(f\"   • Longest chunk: {max_chunk_size} characters\")\n",
    "\n",
    "# Show a sample chunk\n",
    "print(f\"\\n📝 SAMPLE CHUNK (first 200 characters):\")\n",
    "print(f\"   \\\"{texts[0][:200]}...\\\"\")\n",
    "\n",
    "print(f\"\\n✅ Document processing complete! Ready for embedding generation.\")"
   ]
  },
  {
   "cell_type": "markdown",
   "id": "3f25d9d7-a5af-4cb2-94a1-1235bb2c1c40",
   "metadata": {},
   "source": [
    "---\n",
    "## 4. Enrich\n",
    "We won't be doing any enrichment in this lab."
   ]
  },
  {
   "cell_type": "markdown",
   "id": "e8864db5-ee23-4dea-8139-cd58a3d52f80",
   "metadata": {},
   "source": [
    "---\n",
    "## 5. Output\n",
    "Because we are not enriching the documents we already have the output from step 3."
   ]
  },
  {
   "cell_type": "markdown",
   "id": "cc3b8066-e98f-4fa3-888c-5626d95cb483",
   "metadata": {},
   "source": [
    "---\n",
    "# Embedding the the document chunks\n",
    "As we saw in the previous activity, whenever we store our objects in a vector database we need to convert them to a vector. To do that we need an embedding model.\n",
    "\n",
    "## Configure the transformer model for embedding the documents"
   ]
  },
  {
   "cell_type": "code",
   "execution_count": 8,
   "id": "d4ac0725-49c2-4e4c-86d0-a89e344f0aa5",
   "metadata": {},
   "outputs": [],
   "source": [
    "from sentence_transformers import SentenceTransformer\n",
    "\n",
    "# Select the model we will use for embedding chunks\n",
    "embedding_model=\"all-MiniLM-L6-v2\"\n",
    "model = SentenceTransformer(embedding_model)"
   ]
  },
  {
   "cell_type": "code",
   "execution_count": 9,
   "id": "5cefa6e0-e615-429b-a25c-3a0e882a457c",
   "metadata": {},
   "outputs": [],
   "source": [
    "# Here we have created a simple helper function `emb_text()` that we will use when we embed the chunks.\n",
    "\"\"\"\n",
    "Text Embedding Module  \n",
    "This module initialises a SentenceTransformer model using the ‘all-MiniLM-L6-v2’ embedding model and provides a function to generate text embeddings.\n",
    "\n",
    "Global Variables:\n",
    "    embedding_model (str): Name of the Hugging Face embedding model to load.\n",
    "    model (SentenceTransformer): Instance of SentenceTransformer initialised with the specified embedding model.\n",
    "\n",
    "Functions:\n",
    "    emb_text(text: str) -> list[float]:\n",
    "        Encode the input text and return its embedding vector as a list of floats.\n",
    "\"\"\"\n",
    "def emb_text(text: str) -> list[float]:\n",
    "    return model.encode(text)"
   ]
  },
  {
   "cell_type": "markdown",
   "id": "d25fce4f-8811-41c3-a93f-bc5d963708cc",
   "metadata": {},
   "source": [
    "## Test the embedding is working and also extract the dimensions\n",
    "This next code not only tests the embedding is working, but also determines the dimensions that the embedding model generates. We need that number for when we define the vector database schema later on."
   ]
  },
  {
   "cell_type": "code",
   "execution_count": 10,
   "id": "1c942a6e-18e7-4a1b-983d-c9bfbd32eb23",
   "metadata": {},
   "outputs": [
    {
     "name": "stdout",
     "output_type": "stream",
     "text": [
      "🧪 Testing embedding function with sample text...\n",
      "📊 EMBEDDING ANALYSIS:\n",
      "   • Input text: 'This is a test sentence to demonstrate text embeddings.'\n",
      "   • Embedding dimensions: 384\n",
      "   • Data type: <class 'numpy.ndarray'>\n",
      "   • Sample values: [-0.00573698  0.00202521  0.07564172  0.0383721   0.02895643  0.0611613\n",
      " -0.01208316 -0.01273861  0.02499382 -0.04949658]\n",
      "   • Value range: [-0.1730, 0.1419]\n"
     ]
    }
   ],
   "source": [
    "# ===== EMBEDDING DIMENSION EXPLORATION =====\n",
    "# Test our embedding function to understand the output format and dimensions\n",
    "# This information is crucial for configuring the vector database schema\n",
    "\n",
    "print(\"🧪 Testing embedding function with sample text...\")\n",
    "test_text = \"This is a test sentence to demonstrate text embeddings.\"\n",
    "test_embedding = emb_text(test_text)\n",
    "embedding_dim = len(test_embedding)\n",
    "\n",
    "print(f\"📊 EMBEDDING ANALYSIS:\")\n",
    "print(f\"   • Input text: '{test_text}'\")\n",
    "print(f\"   • Embedding dimensions: {embedding_dim}\")    # We need this value when we define the Milvus schema\n",
    "print(f\"   • Data type: {type(test_embedding)}\")\n",
    "print(f\"   • Sample values: {test_embedding[:10]}\")\n",
    "print(f\"   • Value range: [{min(test_embedding):.4f}, {max(test_embedding):.4f}]\")\n"
   ]
  },
  {
   "cell_type": "markdown",
   "id": "64cd9b17-08d6-4c43-868e-3b7d3bc9f64e",
   "metadata": {},
   "source": [
    "## Create the embeddings (vectors) for all of the document chunks \n",
    "Iterate through all of the chunks and creayte an embedding vecotr for them. Later we will store these in the vector database"
   ]
  },
  {
   "cell_type": "code",
   "execution_count": 11,
   "id": "43c3ea5d-a0ca-4eb3-b732-0fa654803b5f",
   "metadata": {},
   "outputs": [
    {
     "name": "stdout",
     "output_type": "stream",
     "text": [
      "🔄 Generating embeddings for all document chunks...\n",
      "   Processing 70 chunks with all-MiniLM-L6-v2\n"
     ]
    },
    {
     "name": "stderr",
     "output_type": "stream",
     "text": [
      "🧮 Embedding chunks: 100%|██████████| 70/70 [00:00<00:00, 185.71it/s]"
     ]
    },
    {
     "name": "stdout",
     "output_type": "stream",
     "text": [
      "\n",
      "📊 EMBEDDING STATISTICS:\n",
      "   • Total chunks embedded: 70\n",
      "   • Total words processed: 3,313\n",
      "   • Average words per chunk: 47.3\n",
      "   • Embedding dimensions: 384\n",
      "   • Memory usage: ~0.1 MB\n"
     ]
    },
    {
     "name": "stderr",
     "output_type": "stream",
     "text": [
      "\n"
     ]
    }
   ],
   "source": [
    "# ===== EMBEDDING GENERATION AND STORAGE =====\n",
    "print(\"🔄 Generating embeddings for all document chunks...\")\n",
    "print(f\"   Processing {len(texts)} chunks with {embedding_model_name}\")\n",
    "\n",
    "# Prepare data structure for batch insertion (Milvus expects a list of dicts)\n",
    "data = []\n",
    "embeddings_list = []  # 🔹 Collect embeddings for plotting PCA below\n",
    "total_tokens = 0\n",
    "doc_name = object_key  # This is the file name that we are embedding\n",
    "\n",
    "# Process each chunk: generate embedding and prepare for storage\n",
    "for i, chunk in enumerate(tqdm(texts, desc=\"🧮 Embedding chunks\")):\n",
    "    # Generate embedding for this chunk\n",
    "    embedding = emb_text(chunk)\n",
    "    \n",
    "    # Add embedding to list for PCA plotting below\n",
    "    embeddings_list.append(embedding)\n",
    "\n",
    "    # Prepare record for Milvus\n",
    "    data.append({\n",
    "        \"id\": i,                             # Unique identifier for this chunk\n",
    "        \"embedding\": embedding.tolist(),     # Convert the vectyor to a list for Milvus\n",
    "        \"original_text\" : chunk,             # The original text in the chunk\n",
    "        \"metadata\": doc_name                 # Constant metadata\n",
    "    })\n",
    "    \n",
    "    # Track statistics\n",
    "    total_tokens += len(chunk.split())\n",
    "\n",
    "# Display embedding statistics\n",
    "print(f\"\\n📊 EMBEDDING STATISTICS:\")\n",
    "print(f\"   • Total chunks embedded: {len(data)}\")\n",
    "print(f\"   • Total words processed: {total_tokens:,}\")\n",
    "print(f\"   • Average words per chunk: {total_tokens/len(data):.1f}\")\n",
    "print(f\"   • Embedding dimensions: {len(data[0]['embedding'])}\")\n",
    "print(f\"   • Memory usage: ~{len(data) * len(data[0]['embedding']) * 4 / 1024 / 1024:.1f} MB\")"
   ]
  },
  {
   "cell_type": "markdown",
   "id": "879a3f89-8b21-4770-bb2d-96412d41613a",
   "metadata": {},
   "source": [
    "# 📊 Visualizing Vector Embeddings (Optional Educational Step)\n",
    "\n",
    "## Understanding Vector Spaces\n",
    "\n",
    "Embeddings exist in high-dimensional space (384 dimensions in our case), which is difficult to visualize directly. However, we can use dimensionality reduction techniques to project these vectors into 2D or 3D space for visualization.\n",
    "\n",
    "## Tools for Visualization\n",
    "\n",
    "### TensorFlow Projector\n",
    "- **URL**: https://projector.tensorflow.org/\n",
    "- **Purpose**: Interactive visualization of high-dimensional embeddings\n",
    "- **Features**: \n",
    "  - PCA and t-SNE dimensionality reduction\n",
    "  - Color-coding and clustering\n",
    "  - Interactive exploration of vector neighborhoods\n",
    "\n",
    "### How It Works\n",
    "\n",
    "1. **Dimensionality Reduction**: Algorithms like PCA or t-SNE compress 384D vectors to 2D/3D\n",
    "2. **Semantic Clustering**: Similar concepts appear close together in the visualization\n",
    "3. **Interactive Exploration**: Click on points to see the original text and find similar chunks\n",
    "\n",
    "## What You Would See\n",
    "\n",
    "- **Document Clusters**: Related sections of the paper grouped together\n",
    "- **Concept Boundaries**: Clear separation between different topics\n",
    "- **Similarity Relationships**: Semantic connections between text chunks\n",
    "\n",
    "## Educational Value\n",
    "\n",
    "Visualizing embeddings helps you understand:\n",
    "- How semantic similarity translates to geometric proximity\n",
    "- Why vector search is effective for finding related content\n",
    "- The relationship between embedding quality and retrieval performance\n",
    "\n",
    "> **Note**: While visualization is helpful for understanding, it's optional for the RAG system functionality. The vector database performs searches directly in the high-dimensional space without needing to reduce dimensions."
   ]
  },
  {
   "cell_type": "code",
   "execution_count": 12,
   "id": "503b7fee-46f8-4c85-a886-45b35ed6b576",
   "metadata": {},
   "outputs": [
    {
     "data": {
      "image/png": "[encoded data removed]",
      "text/plain": [
       "<Figure size 640x480 with 1 Axes>"
      ]
     },
     "metadata": {},
     "output_type": "display_data"
    }
   ],
   "source": [
    "# Visualise our embeddings using dimensionality reduction to plot the embedded chunks in two dimensions.  \n",
    "# Unlike the previous exercise, we won't print the text with the plot because the text is too long.\n",
    "pca = PCA(n_components=2)\n",
    "reduced = pca.fit_transform(embeddings_list)\n",
    "plt.scatter(reduced[:, 0], reduced[:, 1])\n",
    "plt.title(\"PCA Projection of Embeddings\")\n",
    "plt.show()"
   ]
  },
  {
   "cell_type": "markdown",
   "id": "a7656184-67dd-41ce-83a9-3c3560337049",
   "metadata": {},
   "source": [
    "---\n",
    "# Connect to Milvus\n",
    "We want to store all of the embedded chunks in the vector database. Let's create a new database to do this"
   ]
  },
  {
   "cell_type": "code",
   "execution_count": 13,
   "id": "cf4918fc-52dd-492d-9751-edafe7d5d5f8",
   "metadata": {},
   "outputs": [
    {
     "name": "stdout",
     "output_type": "stream",
     "text": [
      "✅ Successfully connected to Milvus!\n",
      "   Endpoint: http://milvus-service.milvus.svc.cluster.local:19530\n",
      "   Existing collections: ['vectordb_collection', 'rag_vector_db', 'my_rag_collection']\n",
      "   Target collection: my_rag_collection\n"
     ]
    }
   ],
   "source": [
    "# Connect to Milvus first\n",
    "connections.connect(alias=\"simple_rag\", uri=milvus_url)\n",
    "\n",
    "# Test the connection\n",
    "try:\n",
    "    # List existing collections to verify connectivity\n",
    "    existing_collections = utility.list_collections(using=\"simple_rag\")\n",
    "    \n",
    "    print(f\"✅ Successfully connected to Milvus!\")\n",
    "    print(f\"   Endpoint: {milvus_url}\")\n",
    "    print(f\"   Existing collections: {existing_collections}\")\n",
    "    print(f\"   Target collection: {collection_name}\")\n",
    "except Exception as e:\n",
    "    print(f\"❌ Failed to connect to Milvus: {e}\")\n",
    "    print(\"   Please check that Milvus is running and accessible.\")\n",
    "    sys.exit(\"❌ Fatal error, stopping execution\")\n",
    "\n",
    "# Define the collection name\n",
    "collection_name = \"vectordb_collection\""
   ]
  },
  {
   "cell_type": "code",
   "execution_count": 14,
   "id": "7ab52897-6457-4167-b256-14026cb82dc0",
   "metadata": {},
   "outputs": [
    {
     "name": "stdout",
     "output_type": "stream",
     "text": [
      "⚠️ Collection 'vectordb_collection' already exists. Dropping for clean run.\n",
      "📚 Collection list: ['rag_vector_db', 'my_rag_collection']\n"
     ]
    }
   ],
   "source": [
    "# If the collection already exists, drop it for a clean start (optional)\n",
    "if utility.has_collection(collection_name, using=\"simple_rag\"):\n",
    "    print(f\"⚠️ Collection '{collection_name}' already exists. Dropping for clean run.\")\n",
    "    utility.drop_collection(collection_name, using=\"simple_rag\")\n",
    "\n",
    "print(f\"📚 Collection list: {utility.list_collections(using='simple_rag')}\")"
   ]
  },
  {
   "cell_type": "markdown",
   "id": "1b4b6e52-b55d-43d5-9e55-1ce126387e4b",
   "metadata": {},
   "source": [
    "## Milvus Setup: Define the schema now we have created it"
   ]
  },
  {
   "cell_type": "code",
   "execution_count": 15,
   "id": "2f0bb843-cbbf-4d2a-b199-a52db9428b3f",
   "metadata": {},
   "outputs": [
    {
     "name": "stdout",
     "output_type": "stream",
     "text": [
      "📚 Collection list: ['rag_vector_db', 'my_rag_collection', 'vectordb_collection']\n"
     ]
    }
   ],
   "source": [
    "# Define schema after connecting\n",
    "id_field = FieldSchema(\n",
    "    name=\"id\",\n",
    "    dtype=DataType.INT64,\n",
    "    is_primary=True,\n",
    "    auto_id=False\n",
    ")\n",
    "\n",
    "# This will contain the embedding vectors\n",
    "embedding_field = FieldSchema(\n",
    "        name=\"embedding\",\n",
    "        dtype=DataType.FLOAT_VECTOR,\n",
    "        dim=embedding_dim\n",
    "    )\n",
    "\n",
    "# This will contain the original text so we can use it with the LLM.\n",
    "text_field = FieldSchema(\n",
    "    name=\"original_text\",\n",
    "    dtype=DataType.VARCHAR,\n",
    "    max_length=max_chunk_size    # This is calculated when we chunked the document.\n",
    ")\n",
    "\n",
    "# This will contain the embedding metadata (source document in our example)\n",
    "doc_field = FieldSchema(\n",
    "    name=\"metadata\",\n",
    "    dtype=DataType.VARCHAR,\n",
    "    max_length=256               # This is a safe size for a URL.\n",
    ")\n",
    "\n",
    "# Create the schema using the fields defined above\n",
    "schema = CollectionSchema(\n",
    "    fields=[id_field, embedding_field, text_field, doc_field],\n",
    "    description=\"Simple RAG Schema\",\n",
    "    enable_dynamic_field=False\n",
    ")\n",
    "\n",
    "# ✅ Create the collection now\n",
    "collection = Collection(\n",
    "    name=collection_name,\n",
    "    schema=schema,\n",
    "    using=\"simple_rag\",\n",
    "    shards_num=2\n",
    ")\n",
    "\n",
    "# Create an index on the embedding attribute\n",
    "collection.create_index(\n",
    "    field_name=\"embedding\",\n",
    "    index_params={\n",
    "        \"metric_type\": \"COSINE\",\n",
    "        \"index_type\": \"IVF_FLAT\",\n",
    "        \"params\": {\"nlist\": 128}\n",
    "    },\n",
    "    index_name=\"idx\"\n",
    ")\n",
    "\n",
    "print(f\"📚 Collection list: {utility.list_collections(using='simple_rag')}\")"
   ]
  },
  {
   "cell_type": "markdown",
   "id": "8e9a0355-758e-4b7e-b6e9-6c5703391622",
   "metadata": {},
   "source": [
    "### Describe the collection we just created"
   ]
  },
  {
   "cell_type": "code",
   "execution_count": 16,
   "id": "c527d363-59fb-4e09-a7c1-7960d2b276b0",
   "metadata": {},
   "outputs": [
    {
     "name": "stdout",
     "output_type": "stream",
     "text": [
      "📄 Collection description: Simple RAG Schema\n",
      "📄 Collection schema: {'auto_id': False, 'description': 'Simple RAG Schema', 'fields': [{'name': 'id', 'description': '', 'type': <DataType.INT64: 5>, 'is_primary': True, 'auto_id': False}, {'name': 'embedding', 'description': '', 'type': <DataType.FLOAT_VECTOR: 101>, 'params': {'dim': 384}}, {'name': 'original_text', 'description': '', 'type': <DataType.VARCHAR: 21>, 'params': {'max_length': 1545}}, {'name': 'metadata', 'description': '', 'type': <DataType.VARCHAR: 21>, 'params': {'max_length': 256}}], 'enable_dynamic_field': False}\n",
      "📄 Number of entities: 0\n",
      "📄 Indexes: [<pymilvus.orm.index.Index object at 0x7f2cccbe48d0>]\n"
     ]
    }
   ],
   "source": [
    "\n",
    "# Print collection information\n",
    "print(\"📄 Collection description:\", collection.description)\n",
    "print(\"📄 Collection schema:\", collection.schema)\n",
    "print(\"📄 Number of entities:\", collection.num_entities)\n",
    "\n",
    "# List indexes\n",
    "print(\"📄 Indexes:\", collection.indexes)"
   ]
  },
  {
   "cell_type": "markdown",
   "id": "93dfd8b8-34b9-4377-98aa-fe0b7fb8011a",
   "metadata": {},
   "source": [
    "# 💾 Vector Storage and Search\n",
    "\n",
    "## Understanding Vector Storage\n",
    "\n",
    "Now that we have processed our document into chunks, we need to:\n",
    "\n",
    "1. **Convert each chunk to embeddings**: Transform text into numerical vectors\n",
    "2. **Store in vector database**: Save embeddings with metadata for efficient retrieval\n",
    "3. **Index for search**: Prepare the database for fast similarity queries\n",
    "\n",
    "## The Embedding Process\n",
    "\n",
    "For each text chunk, we will:\n",
    "- **Generate embeddings** using our SentenceTransformer model\n",
    "- **Store the vector** along with the original text in Milvus\n",
    "- **Create an index** for fast similarity search\n",
    "\n",
    "## Why This Approach Works\n",
    "\n",
    "- **Semantic Understanding**: Vector representations capture meaning, not just keywords\n",
    "- **Scalability**: Vector databases handle millions of embeddings efficiently\n",
    "- **Fast Retrieval**: Approximate nearest neighbor search provides quick results\n",
    "- **Flexibility**: Easy to update, add, or remove documents\n",
    "\n",
    "Let's embed our document chunks and store them in the vector database!"
   ]
  },
  {
   "cell_type": "code",
   "execution_count": 17,
   "id": "7da3aeba-3526-48e6-a2ff-c4d00aa2c72d",
   "metadata": {},
   "outputs": [
    {
     "name": "stdout",
     "output_type": "stream",
     "text": [
      "\n",
      "💾 Storing embeddings in Milvus vector database...\n",
      "   Records to insert: 70\n",
      "✅ STORAGE COMPLETE!\n",
      "   Total vectors stored: 70\n",
      "📄 Collection stats: {'name': 'vectordb_collection', 'description': 'Simple RAG Schema', 'num_entities': 70, 'fields': ['id', 'embedding', 'original_text', 'metadata']}\n",
      "\n",
      "🔍 Vector database is ready for similarity search!\n"
     ]
    }
   ],
   "source": [
    "# ===== BATCH INSERT TO MILVUS =====\n",
    "print(f\"\\n💾 Storing embeddings in Milvus vector database...\")\n",
    "print(f\"   Records to insert: {len(data)}\")\n",
    "\n",
    "# We created the embeddings earlier and stored them in the \"data\" array. Now we will do a batch insert into the vector database.\n",
    "insert_result = collection.insert(data=data)\n",
    "\n",
    "# Commit the update to the database\n",
    "collection.flush()\n",
    "collection.load()\n",
    "\n",
    "print(f\"✅ STORAGE COMPLETE!\")\n",
    "print(f\"   Total vectors stored: {insert_result.insert_count}\")\n",
    "\n",
    "# Verify the data was inserted correctly\n",
    "collection_stats = {\n",
    "    \"name\": collection.name,\n",
    "    \"description\": collection.description,\n",
    "    \"num_entities\": collection.num_entities,\n",
    "    \"fields\": [field.name for field in collection.schema.fields]\n",
    "}\n",
    "print(\"📄 Collection stats:\", collection_stats)\n",
    "\n",
    "print(f\"\\n🔍 Vector database is ready for similarity search!\")"
   ]
  },
  {
   "cell_type": "markdown",
   "id": "5c4ff147-0a52-49e4-957a-f9c1a568c78f",
   "metadata": {},
   "source": [
    "---\n",
    "# ⏸️ Checkpoint\n",
    "Let's pause and recap what we have done so far...\n",
    "\n",
    "At this point we have loaded a PDF document and converted it to chunks using Docling. We then generated vectors (embeddings) for each chunk and stored these in our vector database, along with the original text and some metadata that identifies the source document for each chunk.  \n",
    "\n",
    "In our exercise we are only working with a single document. But in the real world you would have multiple documents and thus the metadata becomes very important so you can find what the LLM used to generate its response.\n",
    "\n",
    "In the next section you will see how we can answer questions of our documents using the vector database and the large-language capabilities of the LLM."
   ]
  },
  {
   "cell_type": "markdown",
   "id": "054fbcd4-be4b-4a35-b8e3-9f33ea5d0d3d",
   "metadata": {},
   "source": [
    "___\n",
    "# 🔍 Query-Time Retrieval\n",
    "\n",
    "## How RAG Retrieval Works\n",
    "\n",
    "When a user asks a question, the RAG system performs the following steps:\n",
    "\n",
    "1. **Query Embedding**: Convert the user's question into the same vector space as our documents\n",
    "2. **Similarity Search**: Find the most similar document chunks using vector distance\n",
    "3. **Ranking**: Sort results by relevance score (similarity distance)\n",
    "4. **Selection**: Choose the top-k most relevant chunks for context\n",
    "\n",
    "## Vector Search Process\n",
    "\n",
    "### Step 1: Query Embedding\n",
    "- Use the **same embedding model** that was used for document chunks\n",
    "- This ensures query and document vectors are in the same semantic space\n",
    "\n",
    "### Step 2: Distance Calculation\n",
    "- **Inner Product (IP)**: Our chosen metric - higher values mean more similar\n",
    "- **Cosine Similarity**: Measures angle between vectors (normalized IP)\n",
    "- **Euclidean Distance**: Straight-line distance in vector space\n",
    "\n",
    "### Step 3: Approximate Nearest Neighbor (ANN)\n",
    "- **Speed vs Accuracy**: ANN provides fast search with minimal accuracy loss\n",
    "- **Indexing**: Milvus creates indexes for efficient search across millions of vectors\n",
    "- **Scalability**: Can handle large document collections in real-time\n",
    "\n",
    "## Retrieval Parameters\n",
    "\n",
    "- **Limit**: Number of top results to return (we'll use 3)\n",
    "- **Search Params**: Configuration for the search algorithm\n",
    "- **Output Fields**: Which metadata to return with results (we want the original text)\n",
    "\n",
    "Let's test our retrieval system with a sample question!"
   ]
  },
  {
   "cell_type": "code",
   "execution_count": 18,
   "id": "0d1fbadd-29f1-4192-95f4-8b81232fa0c3",
   "metadata": {},
   "outputs": [
    {
     "name": "stdout",
     "output_type": "stream",
     "text": [
      "❓ USER QUESTION:\n",
      "   \"What are the challenges of assessing the quality of AI-generated code? What are some strategies for doing this?\"\n",
      "\n",
      "🎯 Why this question tests RAG effectively:\n",
      "   • Domain-specific: Related to AI code evaluation\n",
      "   • Multi-faceted: Asks for both challenges AND strategies\n",
      "   • Synthesis required: Needs information from multiple sources\n",
      "   • Context-dependent: Benefits from specific document knowledge\n"
     ]
    }
   ],
   "source": [
    "# ===== DEFINE USER QUERY =====\n",
    "# This is the question we want to answer using our RAG system. The question is specific to the document that we saved in our vector database. The LLM has no knowledge of this topic and with out the vector database it would hallucinate the answer.\n",
    "question = (\n",
    "    \"What are the challenges of assessing the quality of AI-generated code? What are some strategies for doing this?\"\n",
    ")\n",
    "\n",
    "print(\"❓ USER QUESTION:\")\n",
    "print(f\"   \\\"{question}\\\"\")\n",
    "\n",
    "# This question is perfect for testing our RAG system because:\n",
    "# 1. It's directly related to our document (AI code evaluation)\n",
    "# 2. It has two parts - challenges AND strategies\n",
    "# 3. It requires synthesis of information from multiple sections\n",
    "# 4. It's the kind of question that benefits from retrieved context\n",
    "\n",
    "print(f\"\\n🎯 Why this question tests RAG effectively:\")\n",
    "print(f\"   • Domain-specific: Related to AI code evaluation\")\n",
    "print(f\"   • Multi-faceted: Asks for both challenges AND strategies\")\n",
    "print(f\"   • Synthesis required: Needs information from multiple sources\")\n",
    "print(f\"   • Context-dependent: Benefits from specific document knowledge\")"
   ]
  },
  {
   "cell_type": "code",
   "execution_count": 19,
   "id": "8598f0c1-0631-437c-8a1c-b04c6af2d0fa",
   "metadata": {},
   "outputs": [
    {
     "name": "stdout",
     "output_type": "stream",
     "text": [
      "🔄 Converting question to embedding...\n",
      "   Question embedding shape: 384 dimensions\n",
      "   Embedding sample: [-0.08172768 -0.02636518 -0.04366045  0.04490916  0.0063496 ]\n",
      "\n",
      "🔍 Searching for similar document chunks...\n",
      "   Collection: vectordb_collection\n",
      "   Search method: Vector similarity using Inner Product\n",
      "   Top results to return: 3\n"
     ]
    }
   ],
   "source": [
    "# ===== PERFORM VECTOR SEARCH =====\n",
    "# Step 1: Convert the question to an embedding vector\n",
    "print(\"🔄 Converting question to embedding...\")\n",
    "question_embedding = emb_text(question)\n",
    "\n",
    "print(f\"   Question embedding shape: {len(question_embedding)} dimensions\")\n",
    "print(f\"   Embedding sample: {question_embedding[:5]}\")\n",
    "\n",
    "# Step 2: Search for similar vectors in the database\n",
    "print(f\"\\n🔍 Searching for similar document chunks...\")\n",
    "print(f\"   Collection: {collection_name}\")\n",
    "print(f\"   Search method: Vector similarity using Inner Product\")\n",
    "print(f\"   Top results to return: 3\")"
   ]
  },
  {
   "cell_type": "code",
   "execution_count": 20,
   "id": "fd66032c-3d2b-4c87-936c-31031f4d84a2",
   "metadata": {},
   "outputs": [
    {
     "name": "stdout",
     "output_type": "stream",
     "text": [
      "\n",
      "📊 SEARCH RESULTS ANALYSIS:\n",
      "   • Total matches found: 3\n",
      "   • Search completed successfully!\n"
     ]
    }
   ],
   "source": [
    "# Search DB using the embedded query\n",
    "results = collection.search(\n",
    "    data=[question_embedding.tolist()],   # Convert the embedding to a list for Milvus\n",
    "    anns_field=\"embedding\",\n",
    "    param={\"metric_type\": \"COSINE\"},\n",
    "    limit=3,                           # Return at most three results\n",
    "    output_fields=[\"embedding\",\"original_text\",\"metadata\"]\n",
    ")\n",
    "\n",
    "# Analyze search results\n",
    "print(f\"\\n📊 SEARCH RESULTS ANALYSIS:\")\n",
    "print(f\"   • Total matches found: {len(results[0])}\")\n",
    "print(f\"   • Search completed successfully!\")"
   ]
  },
  {
   "cell_type": "code",
   "execution_count": 21,
   "id": "0e78eac4-fd36-4321-a629-f81f4120e4c9",
   "metadata": {},
   "outputs": [
    {
     "name": "stdout",
     "output_type": "stream",
     "text": [
      "📝 Processing retrieved chunks for LLM context...\n",
      "\n",
      "📋 RETRIEVED CHUNKS (Raw Format):\n",
      "\n",
      "--- CHUNK 1 ---\n",
      "📏Similarity Score: 0.7006\n",
      "👾 Metadata: 2502.07835v1.pdf\n",
      "🧠 Text: The rise of Large Language Models (LLMs) in software engineering, particularly in code generation, has garnered significant attention. However, assessing the quality of AI-generated code remains a challenge due to the inherent complexity of programming tasks and the lack of robust evaluation metrics that align well with human judgment. Traditional token-based metrics such as BLEU and ROUGE, while commonly used in natural language processing, exhibit weak correlations with human assessments in code intelligence and verification tasks. Furthermore, these metrics are primarily research focused and are not designed for seamless integration into the software development lifecycle, limiting their practical utility for developers seeking to improve code quality and security.\n",
      "--- END CHUNK 1 ---\n",
      "\n",
      "--- CHUNK 2 ---\n",
      "📏Similarity Score: 0.6455\n",
      "👾 Metadata: 2502.07835v1.pdf\n",
      "🧠 Text: The SBC score, along with the reverse-generated requirements, provides actionable insights for developers, helping them assess AI-generated code without requiring extensive reference implementations. Unlike prior evaluation methods, this approach inherently addresses the challenges of syntactic variations and alternative solutions in generated code, as highlighted in recent studies [12]. By\n",
      "--- END CHUNK 2 ---\n",
      "\n",
      "--- CHUNK 3 ---\n",
      "📏Similarity Score: 0.6278\n",
      "👾 Metadata: 2502.07835v1.pdf\n",
      "🧠 Text: AI-powered code assistants, leveraging the power of Large Language Models (LLMs), are becoming a focal point for enterprises, offering promising capabilities in automating code generation. However, evaluating the quality of LLM-generated code remains a complex challenge due to the intricacies of programming concepts and syntax, which differ significantly from natural language generation [1, 2].\n",
      "--- END CHUNK 3 ---\n",
      "\n",
      "📊 RETRIEVED CONTENT STATISTICS:\n",
      "   • Total chunks: 3\n",
      "   • Total characters: 1,568\n",
      "   • Total words: 211\n",
      "   • Average words per chunk: 70\n",
      "   • Similarity score range: 0.6278 - 0.7006\n"
     ]
    }
   ],
   "source": [
    "# ===== PROCESS SEARCH RESULTS =====\n",
    "print(\"📝 Processing retrieved chunks for LLM context...\")\n",
    "\n",
    "# Extract text, metadata, and similarity scores\n",
    "retrieved_lines_with_distances = [\n",
    "    (\n",
    "        res.entity.get(\"original_text\"),   # The chunk of text\n",
    "        res.entity.get(\"metadata\"),        # The metadata (e.g., source document)\n",
    "        res.score                          # Similarity score\n",
    "    )\n",
    "    for res in results[0]\n",
    "]\n",
    "\n",
    "# Display the raw results in a structured format\n",
    "print(f\"\\n📋 RETRIEVED CHUNKS (Raw Format):\")\n",
    "for i, (text, metadata, distance) in enumerate(retrieved_lines_with_distances):\n",
    "    print(f\"\\n--- CHUNK {i+1} ---\")\n",
    "    print(f\"📏Similarity Score: {distance:.4f}\")\n",
    "    print(f\"👾 Metadata: {metadata}\")\n",
    "    print(f\"🧠 Text: {text}\")\n",
    "    print(f\"--- END CHUNK {i+1} ---\")\n",
    "\n",
    "# Statistics about retrieved content\n",
    "total_chars = sum(len(text) for text, _, _ in retrieved_lines_with_distances)\n",
    "total_words = sum(len(text.split()) for text, _, _ in retrieved_lines_with_distances)\n",
    "\n",
    "print(f\"\\n📊 RETRIEVED CONTENT STATISTICS:\")\n",
    "print(f\"   • Total chunks: {len(retrieved_lines_with_distances)}\")\n",
    "print(f\"   • Total characters: {total_chars:,}\")\n",
    "print(f\"   • Total words: {total_words:,}\")\n",
    "print(f\"   • Average words per chunk: {total_words / len(retrieved_lines_with_distances):.0f}\")\n",
    "print(f\"   • Similarity score range: \"\n",
    "      f\"{min(d for _, _, d in retrieved_lines_with_distances):.4f} - \"\n",
    "      f\"{max(d for _, _, d in retrieved_lines_with_distances):.4f}\")\n"
   ]
  },
  {
   "cell_type": "markdown",
   "id": "8613c6a7-b781-4e48-a8af-41bb97b9f03c",
   "metadata": {},
   "source": [
    "# 🤖 Augmented Generation\n",
    "\n",
    "## From Retrieval to Response\n",
    "\n",
    "Now comes the final step of RAG - using the retrieved context to generate a well-informed response. This process involves:\n",
    "\n",
    "1. **Context Preparation**: Combine retrieved chunks into a coherent context\n",
    "2. **Prompt Engineering**: Structure the prompt to include context and question\n",
    "3. **LLM Generation**: Use the language model to generate a response\n",
    "4. **Response Synthesis**: Produce a final answer based on the retrieved evidence\n",
    "\n",
    "## The Power of Context\n",
    "\n",
    "Without RAG, an LLM would answer based only on its training data, which might:\n",
    "- **Lack specific information** about our document\n",
    "- **Provide outdated information** if the model is older\n",
    "- **Generate hallucinations** without factual grounding\n",
    "\n",
    "With RAG, the LLM has access to:\n",
    "- **Relevant, specific content** from our document\n",
    "- **Current information** from the retrieved chunks\n",
    "- **Factual grounding** to reduce hallucinations\n",
    "\n",
    "## Prompt Engineering for RAG\n",
    "\n",
    "A well-designed RAG prompt includes:\n",
    "- **System instructions** that define the AI's role and constraints\n",
    "- **Retrieved context** that provides factual information\n",
    "- **User question** that specifies what to answer\n",
    "- **Response guidelines** that ensure appropriate formatting\n",
    "\n",
    "Let's see how this works in practice!"
   ]
  },
  {
   "cell_type": "code",
   "execution_count": 22,
   "id": "c45528a5-4cbf-4f88-a720-aeb614923d4f",
   "metadata": {},
   "outputs": [
    {
     "name": "stdout",
     "output_type": "stream",
     "text": [
      "📋 Preparing context for LLM generation...\n",
      "📊 CONTEXT STATISTICS:\n",
      "   • Context length: 1,572 characters\n",
      "   • Context words: 211 words\n",
      "   • Number of chunks: 3\n",
      "\n",
      "📝 PREPARED CONTEXT (first 300 characters):\n",
      "   \"The rise of Large Language Models (LLMs) in software engineering, particularly in code generation, has garnered significant attention. However, assessing the quality of AI-generated code remains a challenge due to the inherent complexity of programming tasks and the lack of robust evaluation metrics...\"\n",
      "\n",
      "✅ Context prepared successfully!\n",
      "   The LLM will use this context to generate an informed response.\n"
     ]
    }
   ],
   "source": [
    "# ===== CONTEXT PREPARATION =====\n",
    "# Combine the retrieved chunks into a single context string for the LLM\n",
    "print(\"📋 Preparing context for LLM generation...\")\n",
    "\n",
    "# Extract just the text (first element of tuple: text, metadata, score)\n",
    "context_chunks = [text for text, _, _ in retrieved_lines_with_distances]\n",
    "context = \"\\n\\n\".join(context_chunks)  # Use double newlines for better separation\n",
    "\n",
    "print(f\"📊 CONTEXT STATISTICS:\")\n",
    "print(f\"   • Context length: {len(context):,} characters\")\n",
    "print(f\"   • Context words: {len(context.split()):,} words\")\n",
    "print(f\"   • Number of chunks: {len(context_chunks)}\")\n",
    "\n",
    "# Show the prepared context (truncated for readability)\n",
    "print(f\"\\n📝 PREPARED CONTEXT (first 300 characters):\")\n",
    "print(f\"   \\\"{context[:300]}...\\\"\")\n",
    "\n",
    "# This context will be included in the prompt to provide the LLM with\n",
    "# relevant information from our document to answer the user's question\n",
    "print(f\"\\n✅ Context prepared successfully!\")\n",
    "print(f\"   The LLM will use this context to generate an informed response.\")\n"
   ]
  },
  {
   "cell_type": "markdown",
   "id": "57421cbd-7cf8-42ad-a9c1-3b794d1e6134",
   "metadata": {},
   "source": [
    "## 🛠️ Prompt Engineering for RAG\n",
    "\n",
    "Effective prompt engineering is crucial for RAG success. Our prompts need to:\n",
    "\n",
    "### System Prompt Design\n",
    "- **Role Definition**: Clearly specify the AI's role and constraints\n",
    "- **Context Grounding**: Ensure responses are based only on provided context\n",
    "- **Honesty Enforcement**: Require admission when information is unavailable\n",
    "- **Quality Guidelines**: Set expectations for response structure and completeness\n",
    "\n",
    "### User Prompt Structure\n",
    "- **Context Section**: Present retrieved information clearly\n",
    "- **Question Section**: State the user's question explicitly\n",
    "- **Response Instructions**: Guide the format and style of the answer\n",
    "\n",
    "### Why This Matters\n",
    "- **Reduces Hallucinations**: Strict context adherence prevents made-up information\n",
    "- **Improves Relevance**: Clear instructions help focus on what's important\n",
    "- **Ensures Consistency**: Structured prompts lead to predictable response formats\n",
    "- **Enhances Quality**: Well-designed prompts improve response accuracy and usefulness\n"
   ]
  },
  {
   "cell_type": "code",
   "execution_count": 23,
   "id": "48a52e88-eeb0-4766-bfd2-c1c718f008ba",
   "metadata": {},
   "outputs": [],
   "source": [
    "SYSTEM_PROMPT = (\n",
    "  \"You are an AI assistant that answers questions based solely on the provided context. \"\n",
    "  \"If the answer cannot be found in context, reply truthfully that you don’t know.\"\n",
    ")\n",
    "\n",
    "USER_PROMPT = (\n",
    "  \"Context:\\n\"\n",
    "  \"{context}\\n\"\n",
    "  \"Question:\\n\"\n",
    "  \"{question}\\n\"\n",
    "  \"Answer concisely:\"\n",
    ")"
   ]
  },
  {
   "cell_type": "markdown",
   "id": "52ddcc05-f348-4d62-8466-a37059310575",
   "metadata": {},
   "source": [
    "# ⚙️ LLM Integration and Response Generation\n",
    "\n",
    "## Language Model Setup\n",
    "\n",
    "Our RAG system uses a **Llama 3.2 3B model** that's been quantized for efficiency. Key configuration choices:\n",
    "\n",
    "### Model Configuration\n",
    "- **Temperature: 0**: Ensures deterministic, consistent responses\n",
    "- **Max Tokens: None**: Allows full-length responses without artificial cutoffs\n",
    "- **Retries: 2**: Handles temporary network or service issues\n",
    "- **SSL Verification: Disabled**: Required for internal service endpoints\n",
    "\n",
    "### Why Llama 3.2 3B?\n",
    "- **Efficiency**: Smaller model with good performance for focused tasks\n",
    "- **Quantization**: 8-bit quantization reduces memory usage while maintaining quality\n",
    "- **Instruction Following**: Fine-tuned to follow instructions and answer questions accurately\n",
    "- **Context Awareness**: Capable of understanding and using provided context effectively\n",
    "\n",
    "## The Generation Process\n",
    "\n",
    "1. **Prompt Construction**: Combine system instructions, context, and question\n",
    "2. **Model Invocation**: Send the complete prompt to the LLM\n",
    "3. **Response Generation**: Model generates answer based on context\n",
    "4. **Result Processing**: Extract and present the final response"
   ]
  },
  {
   "cell_type": "code",
   "execution_count": 24,
   "id": "3976092f-fd56-44f0-9822-d073acd5a245",
   "metadata": {},
   "outputs": [],
   "source": [
    "llm = ChatOpenAI(\n",
    "    model=inference_server_model_name,\n",
    "    temperature=0,\n",
    "    max_tokens=None,\n",
    "    timeout=None,\n",
    "    max_retries=2,\n",
    "    api_key=\"EMPTY\",  # if you prefer to pass api key in directly instaed of using env vars\n",
    "    base_url=inference_server_url,\n",
    "    http_client=httpx.Client(verify=False)    # Because we are using an internal API endpoint (service) we need to disable SSL certificate checking.\n",
    ")\n",
    "\n",
    "# Define system and human templates\n",
    "SYSTEM_PROMPT = SystemMessagePromptTemplate.from_template(\n",
    "    \"You are an AI assistant that answers questions based solely on the provided context. \"\n",
    "    \"If the answer cannot be found in context, reply truthfully that you don’t know.\"\n",
    ")\n",
    "\n",
    "HumanMessagePromptTemplate = HumanMessagePromptTemplate.from_template(\n",
    "    \"Context:\\n\"\n",
    "    \"{context}\\n\"\n",
    "    \"Question:\\n\"\n",
    "    \"{question}\\n\"\n",
    "    \"Answer concisely:\"\n",
    ")\n",
    "\n",
    "# Combine into a chat prompt\n",
    "chat_prompt = ChatPromptTemplate.from_messages(\n",
    "    [SYSTEM_PROMPT, HumanMessagePromptTemplate]\n",
    ")\n",
    "\n",
    "prompt = chat_prompt.format_prompt(context=context, question=question)\n",
    "\n",
    "ai_msg = llm.invoke(prompt)\n"
   ]
  },
  {
   "cell_type": "code",
   "execution_count": 25,
   "id": "93c9a430-0118-4faa-a657-672927bcdda6",
   "metadata": {},
   "outputs": [
    {
     "name": "stdout",
     "output_type": "stream",
     "text": [
      "🎯 RAG PIPELINE RESULTS\n",
      "==================================================\n",
      "\n",
      "❓ ORIGINAL QUESTION:\n",
      "   What are the challenges of assessing the quality of AI-generated code? What are some strategies for doing this?\n",
      "\n",
      "📊 PIPELINE STATISTICS:\n",
      "   • Document chunks retrieved: 3\n",
      "   • Context length: 1,572 characters\n",
      "   • Context words: 211\n",
      "   • Similarity scores: ['0.701', '0.645', '0.628']\n",
      "\n",
      "📝 RETRIEVED CONTEXT SUMMARY:\n",
      "   Chunk 1 (0.701) [Source: 2502.07835v1.pdf]: The rise of Large Language Models (LLMs) in software engineering, particularly i...\n",
      "   Chunk 2 (0.645) [Source: 2502.07835v1.pdf]: The SBC score, along with the reverse-generated requirements, provides actionabl...\n",
      "   Chunk 3 (0.628) [Source: 2502.07835v1.pdf]: AI-powered code assistants, leveraging the power of Large Language Models (LLMs)...\n"
     ]
    }
   ],
   "source": [
    "# ===== DISPLAY RESULTS =====\n",
    "# Show the complete RAG pipeline results for analysis and learning\n",
    "print(\"🎯 RAG PIPELINE RESULTS\")\n",
    "print(\"=\" * 50)\n",
    "\n",
    "print(f\"\\n❓ ORIGINAL QUESTION:\")\n",
    "print(f\"   {question}\")\n",
    "\n",
    "print(f\"\\n📊 PIPELINE STATISTICS:\")\n",
    "print(f\"   • Document chunks retrieved: {len(retrieved_lines_with_distances)}\")\n",
    "print(f\"   • Context length: {len(context):,} characters\")\n",
    "print(f\"   • Context words: {len(context.split()):,}\")\n",
    "print(f\"   • Similarity scores: {[f'{score:.3f}' for _, _, score in retrieved_lines_with_distances]}\")\n",
    "\n",
    "print(f\"\\n📝 RETRIEVED CONTEXT SUMMARY:\")\n",
    "for i, (text, metadata, score) in enumerate(retrieved_lines_with_distances):\n",
    "    print(f\"   Chunk {i+1} ({score:.3f}) [Source: {metadata}]: {text[:80]}...\")"
   ]
  },
  {
   "cell_type": "code",
   "execution_count": 26,
   "id": "a6d6e266-fb32-4094-bd65-b9ea5ed05e7c",
   "metadata": {},
   "outputs": [
    {
     "name": "stdout",
     "output_type": "stream",
     "text": [
      "\n",
      "🧠 CONTEXT PROVIDED TO LLM:\n",
      "   Length: 1,572 characters (211 words)\n",
      "   Number of chunks: 3\n",
      "\n",
      "   First 200 characters:\n",
      "   \"The rise of Large Language Models (LLMs) in software engineering, particularly in code generation, has garnered significant attention. However, assessing the quality of AI-generated code remains a cha...\"\n",
      "\n",
      "   Last 200 characters:\n",
      "   \"... evaluating the quality of LLM-generated code remains a complex challenge due to the intricacies of programming concepts and syntax, which differ significantly from natural language generation [1, 2].\"\n",
      "\n",
      "📚 CONTEXT SOURCES:\n",
      "   Source 1 (similarity: 0.701)\n",
      "      Metadata: 2502.07835v1.pdf\n",
      "      Preview: The rise of Large Language Models (LLMs) in software engineering, particularly i...\n",
      "   Source 2 (similarity: 0.645)\n",
      "      Metadata: 2502.07835v1.pdf\n",
      "      Preview: The SBC score, along with the reverse-generated requirements, provides actionabl...\n",
      "   Source 3 (similarity: 0.628)\n",
      "      Metadata: 2502.07835v1.pdf\n",
      "      Preview: AI-powered code assistants, leveraging the power of Large Language Models (LLMs)...\n"
     ]
    }
   ],
   "source": [
    "# ===== CONTEXT ANALYSIS =====\n",
    "print(f\"\\n🧠 CONTEXT PROVIDED TO LLM:\")\n",
    "print(f\"   Length: {len(context):,} characters ({len(context.split())} words)\")\n",
    "print(f\"   Number of chunks: {len(retrieved_lines_with_distances)}\")\n",
    "print(f\"\\n   First 200 characters:\")\n",
    "print(f\"   \\\"{context[:200]}...\\\"\")\n",
    "\n",
    "print(f\"\\n   Last 200 characters:\")\n",
    "print(f\"   \\\"...{context[-200:]}\\\"\")\n",
    "\n",
    "# Show the context sources\n",
    "print(f\"\\n📚 CONTEXT SOURCES:\")\n",
    "for i, (text, metadata, score) in enumerate(retrieved_lines_with_distances):\n",
    "    print(f\"   Source {i+1} (similarity: {score:.3f})\")\n",
    "    print(f\"      Metadata: {metadata}\")\n",
    "    print(f\"      Preview: {text[:80]}...\")"
   ]
  },
  {
   "cell_type": "code",
   "execution_count": 27,
   "id": "1bba1be1-409b-48e4-b84d-b5c87face1b8",
   "metadata": {},
   "outputs": [
    {
     "name": "stdout",
     "output_type": "stream",
     "text": [
      "\n",
      "🎯 RAG SYSTEM RESPONSE\n",
      "============================================================\n",
      "\n",
      "💬 GENERATED RESPONSE:\n",
      "\n",
      "======================================================\n",
      "The challenges of assessing the quality of AI-generated code include:\n",
      "\n",
      "1. Complexity of programming tasks\n",
      "2. Lack of robust evaluation metrics that align with human judgment\n",
      "3. Inherent differences between programming concepts and syntax and natural language generation\n",
      "\n",
      "Strategies for assessing AI-generated code quality include:\n",
      "\n",
      "1. Using the SBC score and reverse-generated requirements for actionable insights\n",
      "2. Addressing syntactic variations and alternative solutions in generated code\n",
      "3. Developing evaluation metrics that are specifically designed for code intelligence and verification tasks.\n",
      "\n",
      "======================================================\n",
      "\n",
      "📊 RESPONSE ANALYSIS:\n",
      "   • Response length: 602 characters\n",
      "   • Response words: 80\n",
      "   • Structure: Well-structured\n",
      "   • Addresses both challenges and strategies: Yes\n",
      "\n",
      "✅ RAG PIPELINE COMPLETE!\n",
      "   The system successfully:\n",
      "   • Embedded the user's question\n",
      "   • Retrieved relevant document chunks\n",
      "   • Generated a contextually grounded response\n",
      "   • Provided specific, accurate information from the source document\n"
     ]
    }
   ],
   "source": [
    "# ===== FINAL RESPONSE ANALYSIS =====\n",
    "print(f\"\\n🎯 RAG SYSTEM RESPONSE\")\n",
    "print(f\"=\" * 60)\n",
    "\n",
    "print(f\"\\n💬 GENERATED RESPONSE:\")\n",
    "print(f\"\\n======================================================\")\n",
    "print(f\"{ai_msg.content}\")\n",
    "print(f\"\\n======================================================\")\n",
    "\n",
    "print(f\"\\n📊 RESPONSE ANALYSIS:\")\n",
    "response_words = len(ai_msg.content.split())\n",
    "response_chars = len(ai_msg.content)\n",
    "print(f\"   • Response length: {response_chars} characters\")\n",
    "print(f\"   • Response words: {response_words}\")\n",
    "print(f\"   • Structure: {'Well-structured' if '1.' in ai_msg.content or '•' in ai_msg.content else 'Paragraph format'}\")\n",
    "print(f\"   • Addresses both challenges and strategies: {'Yes' if 'challenges' in ai_msg.content.lower() and 'strategies' in ai_msg.content.lower() else 'Partial'}\")\n",
    "\n",
    "print(f\"\\n✅ RAG PIPELINE COMPLETE!\")\n",
    "print(f\"   The system successfully:\")\n",
    "print(f\"   • Embedded the user's question\")\n",
    "print(f\"   • Retrieved relevant document chunks\")\n",
    "print(f\"   • Generated a contextually grounded response\")\n",
    "print(f\"   • Provided specific, accurate information from the source document\")"
   ]
  },
  {
   "cell_type": "markdown",
   "id": "d67ec792-221a-45a8-af48-51deb40734b3",
   "metadata": {},
   "source": [
    "# 🎓 Conclusion: RAG System Complete!\n",
    "\n",
    "## What We Accomplished\n",
    "\n",
    "You've successfully built and run a complete RAG (Retrieval-Augmented Generation) system! Here's what we covered:\n",
    "\n",
    "### 📄 **Document Ingestion**\n",
    "- Downloaded documents from object storage (MinIO/S3)\n",
    "- Processed PDF documents using advanced parsing (Docling)\n",
    "- Performed intelligent document chunking for optimal retrieval\n",
    "\n",
    "### 🧠 **Text Embeddings**\n",
    "- Learned about semantic vector representations\n",
    "- Used SentenceTransformers to generate 384-dimensional embeddings\n",
    "- Understood how embeddings capture semantic similarity\n",
    "\n",
    "### 🗃️ **Vector Database**\n",
    "- Set up Milvus for high-performance vector storage\n",
    "- Stored embeddings with metadata for efficient retrieval\n",
    "- Configured search parameters for optimal performance\n",
    "\n",
    "### 🔍 **Semantic Search**\n",
    "- Converted queries to embeddings for similarity search\n",
    "- Retrieved the most relevant document chunks\n",
    "- Analyzed similarity scores and retrieval quality\n",
    "\n",
    "### 🤖 **Response Generation**\n",
    "- Designed effective prompts for contextual responses\n",
    "- Integrated with Llama 3.2 3B model for generation\n",
    "- Generated accurate, grounded responses using retrieved context\n",
    "\n",
    "## Key Takeaways\n",
    "\n",
    "### RAG Benefits\n",
    "- **Accuracy**: Responses grounded in specific document content\n",
    "- **Transparency**: See exactly which sources informed the answer\n",
    "- **Flexibility**: Easy to update knowledge by changing documents\n",
    "- **Efficiency**: No need to retrain models for new information\n",
    "\n",
    "### Technical Insights\n",
    "- **Embedding Quality**: Choice of embedding model impacts retrieval performance\n",
    "- **Chunking Strategy**: Proper document segmentation improves context relevance\n",
    "- **Prompt Engineering**: Well-designed prompts are crucial for quality responses\n",
    "- **Vector Search**: Semantic similarity enables meaning-based retrieval\n",
    "\n",
    "## Next Steps\n",
    "\n",
    "To extend this RAG system, consider:\n",
    "\n",
    "1. **Multiple Documents**: Expand to handle document collections\n",
    "2. **Advanced Chunking**: Implement hybrid or semantic chunking strategies\n",
    "3. **Reranking**: Add reranking models to improve retrieval quality\n",
    "4. **Evaluation Metrics**: Implement retrieval and generation quality metrics\n",
    "5. **Production Deployment**: Scale for production with distributed systems\n",
    "6. **Multi-modal RAG**: Extend to handle images, tables, and other content types\n",
    "\n",
    "## Learning Resources\n",
    "\n",
    "- **Vector Databases**: Explore other options like Pinecone, Weaviate, Chroma\n",
    "- **Embedding Models**: Try domain-specific or larger embedding models\n",
    "- **LLM Options**: Experiment with different language models and sizes\n",
    "- **Advanced RAG**: Learn about query expansion, hypothesis verification, and multi-hop reasoning\n",
    "\n",
    "**Congratulations!** You now understand the fundamentals of building production-ready RAG systems. This knowledge forms the foundation for many modern AI applications that combine retrieval and generation capabilities.\n"
   ]
  },
  {
   "cell_type": "code",
   "execution_count": null,
   "id": "a1032fc0-1bfb-4b2d-80f3-5a0d0e86e12e",
   "metadata": {},
   "outputs": [],
   "source": []
  }
 ],
 "metadata": {
  "kernelspec": {
   "display_name": "Python 3.11",
   "language": "python",
   "name": "python3"
  },
  "language_info": {
   "codemirror_mode": {
    "name": "ipython",
    "version": 3
   },
   "file_extension": ".py",
   "mimetype": "text/x-python",
   "name": "python",
   "nbconvert_exporter": "python",
   "pygments_lexer": "ipython3",
   "version": "3.11.11"
  }
 },
 "nbformat": 4,
 "nbformat_minor": 5
}
