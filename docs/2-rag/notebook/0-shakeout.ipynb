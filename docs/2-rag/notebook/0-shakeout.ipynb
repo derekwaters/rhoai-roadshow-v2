{
 "cells": [
  {
   "cell_type": "code",
   "execution_count": 1,
   "id": "5408d135-54b6-4ee7-95bc-8113a3f142ea",
   "metadata": {},
   "outputs": [
    {
     "name": "stdout",
     "output_type": "stream",
     "text": [
      "Requirement already satisfied: pymilvus==2.4.4 in /opt/app-root/lib64/python3.11/site-packages (from -r requirements.txt (line 1)) (2.4.4)\n",
      "Requirement already satisfied: sentence-transformers==2.2.2 in /opt/app-root/lib64/python3.11/site-packages (from -r requirements.txt (line 2)) (2.2.2)\n",
      "Requirement already satisfied: scikit-learn==1.4.2 in /opt/app-root/lib64/python3.11/site-packages (from -r requirements.txt (line 3)) (1.4.2)\n",
      "Requirement already satisfied: matplotlib==3.8.4 in /opt/app-root/lib64/python3.11/site-packages (from -r requirements.txt (line 4)) (3.8.4)\n",
      "Requirement already satisfied: marshmallow==3.20.2 in /opt/app-root/lib64/python3.11/site-packages (from -r requirements.txt (line 5)) (3.20.2)\n",
      "Requirement already satisfied: huggingface-hub==0.13.4 in /opt/app-root/lib64/python3.11/site-packages (from -r requirements.txt (line 6)) (0.13.4)\n",
      "Requirement already satisfied: setuptools>=67 in /opt/app-root/lib64/python3.11/site-packages (from pymilvus==2.4.4->-r requirements.txt (line 1)) (75.8.2)\n",
      "Requirement already satisfied: grpcio<=1.63.0,>=1.49.1 in /opt/app-root/lib64/python3.11/site-packages (from pymilvus==2.4.4->-r requirements.txt (line 1)) (1.63.0)\n",
      "Requirement already satisfied: protobuf>=3.20.0 in /opt/app-root/lib64/python3.11/site-packages (from pymilvus==2.4.4->-r requirements.txt (line 1)) (4.25.7)\n",
      "Requirement already satisfied: environs<=9.5.0 in /opt/app-root/lib64/python3.11/site-packages (from pymilvus==2.4.4->-r requirements.txt (line 1)) (9.5.0)\n",
      "Requirement already satisfied: ujson>=2.0.0 in /opt/app-root/lib64/python3.11/site-packages (from pymilvus==2.4.4->-r requirements.txt (line 1)) (5.10.0)\n",
      "Requirement already satisfied: pandas>=1.2.4 in /opt/app-root/lib64/python3.11/site-packages (from pymilvus==2.4.4->-r requirements.txt (line 1)) (2.2.3)\n",
      "Requirement already satisfied: milvus-lite<2.5.0,>=2.4.0 in /opt/app-root/lib64/python3.11/site-packages (from pymilvus==2.4.4->-r requirements.txt (line 1)) (2.4.12)\n",
      "Requirement already satisfied: transformers<5.0.0,>=4.6.0 in /opt/app-root/lib64/python3.11/site-packages (from sentence-transformers==2.2.2->-r requirements.txt (line 2)) (4.29.0)\n",
      "Requirement already satisfied: tqdm in /opt/app-root/lib64/python3.11/site-packages (from sentence-transformers==2.2.2->-r requirements.txt (line 2)) (4.67.1)\n",
      "Requirement already satisfied: torch>=1.6.0 in /opt/app-root/lib64/python3.11/site-packages (from sentence-transformers==2.2.2->-r requirements.txt (line 2)) (2.7.1)\n",
      "Requirement already satisfied: torchvision in /opt/app-root/lib64/python3.11/site-packages (from sentence-transformers==2.2.2->-r requirements.txt (line 2)) (0.22.1)\n",
      "Requirement already satisfied: numpy in /opt/app-root/lib64/python3.11/site-packages (from sentence-transformers==2.2.2->-r requirements.txt (line 2)) (2.2.6)\n",
      "Requirement already satisfied: scipy in /opt/app-root/lib64/python3.11/site-packages (from sentence-transformers==2.2.2->-r requirements.txt (line 2)) (1.15.3)\n",
      "Requirement already satisfied: nltk in /opt/app-root/lib64/python3.11/site-packages (from sentence-transformers==2.2.2->-r requirements.txt (line 2)) (3.9.1)\n",
      "Requirement already satisfied: sentencepiece in /opt/app-root/lib64/python3.11/site-packages (from sentence-transformers==2.2.2->-r requirements.txt (line 2)) (0.2.0)\n",
      "Requirement already satisfied: joblib>=1.2.0 in /opt/app-root/lib64/python3.11/site-packages (from scikit-learn==1.4.2->-r requirements.txt (line 3)) (1.5.0)\n",
      "Requirement already satisfied: threadpoolctl>=2.0.0 in /opt/app-root/lib64/python3.11/site-packages (from scikit-learn==1.4.2->-r requirements.txt (line 3)) (3.6.0)\n",
      "Requirement already satisfied: contourpy>=1.0.1 in /opt/app-root/lib64/python3.11/site-packages (from matplotlib==3.8.4->-r requirements.txt (line 4)) (1.3.2)\n",
      "Requirement already satisfied: cycler>=0.10 in /opt/app-root/lib64/python3.11/site-packages (from matplotlib==3.8.4->-r requirements.txt (line 4)) (0.12.1)\n",
      "Requirement already satisfied: fonttools>=4.22.0 in /opt/app-root/lib64/python3.11/site-packages (from matplotlib==3.8.4->-r requirements.txt (line 4)) (4.58.0)\n",
      "Requirement already satisfied: kiwisolver>=1.3.1 in /opt/app-root/lib64/python3.11/site-packages (from matplotlib==3.8.4->-r requirements.txt (line 4)) (1.4.8)\n",
      "Requirement already satisfied: packaging>=20.0 in /opt/app-root/lib64/python3.11/site-packages (from matplotlib==3.8.4->-r requirements.txt (line 4)) (25.0)\n",
      "Requirement already satisfied: pillow>=8 in /opt/app-root/lib64/python3.11/site-packages (from matplotlib==3.8.4->-r requirements.txt (line 4)) (11.2.1)\n",
      "Requirement already satisfied: pyparsing>=2.3.1 in /opt/app-root/lib64/python3.11/site-packages (from matplotlib==3.8.4->-r requirements.txt (line 4)) (3.2.3)\n",
      "Requirement already satisfied: python-dateutil>=2.7 in /opt/app-root/lib64/python3.11/site-packages (from matplotlib==3.8.4->-r requirements.txt (line 4)) (2.9.0.post0)\n",
      "Requirement already satisfied: filelock in /opt/app-root/lib64/python3.11/site-packages (from huggingface-hub==0.13.4->-r requirements.txt (line 6)) (3.18.0)\n",
      "Requirement already satisfied: requests in /opt/app-root/lib64/python3.11/site-packages (from huggingface-hub==0.13.4->-r requirements.txt (line 6)) (2.32.3)\n",
      "Requirement already satisfied: pyyaml>=5.1 in /opt/app-root/lib64/python3.11/site-packages (from huggingface-hub==0.13.4->-r requirements.txt (line 6)) (6.0.2)\n",
      "Requirement already satisfied: typing-extensions>=3.7.4.3 in /opt/app-root/lib64/python3.11/site-packages (from huggingface-hub==0.13.4->-r requirements.txt (line 6)) (4.13.2)\n",
      "Requirement already satisfied: python-dotenv in /opt/app-root/lib64/python3.11/site-packages (from environs<=9.5.0->pymilvus==2.4.4->-r requirements.txt (line 1)) (1.1.1)\n",
      "Requirement already satisfied: pytz>=2020.1 in /opt/app-root/lib64/python3.11/site-packages (from pandas>=1.2.4->pymilvus==2.4.4->-r requirements.txt (line 1)) (2025.2)\n",
      "Requirement already satisfied: tzdata>=2022.7 in /opt/app-root/lib64/python3.11/site-packages (from pandas>=1.2.4->pymilvus==2.4.4->-r requirements.txt (line 1)) (2025.2)\n",
      "Requirement already satisfied: six>=1.5 in /opt/app-root/lib64/python3.11/site-packages (from python-dateutil>=2.7->matplotlib==3.8.4->-r requirements.txt (line 4)) (1.17.0)\n",
      "Requirement already satisfied: sympy>=1.13.3 in /opt/app-root/lib64/python3.11/site-packages (from torch>=1.6.0->sentence-transformers==2.2.2->-r requirements.txt (line 2)) (1.14.0)\n",
      "Requirement already satisfied: networkx in /opt/app-root/lib64/python3.11/site-packages (from torch>=1.6.0->sentence-transformers==2.2.2->-r requirements.txt (line 2)) (3.4.2)\n",
      "Requirement already satisfied: jinja2 in /opt/app-root/lib64/python3.11/site-packages (from torch>=1.6.0->sentence-transformers==2.2.2->-r requirements.txt (line 2)) (3.1.6)\n",
      "Requirement already satisfied: fsspec in /opt/app-root/lib64/python3.11/site-packages (from torch>=1.6.0->sentence-transformers==2.2.2->-r requirements.txt (line 2)) (2025.5.0)\n",
      "Requirement already satisfied: nvidia-cuda-nvrtc-cu12==12.6.77 in /opt/app-root/lib64/python3.11/site-packages (from torch>=1.6.0->sentence-transformers==2.2.2->-r requirements.txt (line 2)) (12.6.77)\n",
      "Requirement already satisfied: nvidia-cuda-runtime-cu12==12.6.77 in /opt/app-root/lib64/python3.11/site-packages (from torch>=1.6.0->sentence-transformers==2.2.2->-r requirements.txt (line 2)) (12.6.77)\n",
      "Requirement already satisfied: nvidia-cuda-cupti-cu12==12.6.80 in /opt/app-root/lib64/python3.11/site-packages (from torch>=1.6.0->sentence-transformers==2.2.2->-r requirements.txt (line 2)) (12.6.80)\n",
      "Requirement already satisfied: nvidia-cudnn-cu12==9.5.1.17 in /opt/app-root/lib64/python3.11/site-packages (from torch>=1.6.0->sentence-transformers==2.2.2->-r requirements.txt (line 2)) (9.5.1.17)\n",
      "Requirement already satisfied: nvidia-cublas-cu12==12.6.4.1 in /opt/app-root/lib64/python3.11/site-packages (from torch>=1.6.0->sentence-transformers==2.2.2->-r requirements.txt (line 2)) (12.6.4.1)\n",
      "Requirement already satisfied: nvidia-cufft-cu12==11.3.0.4 in /opt/app-root/lib64/python3.11/site-packages (from torch>=1.6.0->sentence-transformers==2.2.2->-r requirements.txt (line 2)) (11.3.0.4)\n",
      "Requirement already satisfied: nvidia-curand-cu12==10.3.7.77 in /opt/app-root/lib64/python3.11/site-packages (from torch>=1.6.0->sentence-transformers==2.2.2->-r requirements.txt (line 2)) (10.3.7.77)\n",
      "Requirement already satisfied: nvidia-cusolver-cu12==11.7.1.2 in /opt/app-root/lib64/python3.11/site-packages (from torch>=1.6.0->sentence-transformers==2.2.2->-r requirements.txt (line 2)) (11.7.1.2)\n",
      "Requirement already satisfied: nvidia-cusparse-cu12==12.5.4.2 in /opt/app-root/lib64/python3.11/site-packages (from torch>=1.6.0->sentence-transformers==2.2.2->-r requirements.txt (line 2)) (12.5.4.2)\n",
      "Requirement already satisfied: nvidia-cusparselt-cu12==0.6.3 in /opt/app-root/lib64/python3.11/site-packages (from torch>=1.6.0->sentence-transformers==2.2.2->-r requirements.txt (line 2)) (0.6.3)\n",
      "Requirement already satisfied: nvidia-nccl-cu12==2.26.2 in /opt/app-root/lib64/python3.11/site-packages (from torch>=1.6.0->sentence-transformers==2.2.2->-r requirements.txt (line 2)) (2.26.2)\n",
      "Requirement already satisfied: nvidia-nvtx-cu12==12.6.77 in /opt/app-root/lib64/python3.11/site-packages (from torch>=1.6.0->sentence-transformers==2.2.2->-r requirements.txt (line 2)) (12.6.77)\n",
      "Requirement already satisfied: nvidia-nvjitlink-cu12==12.6.85 in /opt/app-root/lib64/python3.11/site-packages (from torch>=1.6.0->sentence-transformers==2.2.2->-r requirements.txt (line 2)) (12.6.85)\n",
      "Requirement already satisfied: nvidia-cufile-cu12==1.11.1.6 in /opt/app-root/lib64/python3.11/site-packages (from torch>=1.6.0->sentence-transformers==2.2.2->-r requirements.txt (line 2)) (1.11.1.6)\n",
      "Requirement already satisfied: triton==3.3.1 in /opt/app-root/lib64/python3.11/site-packages (from torch>=1.6.0->sentence-transformers==2.2.2->-r requirements.txt (line 2)) (3.3.1)\n",
      "Requirement already satisfied: regex!=2019.12.17 in /opt/app-root/lib64/python3.11/site-packages (from transformers<5.0.0,>=4.6.0->sentence-transformers==2.2.2->-r requirements.txt (line 2)) (2024.11.6)\n",
      "Requirement already satisfied: tokenizers!=0.11.3,<0.14,>=0.11.1 in /opt/app-root/lib64/python3.11/site-packages (from transformers<5.0.0,>=4.6.0->sentence-transformers==2.2.2->-r requirements.txt (line 2)) (0.13.3)\n",
      "Requirement already satisfied: click in /opt/app-root/lib64/python3.11/site-packages (from nltk->sentence-transformers==2.2.2->-r requirements.txt (line 2)) (8.2.1)\n",
      "Requirement already satisfied: charset-normalizer<4,>=2 in /opt/app-root/lib64/python3.11/site-packages (from requests->huggingface-hub==0.13.4->-r requirements.txt (line 6)) (3.4.2)\n",
      "Requirement already satisfied: idna<4,>=2.5 in /opt/app-root/lib64/python3.11/site-packages (from requests->huggingface-hub==0.13.4->-r requirements.txt (line 6)) (3.10)\n",
      "Requirement already satisfied: urllib3<3,>=1.21.1 in /opt/app-root/lib64/python3.11/site-packages (from requests->huggingface-hub==0.13.4->-r requirements.txt (line 6)) (1.26.20)\n",
      "Requirement already satisfied: certifi>=2017.4.17 in /opt/app-root/lib64/python3.11/site-packages (from requests->huggingface-hub==0.13.4->-r requirements.txt (line 6)) (2025.4.26)\n",
      "Requirement already satisfied: mpmath<1.4,>=1.1.0 in /opt/app-root/lib64/python3.11/site-packages (from sympy>=1.13.3->torch>=1.6.0->sentence-transformers==2.2.2->-r requirements.txt (line 2)) (1.3.0)\n",
      "Requirement already satisfied: MarkupSafe>=2.0 in /opt/app-root/lib64/python3.11/site-packages (from jinja2->torch>=1.6.0->sentence-transformers==2.2.2->-r requirements.txt (line 2)) (3.0.2)\n",
      "\n",
      "\u001b[1m[\u001b[0m\u001b[34;49mnotice\u001b[0m\u001b[1;39;49m]\u001b[0m\u001b[39;49m A new release of pip is available: \u001b[0m\u001b[31;49m24.2\u001b[0m\u001b[39;49m -> \u001b[0m\u001b[32;49m25.1.1\u001b[0m\n",
      "\u001b[1m[\u001b[0m\u001b[34;49mnotice\u001b[0m\u001b[1;39;49m]\u001b[0m\u001b[39;49m To update, run: \u001b[0m\u001b[32;49mpip install --upgrade pip\u001b[0m\n"
     ]
    }
   ],
   "source": [
    "# Install libraries\n",
    "!pip install -r requirements.txt"
   ]
  },
  {
   "cell_type": "code",
   "execution_count": 2,
   "id": "c7518dc2-fbeb-4968-b126-af818e32c436",
   "metadata": {},
   "outputs": [],
   "source": [
    "# Step 1: Install necessary libraries (run in a cell if needed)\n",
    "# !pip install pymilvus sentence-transformers scikit-learn matplotlib\n",
    "\n",
    "from pymilvus import connections, Collection, CollectionSchema, FieldSchema, DataType\n",
    "from sentence_transformers import SentenceTransformer\n",
    "from sklearn.metrics.pairwise import cosine_similarity\n",
    "import numpy as np\n",
    "import matplotlib.pyplot as plt\n",
    "from sklearn.decomposition import PCA"
   ]
  },
  {
   "cell_type": "code",
   "execution_count": 3,
   "id": "8d46693d-8b48-4ff7-a5cb-c37d9a391c82",
   "metadata": {},
   "outputs": [],
   "source": [
    "# Step 2: Connect to Milvus\n",
    "connections.connect(alias=\"default\", host=\"milvus-service.milvus.svc.cluster.local\", port=\"19530\")"
   ]
  },
  {
   "cell_type": "code",
   "execution_count": 4,
   "id": "3f7d30ba-34db-4f16-9565-9e76689e512f",
   "metadata": {},
   "outputs": [],
   "source": [
    "# Step 3: Define collection\n",
    "fields = [\n",
    "    FieldSchema(name=\"id\", dtype=DataType.INT64, is_primary=True, auto_id=False),\n",
    "    FieldSchema(name=\"embedding\", dtype=DataType.FLOAT_VECTOR, dim=384)\n",
    "]\n",
    "schema = CollectionSchema(fields, description=\"Simple semantic vector test\")\n",
    "collection_name = \"animal_test\"\n",
    "collection = Collection(name=collection_name, schema=schema)"
   ]
  },
  {
   "cell_type": "code",
   "execution_count": 5,
   "id": "c92a6ccd-6c07-494c-b412-25f8d435a515",
   "metadata": {},
   "outputs": [
    {
     "name": "stdout",
     "output_type": "stream",
     "text": [
      "Embedding for 'dog' (first 5 values):\n",
      "[-0.05314701  0.0141944   0.00714575  0.06860869 -0.07848033]\n",
      "\n",
      "Embedding for 'cat' (first 5 values):\n",
      "[ 0.03733039  0.05116175 -0.00030608  0.06020985 -0.11749439]\n",
      "\n",
      "Embedding for 'pumpkin' (first 5 values):\n",
      "[ 0.00623482  0.02070914 -0.05396153  0.05416822 -0.01124371]\n",
      "\n"
     ]
    }
   ],
   "source": [
    "# Step 4: Generate embeddings\n",
    "model = SentenceTransformer('all-MiniLM-L6-v2')\n",
    "terms = [\"dog\", \"cat\", \"pumpkin\"]\n",
    "embeddings = model.encode(terms)\n",
    "\n",
    "# Display the first 5 rows of embedding data\n",
    "for term, vector in zip(terms, embeddings):\n",
    "    print(f\"Embedding for '{term}' (first 5 values):\\n{vector[:5]}\\n\")"
   ]
  },
  {
   "cell_type": "code",
   "execution_count": 6,
   "id": "47cf2ddd-5419-4cc8-848a-5453c04569ec",
   "metadata": {},
   "outputs": [],
   "source": [
    "# Step 5: Insert into Milvus\n",
    "data = [\n",
    "    [0, 1, 2],  # ids\n",
    "    embeddings.tolist()\n",
    "]\n",
    "collection.insert(data)\n",
    "\n",
    "# Create index on the vector field\n",
    "collection.create_index(\n",
    "    field_name=\"embedding\",\n",
    "    index_params={\n",
    "        \"metric_type\": \"COSINE\",\n",
    "        \"index_type\": \"IVF_FLAT\",\n",
    "        \"params\": {\"nlist\": 128}\n",
    "    }\n",
    ")\n",
    "\n",
    "collection.load()"
   ]
  },
  {
   "cell_type": "code",
   "execution_count": 7,
   "id": "cfb64183-86b1-4164-87bd-59993ae9abd6",
   "metadata": {},
   "outputs": [],
   "source": [
    "# Step 6: Perform search\n",
    "def search(term):\n",
    "    vector = model.encode([term])\n",
    "    results = collection.search(vector, \"embedding\", param={\"metric_type\": \"COSINE\"}, limit=3)\n",
    "    return results\n",
    "\n",
    "results_dog = search(\"dog\")"
   ]
  },
  {
   "cell_type": "code",
   "execution_count": 8,
   "id": "4bec5441-cb79-4387-bdcb-6429c3e8eae1",
   "metadata": {},
   "outputs": [
    {
     "name": "stdout",
     "output_type": "stream",
     "text": [
      "Similarity (dog vs cat): 0.6606375\n",
      "Similarity (dog vs pumpkin): 0.37011895\n"
     ]
    }
   ],
   "source": [
    "# Step 7: Cosine similarity for illustration\n",
    "cos_sim = cosine_similarity([embeddings[0]], embeddings[1:])\n",
    "print(\"Similarity (dog vs cat):\", cos_sim[0][0])\n",
    "print(\"Similarity (dog vs pumpkin):\", cos_sim[0][1])"
   ]
  },
  {
   "cell_type": "code",
   "execution_count": 9,
   "id": "ccf70090-b150-4d0d-86be-c35c15bcefcf",
   "metadata": {},
   "outputs": [
    {
     "data": {
      "image/png": "[encoded data removed]",
      "text/plain": [
       "<Figure size 640x480 with 1 Axes>"
      ]
     },
     "metadata": {},
     "output_type": "display_data"
    }
   ],
   "source": [
    "# Step 8: Optional visualisation\n",
    "pca = PCA(n_components=2)\n",
    "reduced = pca.fit_transform(embeddings)\n",
    "plt.scatter(reduced[:, 0], reduced[:, 1])\n",
    "for i, term in enumerate(terms):\n",
    "    plt.annotate(term, (reduced[i, 0], reduced[i, 1]))\n",
    "plt.title(\"PCA Projection of Embeddings\")\n",
    "plt.show()"
   ]
  },
  {
   "cell_type": "code",
   "execution_count": null,
   "id": "989f225e-57c8-400a-b158-9767ebbf6c14",
   "metadata": {},
   "outputs": [],
   "source": []
  }
 ],
 "metadata": {
  "kernelspec": {
   "display_name": "Python 3.11",
   "language": "python",
   "name": "python3"
  },
  "language_info": {
   "codemirror_mode": {
    "name": "ipython",
    "version": 3
   },
   "file_extension": ".py",
   "mimetype": "text/x-python",
   "name": "python",
   "nbconvert_exporter": "python",
   "pygments_lexer": "ipython3",
   "version": "3.11.11"
  }
 },
 "nbformat": 4,
 "nbformat_minor": 5
}
