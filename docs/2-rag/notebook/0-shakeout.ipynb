{
 "cells": [
  {
   "cell_type": "code",
   "execution_count": null,
   "id": "c7518dc2-fbeb-4968-b126-af818e32c436",
   "metadata": {},
   "outputs": [],
   "source": [
    "# Step 1: Install necessary libraries (run in a cell if needed)\n",
    "!pip install -q -r requirements.txt\n",
    "\n",
    "from pymilvus import connections, Collection, CollectionSchema, FieldSchema, DataType\n",
    "from sentence_transformers import SentenceTransformer\n",
    "from sklearn.metrics.pairwise import cosine_similarity\n",
    "import numpy as np\n",
    "import matplotlib.pyplot as plt\n",
    "from sklearn.decomposition import PCA"
   ]
  },
  {
   "cell_type": "markdown",
   "id": "61b36009-61f9-4308-b770-8d5656c4090e",
   "metadata": {},
   "source": [
    "# Shakeout minio connection"
   ]
  },
  {
   "cell_type": "code",
   "execution_count": null,
   "id": "51adc21c-8892-4ef2-ab9d-7d67dbf4775e",
   "metadata": {},
   "outputs": [],
   "source": [
    "#!/usr/bin/env python3\n",
    "\"\"\"\n",
    "Shake-out test for a MinIO deployment on Kubernetes.\n",
    "\n",
    "Environment variables:\n",
    "  AWS_S3_ENDPOINT        – MinIO service DNS name (e.g. minio.minio.svc.cluster.local)\n",
    "  AWS_ACCESS_KEY_ID      – MinIO access key\n",
    "  AWS_SECRET_ACCESS_KEY  – MinIO secret key\n",
    "  AWS_DEFAULT_REGION     – Dummy value; boto3 still expects one\n",
    "\"\"\"\n",
    "import os\n",
    "import sys\n",
    "\n",
    "import boto3\n",
    "from botocore.client import Config\n",
    "from botocore.exceptions import BotoCoreError, ClientError\n",
    "\n",
    "\n",
    "def main() -> None:\n",
    "    endpoint = os.getenv(\"AWS_S3_ENDPOINT\", \"minio.minio.svc.cluster.local\")\n",
    "    access_key = os.getenv(\"AWS_ACCESS_KEY_ID\", \"minio\")\n",
    "    secret_key = os.getenv(\"AWS_SECRET_ACCESS_KEY\", \"test\")\n",
    "    region = os.getenv(\"AWS_DEFAULT_REGION\", \"us-east-1\") or \"us-east-1\"\n",
    "\n",
    "    try:\n",
    "        s3 = boto3.client(\n",
    "            \"s3\",\n",
    "            endpoint_url=f\"http://{endpoint}\",\n",
    "            aws_access_key_id=access_key,\n",
    "            aws_secret_access_key=secret_key,\n",
    "            region_name=region,\n",
    "            config=Config(signature_version=\"s3v4\"),\n",
    "        )\n",
    "\n",
    "        resp = s3.list_buckets()\n",
    "        buckets = [b[\"Name\"] for b in resp.get(\"Buckets\", [])]\n",
    "\n",
    "        if buckets:\n",
    "            print(\"🟢 Connection succeeded – buckets discovered:\")\n",
    "            for name in buckets:\n",
    "                print(f\"  • {name}\")\n",
    "        else:\n",
    "            print(\"🟢 Connected but no buckets found.\")\n",
    "\n",
    "    except (BotoCoreError, ClientError) as exc:\n",
    "        print(f\"🔴 MinIO connectivity test failed: {exc}\", file=sys.stderr)\n",
    "        sys.exit(1)\n",
    "\n",
    "\n",
    "if __name__ == \"__main__\":\n",
    "    main()"
   ]
  },
  {
   "cell_type": "markdown",
   "id": "5ae4bfa8-7250-457e-bc39-7dadefaf3d6a",
   "metadata": {},
   "source": [
    "# Shakeout the Milvus connectivity\n"
   ]
  },
  {
   "cell_type": "markdown",
   "id": "f8acfa6d-a20f-4028-ba4c-f6be7cfb39ec",
   "metadata": {},
   "source": [
    "## Create the Milvus database"
   ]
  },
  {
   "cell_type": "code",
   "execution_count": null,
   "id": "87ac1faa-dd01-43cd-95ff-47ac827222c2",
   "metadata": {},
   "outputs": [],
   "source": [
    "from pymilvus import MilvusClient\n",
    "\n",
    "# This is the name of the collection that this program will use.\n",
    "collection_name = \"shakeout_collection\"\n",
    "\n",
    "# Create the client object\n",
    "milvus_client = MilvusClient(\n",
    "    uri=\"http://milvus-service.milvus.svc.cluster.local:19530\",\n",
    "    db_name=\"default\"\n",
    ")"
   ]
  },
  {
   "cell_type": "code",
   "execution_count": null,
   "id": "0597e32f-9e61-48d6-952c-4580f19791f7",
   "metadata": {},
   "outputs": [],
   "source": [
    "# Make sure we start with a clean slate by deleting the collection if it exists from a prior run.\n",
    "if milvus_client.has_collection(collection_name):\n",
    "    milvus_client.drop_collection(collection_name)"
   ]
  },
  {
   "cell_type": "code",
   "execution_count": null,
   "id": "b9d641bb-4409-40c1-bed2-33434ddf723c",
   "metadata": {},
   "outputs": [],
   "source": [
    "# 1. Build the schema that the database will use.\n",
    "embedding_dim=384    # This is defined by the embedding model we use.\n",
    "\n",
    "schema = MilvusClient.create_schema(auto_id=False, enable_dynamic_field=False)\n",
    "schema.add_field(\"id\", DataType.INT64, is_primary=True, auto_id=False)\n",
    "schema.add_field(\"embedding\", DataType.FLOAT_VECTOR, dim=embedding_dim)"
   ]
  },
  {
   "cell_type": "code",
   "execution_count": null,
   "id": "79353e11-8b06-465e-ace0-ee4f5ef205cc",
   "metadata": {},
   "outputs": [],
   "source": [
    "# Create the collection and attach the schema defined above\n",
    "milvus_client.create_collection(\n",
    "    collection_name=collection_name,\n",
    "    schema=schema,\n",
    "    metric_type=\"IP\",            # inner product\n",
    "    consistency_level=\"Strong\",\n",
    ")\n",
    "\n",
    "# Debug print statement to make sure we can see the collection\n",
    "print(f\"Collection list: {milvus_client.list_collections()}\") "
   ]
  },
  {
   "cell_type": "markdown",
   "id": "e9a43ec4-519d-4ef3-921e-969d55858f0e",
   "metadata": {},
   "source": [
    "## Create test data for the vector database"
   ]
  },
  {
   "cell_type": "code",
   "execution_count": null,
   "id": "c92a6ccd-6c07-494c-b412-25f8d435a515",
   "metadata": {},
   "outputs": [],
   "source": [
    "# Generate embeddings using a simple embedding model from Hugging Face\n",
    "model = SentenceTransformer('all-MiniLM-L6-v2')\n",
    "\n",
    "# We will put three words into the database and hope to see how the vector database uses the \n",
    "# embedding model to store these in a way where we can find the most similar words (cat and dog)\n",
    "terms = [\"dog\", \"cat\", \"pumpkin\"]\n",
    "embeddings = model.encode(terms)\n",
    "\n",
    "# Display the first 5 rows of embedding data. Observe that these are now vectors.\n",
    "for term, vector in zip(terms, embeddings):\n",
    "    print(f\"Embedding for '{term}' (first 5 values):\\n{vector[:5]}\\n\")"
   ]
  },
  {
   "cell_type": "code",
   "execution_count": null,
   "id": "8736613a-b702-42e5-ab99-901b0e4ed823",
   "metadata": {},
   "outputs": [],
   "source": [
    "# Create a \"list of dictionaries\" data structure that matches the schema we defined for the vector database. E.g.\n",
    "# [\n",
    "#    {\"id\": 0, \"embedding\": [0.1, 0.2, ...]},\n",
    "#    {\"id\": 1, \"embedding\": [0.3, 0.4, ...]},\n",
    "#    {\"id\": 2, \"embedding\": [0.6, 0.2, ...]}\n",
    "#]\n",
    "data = [\n",
    "    {\"id\": i, \"embedding\": vec}\n",
    "    for i, vec in enumerate(embeddings.tolist())\n",
    "]"
   ]
  },
  {
   "cell_type": "code",
   "execution_count": null,
   "id": "a3b6fd94-63d9-4caf-bb5e-b5f3e7f54315",
   "metadata": {},
   "outputs": [],
   "source": [
    "# Insert the vectors into the collection\n",
    "milvus_client.insert(collection_name=collection_name, data=data)"
   ]
  },
  {
   "cell_type": "code",
   "execution_count": null,
   "id": "f41ad3ed-97fe-4737-ac52-8e4e876f2eac",
   "metadata": {},
   "outputs": [],
   "source": [
    "# Create index on the vector field\n",
    "milvus_client.create_index(\n",
    "    field_name=\"embedding\",\n",
    "    index_params={\n",
    "        \"metric_type\": \"COSINE\",\n",
    "        \"index_type\": \"IVF_FLAT\",\n",
    "        \"params\": {\"nlist\": 128}\n",
    "    }\n",
    ")\n",
    "\n",
    "collection.load()"
   ]
  },
  {
   "cell_type": "markdown",
   "id": "0e078f59-518f-4203-af5a-f9b4738140e0",
   "metadata": {},
   "source": [
    "## Test data retrieval"
   ]
  },
  {
   "cell_type": "code",
   "execution_count": null,
   "id": "cfb64183-86b1-4164-87bd-59993ae9abd6",
   "metadata": {},
   "outputs": [],
   "source": [
    "# Prove we can retireve data from the database\n",
    "def search(term):\n",
    "    vector = model.encode([term])\n",
    "    results = collection.search(vector, \"embedding\", param={\"metric_type\": \"COSINE\"}, limit=3)\n",
    "    return results\n",
    "\n",
    "results_dog = search(\"dog\")\n",
    "print(f\"Results: {results_dog}\")"
   ]
  },
  {
   "cell_type": "code",
   "execution_count": null,
   "id": "4bec5441-cb79-4387-bdcb-6429c3e8eae1",
   "metadata": {},
   "outputs": [],
   "source": [
    "# Perform a cosine similarity search to find how similar dog (embeddings[0]) is to cat and pumpkin (embeddings[1:]).\n",
    "cos_sim = cosine_similarity([embeddings[0]], embeddings[1:])\n",
    "\n",
    "print(\"Similarity (dog vs cat):\", cos_sim[0][0])\n",
    "print(\"Similarity (dog vs pumpkin):\", cos_sim[0][1])"
   ]
  },
  {
   "cell_type": "code",
   "execution_count": null,
   "id": "ccf70090-b150-4d0d-86be-c35c15bcefcf",
   "metadata": {},
   "outputs": [],
   "source": [
    "# Visualise the result\n",
    "pca = PCA(n_components=2)\n",
    "reduced = pca.fit_transform(embeddings)\n",
    "plt.scatter(reduced[:, 0], reduced[:, 1])\n",
    "for i, term in enumerate(terms):\n",
    "    plt.annotate(term, (reduced[i, 0], reduced[i, 1]))\n",
    "plt.title(\"PCA Projection of Embeddings\")\n",
    "plt.show()"
   ]
  },
  {
   "cell_type": "code",
   "execution_count": null,
   "id": "28fc69d4-7c1a-43f6-80c3-fe47edf2718b",
   "metadata": {},
   "outputs": [],
   "source": [
    "# Close the Milvus connection\n",
    "milvus_client.close()\n",
    "milvus_client.drop_collection(collection_name)"
   ]
  }
 ],
 "metadata": {
  "kernelspec": {
   "display_name": "Python 3.11",
   "language": "python",
   "name": "python3"
  },
  "language_info": {
   "codemirror_mode": {
    "name": "ipython",
    "version": 3
   },
   "file_extension": ".py",
   "mimetype": "text/x-python",
   "name": "python",
   "nbconvert_exporter": "python",
   "pygments_lexer": "ipython3",
   "version": "3.11.11"
  }
 },
 "nbformat": 4,
 "nbformat_minor": 5
}
