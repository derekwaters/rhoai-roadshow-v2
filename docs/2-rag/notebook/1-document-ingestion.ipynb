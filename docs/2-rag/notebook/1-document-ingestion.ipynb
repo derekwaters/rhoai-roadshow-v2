{
 "cells": [
  {
   "cell_type": "markdown",
   "id": "ac9b9a5e-7bb4-4334-a2f1-df28fbf031ba",
   "metadata": {},
   "source": [
    "# Overview\n",
    "\n"
   ]
  },
  {
   "cell_type": "code",
   "execution_count": 1,
   "id": "cd443db6-4eca-42c3-b63a-be3286249a67",
   "metadata": {},
   "outputs": [
    {
     "name": "stdout",
     "output_type": "stream",
     "text": [
      "Collecting pymilvus==2.4.4 (from -r requirements.txt (line 1))\n",
      "  Downloading pymilvus-2.4.4-py3-none-any.whl.metadata (5.4 kB)\n",
      "Requirement already satisfied: sentence-transformers==2.2.2 in /opt/app-root/lib64/python3.11/site-packages (from -r requirements.txt (line 2)) (2.2.2)\n",
      "Requirement already satisfied: scikit-learn==1.4.2 in /opt/app-root/lib64/python3.11/site-packages (from -r requirements.txt (line 3)) (1.4.2)\n",
      "Requirement already satisfied: matplotlib==3.8.4 in /opt/app-root/lib64/python3.11/site-packages (from -r requirements.txt (line 4)) (3.8.4)\n",
      "Requirement already satisfied: marshmallow==3.20.2 in /opt/app-root/lib64/python3.11/site-packages (from -r requirements.txt (line 5)) (3.20.2)\n",
      "Requirement already satisfied: boto3==1.34.103 in /opt/app-root/lib64/python3.11/site-packages (from -r requirements.txt (line 7)) (1.34.103)\n",
      "Requirement already satisfied: docling in /opt/app-root/lib64/python3.11/site-packages (from -r requirements.txt (line 8)) (2.39.0)\n",
      "Requirement already satisfied: setuptools>=67 in /opt/app-root/lib64/python3.11/site-packages (from pymilvus==2.4.4->-r requirements.txt (line 1)) (75.8.2)\n",
      "Requirement already satisfied: grpcio<=1.63.0,>=1.49.1 in /opt/app-root/lib64/python3.11/site-packages (from pymilvus==2.4.4->-r requirements.txt (line 1)) (1.63.0)\n",
      "Requirement already satisfied: protobuf>=3.20.0 in /opt/app-root/lib64/python3.11/site-packages (from pymilvus==2.4.4->-r requirements.txt (line 1)) (6.31.1)\n",
      "Requirement already satisfied: environs<=9.5.0 in /opt/app-root/lib64/python3.11/site-packages (from pymilvus==2.4.4->-r requirements.txt (line 1)) (9.5.0)\n",
      "Requirement already satisfied: ujson>=2.0.0 in /opt/app-root/lib64/python3.11/site-packages (from pymilvus==2.4.4->-r requirements.txt (line 1)) (5.10.0)\n",
      "Requirement already satisfied: pandas>=1.2.4 in /opt/app-root/lib64/python3.11/site-packages (from pymilvus==2.4.4->-r requirements.txt (line 1)) (2.3.0)\n",
      "Requirement already satisfied: milvus-lite<2.5.0,>=2.4.0 in /opt/app-root/lib64/python3.11/site-packages (from pymilvus==2.4.4->-r requirements.txt (line 1)) (2.4.12)\n",
      "Requirement already satisfied: transformers<5.0.0,>=4.6.0 in /opt/app-root/lib64/python3.11/site-packages (from sentence-transformers==2.2.2->-r requirements.txt (line 2)) (4.53.0)\n",
      "Requirement already satisfied: tqdm in /opt/app-root/lib64/python3.11/site-packages (from sentence-transformers==2.2.2->-r requirements.txt (line 2)) (4.67.1)\n",
      "Requirement already satisfied: torch>=1.6.0 in /opt/app-root/lib64/python3.11/site-packages (from sentence-transformers==2.2.2->-r requirements.txt (line 2)) (2.7.1)\n",
      "Requirement already satisfied: torchvision in /opt/app-root/lib64/python3.11/site-packages (from sentence-transformers==2.2.2->-r requirements.txt (line 2)) (0.22.1)\n",
      "Requirement already satisfied: numpy in /opt/app-root/lib64/python3.11/site-packages (from sentence-transformers==2.2.2->-r requirements.txt (line 2)) (2.3.1)\n",
      "Requirement already satisfied: scipy in /opt/app-root/lib64/python3.11/site-packages (from sentence-transformers==2.2.2->-r requirements.txt (line 2)) (1.16.0)\n",
      "Requirement already satisfied: nltk in /opt/app-root/lib64/python3.11/site-packages (from sentence-transformers==2.2.2->-r requirements.txt (line 2)) (3.9.1)\n",
      "Requirement already satisfied: sentencepiece in /opt/app-root/lib64/python3.11/site-packages (from sentence-transformers==2.2.2->-r requirements.txt (line 2)) (0.2.0)\n",
      "Requirement already satisfied: huggingface-hub>=0.4.0 in /opt/app-root/lib64/python3.11/site-packages (from sentence-transformers==2.2.2->-r requirements.txt (line 2)) (0.33.2)\n",
      "Requirement already satisfied: joblib>=1.2.0 in /opt/app-root/lib64/python3.11/site-packages (from scikit-learn==1.4.2->-r requirements.txt (line 3)) (1.5.1)\n",
      "Requirement already satisfied: threadpoolctl>=2.0.0 in /opt/app-root/lib64/python3.11/site-packages (from scikit-learn==1.4.2->-r requirements.txt (line 3)) (3.6.0)\n",
      "Requirement already satisfied: contourpy>=1.0.1 in /opt/app-root/lib64/python3.11/site-packages (from matplotlib==3.8.4->-r requirements.txt (line 4)) (1.3.2)\n",
      "Requirement already satisfied: cycler>=0.10 in /opt/app-root/lib64/python3.11/site-packages (from matplotlib==3.8.4->-r requirements.txt (line 4)) (0.12.1)\n",
      "Requirement already satisfied: fonttools>=4.22.0 in /opt/app-root/lib64/python3.11/site-packages (from matplotlib==3.8.4->-r requirements.txt (line 4)) (4.58.4)\n",
      "Requirement already satisfied: kiwisolver>=1.3.1 in /opt/app-root/lib64/python3.11/site-packages (from matplotlib==3.8.4->-r requirements.txt (line 4)) (1.4.8)\n",
      "Requirement already satisfied: packaging>=20.0 in /opt/app-root/lib64/python3.11/site-packages (from matplotlib==3.8.4->-r requirements.txt (line 4)) (25.0)\n",
      "Requirement already satisfied: pillow>=8 in /opt/app-root/lib64/python3.11/site-packages (from matplotlib==3.8.4->-r requirements.txt (line 4)) (11.3.0)\n",
      "Requirement already satisfied: pyparsing>=2.3.1 in /opt/app-root/lib64/python3.11/site-packages (from matplotlib==3.8.4->-r requirements.txt (line 4)) (3.2.3)\n",
      "Requirement already satisfied: python-dateutil>=2.7 in /opt/app-root/lib64/python3.11/site-packages (from matplotlib==3.8.4->-r requirements.txt (line 4)) (2.9.0.post0)\n",
      "Requirement already satisfied: botocore<1.35.0,>=1.34.103 in /opt/app-root/lib64/python3.11/site-packages (from boto3==1.34.103->-r requirements.txt (line 7)) (1.34.162)\n",
      "Requirement already satisfied: jmespath<2.0.0,>=0.7.1 in /opt/app-root/lib64/python3.11/site-packages (from boto3==1.34.103->-r requirements.txt (line 7)) (1.0.1)\n",
      "Requirement already satisfied: s3transfer<0.11.0,>=0.10.0 in /opt/app-root/lib64/python3.11/site-packages (from boto3==1.34.103->-r requirements.txt (line 7)) (0.10.4)\n",
      "Requirement already satisfied: pydantic<3.0.0,>=2.0.0 in /opt/app-root/lib64/python3.11/site-packages (from docling->-r requirements.txt (line 8)) (2.11.7)\n",
      "Requirement already satisfied: docling-core<3.0.0,>=2.39.0 in /opt/app-root/lib64/python3.11/site-packages (from docling-core[chunking]<3.0.0,>=2.39.0->docling->-r requirements.txt (line 8)) (2.40.0)\n",
      "Requirement already satisfied: docling-ibm-models<4.0.0,>=3.4.4 in /opt/app-root/lib64/python3.11/site-packages (from docling->-r requirements.txt (line 8)) (3.6.0)\n",
      "Requirement already satisfied: docling-parse<5.0.0,>=4.0.0 in /opt/app-root/lib64/python3.11/site-packages (from docling->-r requirements.txt (line 8)) (4.1.0)\n",
      "Requirement already satisfied: filetype<2.0.0,>=1.2.0 in /opt/app-root/lib64/python3.11/site-packages (from docling->-r requirements.txt (line 8)) (1.2.0)\n",
      "Requirement already satisfied: pypdfium2<5.0.0,>=4.30.0 in /opt/app-root/lib64/python3.11/site-packages (from docling->-r requirements.txt (line 8)) (4.30.1)\n",
      "Requirement already satisfied: pydantic-settings<3.0.0,>=2.3.0 in /opt/app-root/lib64/python3.11/site-packages (from docling->-r requirements.txt (line 8)) (2.10.1)\n",
      "Requirement already satisfied: requests<3.0.0,>=2.32.2 in /opt/app-root/lib64/python3.11/site-packages (from docling->-r requirements.txt (line 8)) (2.32.3)\n",
      "Requirement already satisfied: easyocr<2.0,>=1.7 in /opt/app-root/lib64/python3.11/site-packages (from docling->-r requirements.txt (line 8)) (1.7.2)\n",
      "Requirement already satisfied: certifi>=2024.7.4 in /opt/app-root/lib64/python3.11/site-packages (from docling->-r requirements.txt (line 8)) (2025.4.26)\n",
      "Requirement already satisfied: rtree<2.0.0,>=1.3.0 in /opt/app-root/lib64/python3.11/site-packages (from docling->-r requirements.txt (line 8)) (1.4.0)\n",
      "Requirement already satisfied: typer<0.17.0,>=0.12.5 in /opt/app-root/lib64/python3.11/site-packages (from docling->-r requirements.txt (line 8)) (0.16.0)\n",
      "Requirement already satisfied: python-docx<2.0.0,>=1.1.2 in /opt/app-root/lib64/python3.11/site-packages (from docling->-r requirements.txt (line 8)) (1.2.0)\n",
      "Requirement already satisfied: python-pptx<2.0.0,>=1.0.2 in /opt/app-root/lib64/python3.11/site-packages (from docling->-r requirements.txt (line 8)) (1.0.2)\n",
      "Requirement already satisfied: beautifulsoup4<5.0.0,>=4.12.3 in /opt/app-root/lib64/python3.11/site-packages (from docling->-r requirements.txt (line 8)) (4.13.4)\n",
      "Requirement already satisfied: marko<3.0.0,>=2.1.2 in /opt/app-root/lib64/python3.11/site-packages (from docling->-r requirements.txt (line 8)) (2.1.4)\n",
      "Requirement already satisfied: openpyxl<4.0.0,>=3.1.5 in /opt/app-root/lib64/python3.11/site-packages (from docling->-r requirements.txt (line 8)) (3.1.5)\n",
      "Requirement already satisfied: lxml<6.0.0,>=4.0.0 in /opt/app-root/lib64/python3.11/site-packages (from docling->-r requirements.txt (line 8)) (5.4.0)\n",
      "Requirement already satisfied: pluggy<2.0.0,>=1.0.0 in /opt/app-root/lib64/python3.11/site-packages (from docling->-r requirements.txt (line 8)) (1.6.0)\n",
      "Requirement already satisfied: pylatexenc<3.0,>=2.10 in /opt/app-root/lib64/python3.11/site-packages (from docling->-r requirements.txt (line 8)) (2.10)\n",
      "Requirement already satisfied: soupsieve>1.2 in /opt/app-root/lib64/python3.11/site-packages (from beautifulsoup4<5.0.0,>=4.12.3->docling->-r requirements.txt (line 8)) (2.7)\n",
      "Requirement already satisfied: typing-extensions>=4.0.0 in /opt/app-root/lib64/python3.11/site-packages (from beautifulsoup4<5.0.0,>=4.12.3->docling->-r requirements.txt (line 8)) (4.13.2)\n",
      "Requirement already satisfied: urllib3!=2.2.0,<3,>=1.25.4 in /opt/app-root/lib64/python3.11/site-packages (from botocore<1.35.0,>=1.34.103->boto3==1.34.103->-r requirements.txt (line 7)) (2.4.0)\n",
      "Requirement already satisfied: jsonschema<5.0.0,>=4.16.0 in /opt/app-root/lib64/python3.11/site-packages (from docling-core<3.0.0,>=2.39.0->docling-core[chunking]<3.0.0,>=2.39.0->docling->-r requirements.txt (line 8)) (4.23.0)\n",
      "Requirement already satisfied: jsonref<2.0.0,>=1.1.0 in /opt/app-root/lib64/python3.11/site-packages (from docling-core<3.0.0,>=2.39.0->docling-core[chunking]<3.0.0,>=2.39.0->docling->-r requirements.txt (line 8)) (1.1.0)\n",
      "Requirement already satisfied: tabulate<0.10.0,>=0.9.0 in /opt/app-root/lib64/python3.11/site-packages (from docling-core<3.0.0,>=2.39.0->docling-core[chunking]<3.0.0,>=2.39.0->docling->-r requirements.txt (line 8)) (0.9.0)\n",
      "Requirement already satisfied: pyyaml<7.0.0,>=5.1 in /opt/app-root/lib64/python3.11/site-packages (from docling-core<3.0.0,>=2.39.0->docling-core[chunking]<3.0.0,>=2.39.0->docling->-r requirements.txt (line 8)) (6.0.2)\n",
      "Requirement already satisfied: latex2mathml<4.0.0,>=3.77.0 in /opt/app-root/lib64/python3.11/site-packages (from docling-core<3.0.0,>=2.39.0->docling-core[chunking]<3.0.0,>=2.39.0->docling->-r requirements.txt (line 8)) (3.78.0)\n",
      "Requirement already satisfied: semchunk<3.0.0,>=2.2.0 in /opt/app-root/lib64/python3.11/site-packages (from docling-core[chunking]<3.0.0,>=2.39.0->docling->-r requirements.txt (line 8)) (2.2.2)\n",
      "Requirement already satisfied: jsonlines<4.0.0,>=3.1.0 in /opt/app-root/lib64/python3.11/site-packages (from docling-ibm-models<4.0.0,>=3.4.4->docling->-r requirements.txt (line 8)) (3.1.0)\n",
      "Requirement already satisfied: opencv-python-headless<5.0.0.0,>=4.6.0.66 in /opt/app-root/lib64/python3.11/site-packages (from docling-ibm-models<4.0.0,>=3.4.4->docling->-r requirements.txt (line 8)) (4.11.0.86)\n",
      "Requirement already satisfied: safetensors<1,>=0.4.3 in /opt/app-root/lib64/python3.11/site-packages (from safetensors[torch]<1,>=0.4.3->docling-ibm-models<4.0.0,>=3.4.4->docling->-r requirements.txt (line 8)) (0.5.3)\n",
      "Requirement already satisfied: scikit-image in /opt/app-root/lib64/python3.11/site-packages (from easyocr<2.0,>=1.7->docling->-r requirements.txt (line 8)) (0.25.2)\n",
      "Requirement already satisfied: python-bidi in /opt/app-root/lib64/python3.11/site-packages (from easyocr<2.0,>=1.7->docling->-r requirements.txt (line 8)) (0.6.6)\n",
      "Requirement already satisfied: Shapely in /opt/app-root/lib64/python3.11/site-packages (from easyocr<2.0,>=1.7->docling->-r requirements.txt (line 8)) (2.1.1)\n",
      "Requirement already satisfied: pyclipper in /opt/app-root/lib64/python3.11/site-packages (from easyocr<2.0,>=1.7->docling->-r requirements.txt (line 8)) (1.3.0.post6)\n",
      "Requirement already satisfied: ninja in /opt/app-root/lib64/python3.11/site-packages (from easyocr<2.0,>=1.7->docling->-r requirements.txt (line 8)) (1.11.1.4)\n",
      "Requirement already satisfied: python-dotenv in /opt/app-root/lib64/python3.11/site-packages (from environs<=9.5.0->pymilvus==2.4.4->-r requirements.txt (line 1)) (1.1.1)\n",
      "Requirement already satisfied: filelock in /opt/app-root/lib64/python3.11/site-packages (from huggingface-hub>=0.4.0->sentence-transformers==2.2.2->-r requirements.txt (line 2)) (3.18.0)\n",
      "Requirement already satisfied: fsspec>=2023.5.0 in /opt/app-root/lib64/python3.11/site-packages (from huggingface-hub>=0.4.0->sentence-transformers==2.2.2->-r requirements.txt (line 2)) (2025.5.1)\n",
      "Requirement already satisfied: hf-xet<2.0.0,>=1.1.2 in /opt/app-root/lib64/python3.11/site-packages (from huggingface-hub>=0.4.0->sentence-transformers==2.2.2->-r requirements.txt (line 2)) (1.1.5)\n",
      "Requirement already satisfied: et-xmlfile in /opt/app-root/lib64/python3.11/site-packages (from openpyxl<4.0.0,>=3.1.5->docling->-r requirements.txt (line 8)) (2.0.0)\n",
      "Requirement already satisfied: pytz>=2020.1 in /opt/app-root/lib64/python3.11/site-packages (from pandas>=1.2.4->pymilvus==2.4.4->-r requirements.txt (line 1)) (2025.2)\n",
      "Requirement already satisfied: tzdata>=2022.7 in /opt/app-root/lib64/python3.11/site-packages (from pandas>=1.2.4->pymilvus==2.4.4->-r requirements.txt (line 1)) (2025.2)\n",
      "Requirement already satisfied: annotated-types>=0.6.0 in /opt/app-root/lib64/python3.11/site-packages (from pydantic<3.0.0,>=2.0.0->docling->-r requirements.txt (line 8)) (0.7.0)\n",
      "Requirement already satisfied: pydantic-core==2.33.2 in /opt/app-root/lib64/python3.11/site-packages (from pydantic<3.0.0,>=2.0.0->docling->-r requirements.txt (line 8)) (2.33.2)\n",
      "Requirement already satisfied: typing-inspection>=0.4.0 in /opt/app-root/lib64/python3.11/site-packages (from pydantic<3.0.0,>=2.0.0->docling->-r requirements.txt (line 8)) (0.4.1)\n",
      "Requirement already satisfied: six>=1.5 in /opt/app-root/lib64/python3.11/site-packages (from python-dateutil>=2.7->matplotlib==3.8.4->-r requirements.txt (line 4)) (1.17.0)\n",
      "Requirement already satisfied: XlsxWriter>=0.5.7 in /opt/app-root/lib64/python3.11/site-packages (from python-pptx<2.0.0,>=1.0.2->docling->-r requirements.txt (line 8)) (3.2.5)\n",
      "Requirement already satisfied: charset-normalizer<4,>=2 in /opt/app-root/lib64/python3.11/site-packages (from requests<3.0.0,>=2.32.2->docling->-r requirements.txt (line 8)) (3.4.2)\n",
      "Requirement already satisfied: idna<4,>=2.5 in /opt/app-root/lib64/python3.11/site-packages (from requests<3.0.0,>=2.32.2->docling->-r requirements.txt (line 8)) (3.10)\n",
      "Requirement already satisfied: sympy>=1.13.3 in /opt/app-root/lib64/python3.11/site-packages (from torch>=1.6.0->sentence-transformers==2.2.2->-r requirements.txt (line 2)) (1.14.0)\n",
      "Requirement already satisfied: networkx in /opt/app-root/lib64/python3.11/site-packages (from torch>=1.6.0->sentence-transformers==2.2.2->-r requirements.txt (line 2)) (3.5)\n",
      "Requirement already satisfied: jinja2 in /opt/app-root/lib64/python3.11/site-packages (from torch>=1.6.0->sentence-transformers==2.2.2->-r requirements.txt (line 2)) (3.1.6)\n",
      "Requirement already satisfied: nvidia-cuda-nvrtc-cu12==12.6.77 in /opt/app-root/lib64/python3.11/site-packages (from torch>=1.6.0->sentence-transformers==2.2.2->-r requirements.txt (line 2)) (12.6.77)\n",
      "Requirement already satisfied: nvidia-cuda-runtime-cu12==12.6.77 in /opt/app-root/lib64/python3.11/site-packages (from torch>=1.6.0->sentence-transformers==2.2.2->-r requirements.txt (line 2)) (12.6.77)\n",
      "Requirement already satisfied: nvidia-cuda-cupti-cu12==12.6.80 in /opt/app-root/lib64/python3.11/site-packages (from torch>=1.6.0->sentence-transformers==2.2.2->-r requirements.txt (line 2)) (12.6.80)\n",
      "Requirement already satisfied: nvidia-cudnn-cu12==9.5.1.17 in /opt/app-root/lib64/python3.11/site-packages (from torch>=1.6.0->sentence-transformers==2.2.2->-r requirements.txt (line 2)) (9.5.1.17)\n",
      "Requirement already satisfied: nvidia-cublas-cu12==12.6.4.1 in /opt/app-root/lib64/python3.11/site-packages (from torch>=1.6.0->sentence-transformers==2.2.2->-r requirements.txt (line 2)) (12.6.4.1)\n",
      "Requirement already satisfied: nvidia-cufft-cu12==11.3.0.4 in /opt/app-root/lib64/python3.11/site-packages (from torch>=1.6.0->sentence-transformers==2.2.2->-r requirements.txt (line 2)) (11.3.0.4)\n",
      "Requirement already satisfied: nvidia-curand-cu12==10.3.7.77 in /opt/app-root/lib64/python3.11/site-packages (from torch>=1.6.0->sentence-transformers==2.2.2->-r requirements.txt (line 2)) (10.3.7.77)\n",
      "Requirement already satisfied: nvidia-cusolver-cu12==11.7.1.2 in /opt/app-root/lib64/python3.11/site-packages (from torch>=1.6.0->sentence-transformers==2.2.2->-r requirements.txt (line 2)) (11.7.1.2)\n",
      "Requirement already satisfied: nvidia-cusparse-cu12==12.5.4.2 in /opt/app-root/lib64/python3.11/site-packages (from torch>=1.6.0->sentence-transformers==2.2.2->-r requirements.txt (line 2)) (12.5.4.2)\n",
      "Requirement already satisfied: nvidia-cusparselt-cu12==0.6.3 in /opt/app-root/lib64/python3.11/site-packages (from torch>=1.6.0->sentence-transformers==2.2.2->-r requirements.txt (line 2)) (0.6.3)\n",
      "Requirement already satisfied: nvidia-nccl-cu12==2.26.2 in /opt/app-root/lib64/python3.11/site-packages (from torch>=1.6.0->sentence-transformers==2.2.2->-r requirements.txt (line 2)) (2.26.2)\n",
      "Requirement already satisfied: nvidia-nvtx-cu12==12.6.77 in /opt/app-root/lib64/python3.11/site-packages (from torch>=1.6.0->sentence-transformers==2.2.2->-r requirements.txt (line 2)) (12.6.77)\n",
      "Requirement already satisfied: nvidia-nvjitlink-cu12==12.6.85 in /opt/app-root/lib64/python3.11/site-packages (from torch>=1.6.0->sentence-transformers==2.2.2->-r requirements.txt (line 2)) (12.6.85)\n",
      "Requirement already satisfied: nvidia-cufile-cu12==1.11.1.6 in /opt/app-root/lib64/python3.11/site-packages (from torch>=1.6.0->sentence-transformers==2.2.2->-r requirements.txt (line 2)) (1.11.1.6)\n",
      "Requirement already satisfied: triton==3.3.1 in /opt/app-root/lib64/python3.11/site-packages (from torch>=1.6.0->sentence-transformers==2.2.2->-r requirements.txt (line 2)) (3.3.1)\n",
      "Requirement already satisfied: regex!=2019.12.17 in /opt/app-root/lib64/python3.11/site-packages (from transformers<5.0.0,>=4.6.0->sentence-transformers==2.2.2->-r requirements.txt (line 2)) (2024.11.6)\n",
      "Requirement already satisfied: tokenizers<0.22,>=0.21 in /opt/app-root/lib64/python3.11/site-packages (from transformers<5.0.0,>=4.6.0->sentence-transformers==2.2.2->-r requirements.txt (line 2)) (0.21.2)\n",
      "Requirement already satisfied: click>=8.0.0 in /opt/app-root/lib64/python3.11/site-packages (from typer<0.17.0,>=0.12.5->docling->-r requirements.txt (line 8)) (8.2.1)\n",
      "Requirement already satisfied: shellingham>=1.3.0 in /opt/app-root/lib64/python3.11/site-packages (from typer<0.17.0,>=0.12.5->docling->-r requirements.txt (line 8)) (1.5.4)\n",
      "Requirement already satisfied: rich>=10.11.0 in /opt/app-root/lib64/python3.11/site-packages (from typer<0.17.0,>=0.12.5->docling->-r requirements.txt (line 8)) (14.0.0)\n",
      "Requirement already satisfied: attrs>=19.2.0 in /opt/app-root/lib64/python3.11/site-packages (from jsonlines<4.0.0,>=3.1.0->docling-ibm-models<4.0.0,>=3.4.4->docling->-r requirements.txt (line 8)) (25.3.0)\n",
      "Requirement already satisfied: jsonschema-specifications>=2023.03.6 in /opt/app-root/lib64/python3.11/site-packages (from jsonschema<5.0.0,>=4.16.0->docling-core<3.0.0,>=2.39.0->docling-core[chunking]<3.0.0,>=2.39.0->docling->-r requirements.txt (line 8)) (2025.4.1)\n",
      "Requirement already satisfied: referencing>=0.28.4 in /opt/app-root/lib64/python3.11/site-packages (from jsonschema<5.0.0,>=4.16.0->docling-core<3.0.0,>=2.39.0->docling-core[chunking]<3.0.0,>=2.39.0->docling->-r requirements.txt (line 8)) (0.36.2)\n",
      "Requirement already satisfied: rpds-py>=0.7.1 in /opt/app-root/lib64/python3.11/site-packages (from jsonschema<5.0.0,>=4.16.0->docling-core<3.0.0,>=2.39.0->docling-core[chunking]<3.0.0,>=2.39.0->docling->-r requirements.txt (line 8)) (0.25.0)\n",
      "Requirement already satisfied: markdown-it-py>=2.2.0 in /opt/app-root/lib64/python3.11/site-packages (from rich>=10.11.0->typer<0.17.0,>=0.12.5->docling->-r requirements.txt (line 8)) (3.0.0)\n",
      "Requirement already satisfied: pygments<3.0.0,>=2.13.0 in /opt/app-root/lib64/python3.11/site-packages (from rich>=10.11.0->typer<0.17.0,>=0.12.5->docling->-r requirements.txt (line 8)) (2.19.1)\n",
      "Requirement already satisfied: mpire[dill] in /opt/app-root/lib64/python3.11/site-packages (from semchunk<3.0.0,>=2.2.0->docling-core[chunking]<3.0.0,>=2.39.0->docling->-r requirements.txt (line 8)) (2.10.2)\n",
      "Requirement already satisfied: mpmath<1.4,>=1.1.0 in /opt/app-root/lib64/python3.11/site-packages (from sympy>=1.13.3->torch>=1.6.0->sentence-transformers==2.2.2->-r requirements.txt (line 2)) (1.3.0)\n",
      "Requirement already satisfied: MarkupSafe>=2.0 in /opt/app-root/lib64/python3.11/site-packages (from jinja2->torch>=1.6.0->sentence-transformers==2.2.2->-r requirements.txt (line 2)) (3.0.2)\n",
      "Requirement already satisfied: imageio!=2.35.0,>=2.33 in /opt/app-root/lib64/python3.11/site-packages (from scikit-image->easyocr<2.0,>=1.7->docling->-r requirements.txt (line 8)) (2.37.0)\n",
      "Requirement already satisfied: tifffile>=2022.8.12 in /opt/app-root/lib64/python3.11/site-packages (from scikit-image->easyocr<2.0,>=1.7->docling->-r requirements.txt (line 8)) (2025.6.11)\n",
      "Requirement already satisfied: lazy-loader>=0.4 in /opt/app-root/lib64/python3.11/site-packages (from scikit-image->easyocr<2.0,>=1.7->docling->-r requirements.txt (line 8)) (0.4)\n",
      "Requirement already satisfied: mdurl~=0.1 in /opt/app-root/lib64/python3.11/site-packages (from markdown-it-py>=2.2.0->rich>=10.11.0->typer<0.17.0,>=0.12.5->docling->-r requirements.txt (line 8)) (0.1.2)\n",
      "Requirement already satisfied: multiprocess>=0.70.15 in /opt/app-root/lib64/python3.11/site-packages (from mpire[dill]->semchunk<3.0.0,>=2.2.0->docling-core[chunking]<3.0.0,>=2.39.0->docling->-r requirements.txt (line 8)) (0.70.18)\n",
      "Requirement already satisfied: dill>=0.4.0 in /opt/app-root/lib64/python3.11/site-packages (from multiprocess>=0.70.15->mpire[dill]->semchunk<3.0.0,>=2.2.0->docling-core[chunking]<3.0.0,>=2.39.0->docling->-r requirements.txt (line 8)) (0.4.0)\n",
      "Downloading pymilvus-2.4.4-py3-none-any.whl (196 kB)\n",
      "Installing collected packages: pymilvus\n",
      "  Attempting uninstall: pymilvus\n",
      "    Found existing installation: pymilvus 2.5.12\n",
      "    Uninstalling pymilvus-2.5.12:\n",
      "      Successfully uninstalled pymilvus-2.5.12\n",
      "Successfully installed pymilvus-2.4.4\n",
      "\n",
      "\u001b[1m[\u001b[0m\u001b[34;49mnotice\u001b[0m\u001b[1;39;49m]\u001b[0m\u001b[39;49m A new release of pip is available: \u001b[0m\u001b[31;49m24.2\u001b[0m\u001b[39;49m -> \u001b[0m\u001b[32;49m25.1.1\u001b[0m\n",
      "\u001b[1m[\u001b[0m\u001b[34;49mnotice\u001b[0m\u001b[1;39;49m]\u001b[0m\u001b[39;49m To update, run: \u001b[0m\u001b[32;49mpip install --upgrade pip\u001b[0m\n",
      "Collecting pymilvus==2.5.12\n",
      "  Downloading pymilvus-2.5.12-py3-none-any.whl.metadata (5.7 kB)\n",
      "Requirement already satisfied: setuptools>69 in /opt/app-root/lib64/python3.11/site-packages (from pymilvus==2.5.12) (75.8.2)\n",
      "Requirement already satisfied: grpcio<=1.67.1,>=1.49.1 in /opt/app-root/lib64/python3.11/site-packages (from pymilvus==2.5.12) (1.63.0)\n",
      "Requirement already satisfied: protobuf>=3.20.0 in /opt/app-root/lib64/python3.11/site-packages (from pymilvus==2.5.12) (6.31.1)\n",
      "Requirement already satisfied: python-dotenv<2.0.0,>=1.0.1 in /opt/app-root/lib64/python3.11/site-packages (from pymilvus==2.5.12) (1.1.1)\n",
      "Requirement already satisfied: ujson>=2.0.0 in /opt/app-root/lib64/python3.11/site-packages (from pymilvus==2.5.12) (5.10.0)\n",
      "Requirement already satisfied: pandas>=1.2.4 in /opt/app-root/lib64/python3.11/site-packages (from pymilvus==2.5.12) (2.3.0)\n",
      "Requirement already satisfied: milvus-lite>=2.4.0 in /opt/app-root/lib64/python3.11/site-packages (from pymilvus==2.5.12) (2.4.12)\n",
      "Requirement already satisfied: tqdm in /opt/app-root/lib64/python3.11/site-packages (from milvus-lite>=2.4.0->pymilvus==2.5.12) (4.67.1)\n",
      "Requirement already satisfied: numpy>=1.23.2 in /opt/app-root/lib64/python3.11/site-packages (from pandas>=1.2.4->pymilvus==2.5.12) (2.3.1)\n",
      "Requirement already satisfied: python-dateutil>=2.8.2 in /opt/app-root/lib64/python3.11/site-packages (from pandas>=1.2.4->pymilvus==2.5.12) (2.9.0.post0)\n",
      "Requirement already satisfied: pytz>=2020.1 in /opt/app-root/lib64/python3.11/site-packages (from pandas>=1.2.4->pymilvus==2.5.12) (2025.2)\n",
      "Requirement already satisfied: tzdata>=2022.7 in /opt/app-root/lib64/python3.11/site-packages (from pandas>=1.2.4->pymilvus==2.5.12) (2025.2)\n",
      "Requirement already satisfied: six>=1.5 in /opt/app-root/lib64/python3.11/site-packages (from python-dateutil>=2.8.2->pandas>=1.2.4->pymilvus==2.5.12) (1.17.0)\n",
      "Downloading pymilvus-2.5.12-py3-none-any.whl (231 kB)\n",
      "Installing collected packages: pymilvus\n",
      "  Attempting uninstall: pymilvus\n",
      "    Found existing installation: pymilvus 2.4.4\n",
      "    Uninstalling pymilvus-2.4.4:\n",
      "      Successfully uninstalled pymilvus-2.4.4\n",
      "Successfully installed pymilvus-2.5.12\n",
      "\n",
      "\u001b[1m[\u001b[0m\u001b[34;49mnotice\u001b[0m\u001b[1;39;49m]\u001b[0m\u001b[39;49m A new release of pip is available: \u001b[0m\u001b[31;49m24.2\u001b[0m\u001b[39;49m -> \u001b[0m\u001b[32;49m25.1.1\u001b[0m\n",
      "\u001b[1m[\u001b[0m\u001b[34;49mnotice\u001b[0m\u001b[1;39;49m]\u001b[0m\u001b[39;49m To update, run: \u001b[0m\u001b[32;49mpip install --upgrade pip\u001b[0m\n",
      "Requirement already satisfied: openai==1.93.0 in /opt/app-root/lib64/python3.11/site-packages (1.93.0)\n",
      "Requirement already satisfied: anyio<5,>=3.5.0 in /opt/app-root/lib64/python3.11/site-packages (from openai==1.93.0) (4.9.0)\n",
      "Requirement already satisfied: distro<2,>=1.7.0 in /opt/app-root/lib64/python3.11/site-packages (from openai==1.93.0) (1.9.0)\n",
      "Requirement already satisfied: httpx<1,>=0.23.0 in /opt/app-root/lib64/python3.11/site-packages (from openai==1.93.0) (0.28.1)\n",
      "Requirement already satisfied: jiter<1,>=0.4.0 in /opt/app-root/lib64/python3.11/site-packages (from openai==1.93.0) (0.10.0)\n",
      "Requirement already satisfied: pydantic<3,>=1.9.0 in /opt/app-root/lib64/python3.11/site-packages (from openai==1.93.0) (2.11.7)\n",
      "Requirement already satisfied: sniffio in /opt/app-root/lib64/python3.11/site-packages (from openai==1.93.0) (1.3.1)\n",
      "Requirement already satisfied: tqdm>4 in /opt/app-root/lib64/python3.11/site-packages (from openai==1.93.0) (4.67.1)\n",
      "Requirement already satisfied: typing-extensions<5,>=4.11 in /opt/app-root/lib64/python3.11/site-packages (from openai==1.93.0) (4.13.2)\n",
      "Requirement already satisfied: idna>=2.8 in /opt/app-root/lib64/python3.11/site-packages (from anyio<5,>=3.5.0->openai==1.93.0) (3.10)\n",
      "Requirement already satisfied: certifi in /opt/app-root/lib64/python3.11/site-packages (from httpx<1,>=0.23.0->openai==1.93.0) (2025.4.26)\n",
      "Requirement already satisfied: httpcore==1.* in /opt/app-root/lib64/python3.11/site-packages (from httpx<1,>=0.23.0->openai==1.93.0) (1.0.9)\n",
      "Requirement already satisfied: h11>=0.16 in /opt/app-root/lib64/python3.11/site-packages (from httpcore==1.*->httpx<1,>=0.23.0->openai==1.93.0) (0.16.0)\n",
      "Requirement already satisfied: annotated-types>=0.6.0 in /opt/app-root/lib64/python3.11/site-packages (from pydantic<3,>=1.9.0->openai==1.93.0) (0.7.0)\n",
      "Requirement already satisfied: pydantic-core==2.33.2 in /opt/app-root/lib64/python3.11/site-packages (from pydantic<3,>=1.9.0->openai==1.93.0) (2.33.2)\n",
      "Requirement already satisfied: typing-inspection>=0.4.0 in /opt/app-root/lib64/python3.11/site-packages (from pydantic<3,>=1.9.0->openai==1.93.0) (0.4.1)\n",
      "\n",
      "\u001b[1m[\u001b[0m\u001b[34;49mnotice\u001b[0m\u001b[1;39;49m]\u001b[0m\u001b[39;49m A new release of pip is available: \u001b[0m\u001b[31;49m24.2\u001b[0m\u001b[39;49m -> \u001b[0m\u001b[32;49m25.1.1\u001b[0m\n",
      "\u001b[1m[\u001b[0m\u001b[34;49mnotice\u001b[0m\u001b[1;39;49m]\u001b[0m\u001b[39;49m To update, run: \u001b[0m\u001b[32;49mpip install --upgrade pip\u001b[0m\n"
     ]
    }
   ],
   "source": [
    "!pip install -r requirements.txt\n",
    "\n",
    "!pip install pymilvus==2.5.12    # Only for testing locally\n",
    "!pip install openai==1.93.0      # Only for testing\n",
    "# ! pip install --upgrade docling openai torch"
   ]
  },
  {
   "cell_type": "markdown",
   "id": "4c2ba0ab-7fd1-4a33-bea0-49eb2f846931",
   "metadata": {},
   "source": [
    "# Document Ingestion"
   ]
  },
  {
   "cell_type": "code",
   "execution_count": 2,
   "id": "0b8599ad-7f3c-4dbd-b0d6-64f73535ab03",
   "metadata": {},
   "outputs": [
    {
     "name": "stdout",
     "output_type": "stream",
     "text": [
      "Downloading from rag-docs::2502.07835v1.pdf to: downloads/2502.07835v1.pdf\n",
      "✅ Downloaded '2502.07835v1.pdf' to 'downloads/2502.07835v1.pdf'\n"
     ]
    }
   ],
   "source": [
    "import boto3\n",
    "from botocore.config import Config\n",
    "import os\n",
    "\n",
    "\"\"\"\n",
    "Environment variables:\n",
    "  AWS_S3_ENDPOINT        – MinIO service DNS name (e.g. minio.minio.svc.cluster.local)\n",
    "  AWS_ACCESS_KEY_ID      – MinIO access key\n",
    "  AWS_SECRET_ACCESS_KEY  – MinIO secret key\n",
    "  AWS_DEFAULT_REGION     – Dummy value; boto3 still expects one\n",
    "  AWS_S3_BUCKET          – Default bucket to use for the Workspace data connection \n",
    "\"\"\"\n",
    "\n",
    "# === Configuration ===\n",
    "open_ai_api_key = os.getenv(\"OPENAI_API_KEY\")\n",
    "endpoint = os.getenv(\"AWS_S3_ENDPOINT\")\n",
    "access_key = os.getenv(\"AWS_ACCESS_KEY_ID\")\n",
    "secret_key = os.getenv(\"AWS_SECRET_ACCESS_KEY\")\n",
    "region = os.getenv(\"AWS_DEFAULT_REGION\")\n",
    "bucket_name = os.getenv(\"AWS_S3_BUCKET\")\n",
    "object_key = \"2502.07835v1.pdf\"  # The name of the PDF in the S3 bucket\n",
    "download_dir = \"downloads\"\n",
    "\n",
    "# === Initialise S3 client ===\n",
    "s3 = boto3.client(\n",
    "    \"s3\",\n",
    "    endpoint_url=f\"http://{endpoint}\",\n",
    "    aws_access_key_id=access_key,\n",
    "    aws_secret_access_key=secret_key,\n",
    "    region_name=region,\n",
    "    config=Config(signature_version=\"s3v4\"),\n",
    ")\n",
    "\n",
    "# === Ensure download directory exists ===\n",
    "os.makedirs(download_dir, exist_ok=True)\n",
    "local_path = os.path.join(download_dir, object_key)\n",
    "print(f\"Downloading from {bucket_name}::{object_key} to: {local_path}\")\n",
    "\n",
    "# === Download the file ===\n",
    "try:\n",
    "    s3.download_file(bucket_name, object_key, local_path)\n",
    "    print(f\"✅ Downloaded '{object_key}' to '{local_path}'\")\n",
    "except s3.exceptions.NoSuchKey:\n",
    "    print(f\"❌ File '{object_key}' not found in bucket '{bucket_name}'\")\n",
    "except Exception as e:\n",
    "    print(f\"❌ Error downloading file: {e}\")\n"
   ]
  },
  {
   "cell_type": "markdown",
   "id": "5bf2a9c2-784c-46aa-b7c4-b5a37dab7353",
   "metadata": {},
   "source": [
    "# Embedding Generation"
   ]
  },
  {
   "cell_type": "code",
   "execution_count": 3,
   "id": "5cefa6e0-e615-429b-a25c-3a0e882a457c",
   "metadata": {},
   "outputs": [],
   "source": [
    "\"\"\"\n",
    "Generate an embedding vector for a piece of text.\n",
    "This helper wraps the embedding function to reduce boiler-plate when you frequently need sentence- or paragraph-level embeddings.\n",
    "\n",
    "Parameters\n",
    "----------\n",
    "text : str\n",
    "    The input text to embed.\n",
    "\n",
    "Returns: A 1-D list of 1 536 floats representing the semantic embedding of *text*. \n",
    "The vector can be indexed, stored, or compared with other embeddings (e.g., via cosine similarity).\n",
    "\"\"\"\n",
    "def emb_text(text: str) -> list[float]:\n",
    "    return (\n",
    "        openai_client.embeddings.create(\n",
    "            input=text,\n",
    "            model=\"text-embedding-3-small\"\n",
    "        ).data[0].embedding\n",
    "    )"
   ]
  },
  {
   "cell_type": "code",
   "execution_count": 4,
   "id": "a98ec3c6-04e9-4c79-a673-8145f52da819",
   "metadata": {},
   "outputs": [],
   "source": [
    "from openai import OpenAI\n",
    "\n",
    "openai_client = OpenAI()"
   ]
  },
  {
   "cell_type": "code",
   "execution_count": 5,
   "id": "4b5f32f6-8970-48e7-9d5e-a4d82f057ae0",
   "metadata": {},
   "outputs": [
    {
     "name": "stdout",
     "output_type": "stream",
     "text": [
      "Embedding dimensions: 1536\n",
      "[0.009889289736747742, -0.005578675772994757, 0.00683477520942688, -0.03805781528353691, -0.01824733428657055, -0.04121600463986397, -0.007636285852640867, 0.03225184231996536, 0.018949154764413834, 9.352207416668534e-05]\n"
     ]
    }
   ],
   "source": [
    "# Use this to find the default number of dimensions this embedding model generates. We will use that later.\n",
    "test_embedding = emb_text(\"This is a test\")\n",
    "embedding_dim = len(test_embedding)\n",
    "print(f\"Embedding dimensions: {embedding_dim}\")\n",
    "print(test_embedding[:10])"
   ]
  },
  {
   "cell_type": "code",
   "execution_count": 6,
   "id": "b4b07c68-85d1-46be-a14e-088ac5eab68c",
   "metadata": {},
   "outputs": [
    {
     "name": "stdout",
     "output_type": "stream",
     "text": [
      "Found /opt/app-root/src/rhoai-roadshow-v2/docs/2-rag/notebook/downloads/2502.07835v1.pdf\n"
     ]
    }
   ],
   "source": [
    "from utils import project_root\n",
    "\n",
    "# Assemble a complete path to the file so the document import can properly and reliably always find the document.\n",
    "doc_source = project_root() / local_path\n",
    "\n",
    "if not doc_source.is_file():\n",
    "    raise FileNotFoundError(f\"{DOC_SOURCE} does not exist.\")\n",
    "\n",
    "print(f\"Found {doc_source}\")"
   ]
  },
  {
   "cell_type": "code",
   "execution_count": 7,
   "id": "1eb104d7-caf6-45d7-9b22-cfeb6a483d3d",
   "metadata": {},
   "outputs": [
    {
     "name": "stderr",
     "output_type": "stream",
     "text": [
      "/opt/app-root/lib64/python3.11/site-packages/tqdm/auto.py:21: TqdmWarning: IProgress not found. Please update jupyter and ipywidgets. See https://ipywidgets.readthedocs.io/en/stable/user_install.html\n",
      "  from .autonotebook import tqdm as notebook_tqdm\n"
     ]
    }
   ],
   "source": [
    "\"\"\"\n",
    "Parse and chunk a PDF using Docling v2.x\n",
    "\"\"\"\n",
    "from docling.document_converter import DocumentConverter\n",
    "from pathlib import Path\n",
    "\n",
    "doc = DocumentConverter().convert(source=doc_source).document"
   ]
  },
  {
   "cell_type": "code",
   "execution_count": 8,
   "id": "51b3591c-65eb-4556-a71b-0476c9b516b0",
   "metadata": {},
   "outputs": [
    {
     "name": "stdout",
     "output_type": "stream",
     "text": [
      "{1: PageItem(size=Size(width=612.0, height=792.0), image=None, page_no=1), 2: PageItem(size=Size(width=612.0, height=792.0), image=None, page_no=2), 3: PageItem(size=Size(width=612.0, height=792.0), image=None, page_no=3), 4: PageItem(size=Size(width=612.0, height=792.0), image=None, page_no=4), 5: PageItem(size=Size(width=612.0, height=792.0), image=None, page_no=5), 6: PageItem(size=Size(width=612.0, height=792.0), image=None, page_no=6), 7: PageItem(size=Size(width=612.0, height=792.0), image=None, page_no=7), 8: PageItem(size=Size(width=612.0, height=792.0), image=None, page_no=8), 9: PageItem(size=Size(width=612.0, height=792.0), image=None, page_no=9), 10: PageItem(size=Size(width=612.0, height=792.0), image=None, page_no=10), 11: PageItem(size=Size(width=612.0, height=792.0), image=None, page_no=11), 12: PageItem(size=Size(width=612.0, height=792.0), image=None, page_no=12), 13: PageItem(size=Size(width=612.0, height=792.0), image=None, page_no=13)}\n"
     ]
    }
   ],
   "source": [
    "print(doc.pages)"
   ]
  },
  {
   "cell_type": "code",
   "execution_count": 9,
   "id": "0bab9aa5-b709-4ff6-98e5-8aebf7759585",
   "metadata": {},
   "outputs": [],
   "source": [
    "from pymilvus import MilvusClient\n",
    "\n",
    "milvus_client = MilvusClient(uri=\"./milvus_demo2.db\")\n",
    "collection_name = \"my_rag_collection\""
   ]
  },
  {
   "cell_type": "code",
   "execution_count": 10,
   "id": "07c126b9-5d76-46ee-8a11-5e16336fdf67",
   "metadata": {},
   "outputs": [],
   "source": [
    "if milvus_client.has_collection(collection_name):\n",
    "    milvus_client.drop_collection(collection_name)"
   ]
  },
  {
   "cell_type": "code",
   "execution_count": 11,
   "id": "c527d363-59fb-4e09-a7c1-7960d2b276b0",
   "metadata": {},
   "outputs": [],
   "source": [
    "milvus_client.create_collection(\n",
    "    collection_name=collection_name,\n",
    "    dimension=embedding_dim,\n",
    "    metric_type=\"IP\",  # Inner product distance\n",
    "    consistency_level=\"Strong\",  # Supported values are (`\"Strong\"`, `\"Session\"`, `\"Bounded\"`, `\"Eventually\"`). See https://milvus.io/docs/consistency.md#Consistency-Level for more details.\n",
    ")"
   ]
  },
  {
   "cell_type": "code",
   "execution_count": 12,
   "id": "663ab01b-5591-413c-9b58-c756bc412602",
   "metadata": {},
   "outputs": [],
   "source": [
    "from docling_core.transforms.chunker import HierarchicalChunker\n",
    "\n",
    "from docling.document_converter import DocumentConverter\n",
    "\n",
    "converter = DocumentConverter()\n",
    "chunker = HierarchicalChunker()\n",
    "\n",
    "# Convert the input file to Docling Document\n",
    "source = doc_source\n",
    "doc = converter.convert(source).document\n",
    "\n",
    "# Perform hierarchical chunking. This is faster than Hybrid chunking, but not as good.\n",
    "texts = [chunk.text for chunk in chunker.chunk(doc)]"
   ]
  },
  {
   "cell_type": "markdown",
   "id": "93dfd8b8-34b9-4377-98aa-fe0b7fb8011a",
   "metadata": {},
   "source": [
    "# Vector Storage and Search"
   ]
  },
  {
   "cell_type": "code",
   "execution_count": 13,
   "id": "7da3aeba-3526-48e6-a2ff-c4d00aa2c72d",
   "metadata": {},
   "outputs": [
    {
     "name": "stderr",
     "output_type": "stream",
     "text": [
      "Processing chunks: 100%|██████████| 70/70 [00:20<00:00,  3.43it/s]\n"
     ]
    },
    {
     "data": {
      "text/plain": [
       "{'insert_count': 70, 'ids': [0, 1, 2, 3, 4, 5, 6, 7, 8, 9, 10, 11, 12, 13, 14, 15, 16, 17, 18, 19, 20, 21, 22, 23, 24, 25, 26, 27, 28, 29, 30, 31, 32, 33, 34, 35, 36, 37, 38, 39, 40, 41, 42, 43, 44, 45, 46, 47, 48, 49, 50, 51, 52, 53, 54, 55, 56, 57, 58, 59, 60, 61, 62, 63, 64, 65, 66, 67, 68, 69], 'cost': 0}"
      ]
     },
     "execution_count": 13,
     "metadata": {},
     "output_type": "execute_result"
    }
   ],
   "source": [
    "from tqdm import tqdm\n",
    "\n",
    "data = []\n",
    "\n",
    "for i, chunk in enumerate(tqdm(texts, desc=\"Processing chunks\")):\n",
    "    embedding = emb_text(chunk)\n",
    "    data.append({\"id\": i, \"vector\": embedding, \"text\": chunk})\n",
    "\n",
    "milvus_client.insert(collection_name=collection_name, data=data)"
   ]
  },
  {
   "cell_type": "markdown",
   "id": "f24873e3-fe35-4f22-80a6-426ffc890765",
   "metadata": {},
   "source": [
    "# Visualising how embeddings are stored in a vector database\n",
    "\n",
    "<Describe how this visualises how the text is stored in the vector database.\n",
    "\n",
    "https://projector.tensorflow.org/"
   ]
  },
  {
   "cell_type": "code",
   "execution_count": 14,
   "id": "d2203345-5850-4bc9-bf29-550a294ffdb1",
   "metadata": {},
   "outputs": [
    {
     "data": {
      "text/html": [
       "\n",
       "        <iframe\n",
       "            width=\"1200\"\n",
       "            height=\"600\"\n",
       "            src=\"https://projector.tensorflow.org/\"\n",
       "            frameborder=\"0\"\n",
       "            allowfullscreen\n",
       "            \n",
       "        ></iframe>\n",
       "        "
      ],
      "text/plain": [
       "<IPython.lib.display.IFrame at 0x7f9d5d05b9d0>"
      ]
     },
     "execution_count": 14,
     "metadata": {},
     "output_type": "execute_result"
    }
   ],
   "source": [
    "from IPython.display import IFrame\n",
    "\n",
    "IFrame(\"https://projector.tensorflow.org/\", width=1200, height=600)"
   ]
  },
  {
   "cell_type": "markdown",
   "id": "054fbcd4-be4b-4a35-b8e3-9f33ea5d0d3d",
   "metadata": {},
   "source": [
    "# Query-Time Retrieval"
   ]
  },
  {
   "cell_type": "code",
   "execution_count": 15,
   "id": "0d1fbadd-29f1-4192-95f4-8b81232fa0c3",
   "metadata": {},
   "outputs": [],
   "source": [
    "question = (\n",
    "    \"What are the challenges of assessing assessing the quality of AI-generated code? What are some strategies for doing this\"\n",
    ")"
   ]
  },
  {
   "cell_type": "code",
   "execution_count": 16,
   "id": "fd66032c-3d2b-4c87-936c-31031f4d84a2",
   "metadata": {},
   "outputs": [],
   "source": [
    "search_res = milvus_client.search(\n",
    "    collection_name=collection_name,\n",
    "    data=[emb_text(question)],\n",
    "    limit=3,\n",
    "    search_params={\"metric_type\": \"IP\", \"params\": {}},\n",
    "    output_fields=[\"text\"],\n",
    ")"
   ]
  },
  {
   "cell_type": "code",
   "execution_count": 17,
   "id": "0e78eac4-fd36-4321-a629-f81f4120e4c9",
   "metadata": {},
   "outputs": [
    {
     "name": "stdout",
     "output_type": "stream",
     "text": [
      "[\n",
      "    [\n",
      "        \"AI-assisted coding has been shown to be more beneficial for senior developers, as they possess the expertise to critically evaluate the generated code for correctness, completeness, and compliance. In contrast, junior developers may struggle to identify hallucinations, missing functionality, or incorrect logic in AI-generated code. To bridge this gap, This paper introduces a novel scoring mechanism called the SBC score , which is based on a reverse generation technique that leverages the natural language generation capabilities of LLMs. Unlike direct code analysis, our approach reconstructs system requirements from AI-generated code and compares them with the original specifications to quantify accuracy. The SBC score combines semantic similarity, BLEU, and completeness analysis , providing actionable insights to developers by highlighting missing features and hallucinations. This hybrid metric not only improves the evaluation of AI-generated code but also offers a real-time, interpretable scoring system that can be integrated into the software development process, benefiting developers of all experience levels. Our code and datasets are available on GitHub: GitHub Repository.\",\n",
      "        0.6797788739204407\n",
      "    ],\n",
      "    [\n",
      "        \"The rise of Large Language Models (LLMs) in software engineering, particularly in code generation, has garnered significant attention. However, assessing the quality of AI-generated code remains a challenge due to the inherent complexity of programming tasks and the lack of robust evaluation metrics that align well with human judgment. Traditional token-based metrics such as BLEU and ROUGE, while commonly used in natural language processing, exhibit weak correlations with human assessments in code intelligence and verification tasks. Furthermore, these metrics are primarily research focused and are not designed for seamless integration into the software development lifecycle, limiting their practical utility for developers seeking to improve code quality and security.\",\n",
      "        0.6651570796966553\n",
      "    ],\n",
      "    [\n",
      "        \"Another key challenge is that AI-generated code is often more beneficial to experienced developers who can assess correctness, completeness, and security, whereas junior developers may struggle to critically evaluate and refine the generated code. Studies suggest that GitHub Copilot, one of the most widely used AI-powered coding assistants, provides significant advantages for senior developers but offers only limited value for junior developers [11, 9].\",\n",
      "        0.6571663618087769\n",
      "    ]\n",
      "]\n"
     ]
    }
   ],
   "source": [
    "import json\n",
    "\n",
    "retrieved_lines_with_distances = [\n",
    "    (res[\"entity\"][\"text\"], res[\"distance\"]) for res in search_res[0]\n",
    "]\n",
    "print(json.dumps(retrieved_lines_with_distances, indent=4))"
   ]
  },
  {
   "cell_type": "markdown",
   "id": "8613c6a7-b781-4e48-a8af-41bb97b9f03c",
   "metadata": {},
   "source": [
    "# Augmented Generation"
   ]
  },
  {
   "cell_type": "code",
   "execution_count": 18,
   "id": "c45528a5-4cbf-4f88-a720-aeb614923d4f",
   "metadata": {},
   "outputs": [],
   "source": [
    "context = \"\\n\".join(\n",
    "    [line_with_distance[0] for line_with_distance in retrieved_lines_with_distances]\n",
    ")"
   ]
  },
  {
   "cell_type": "code",
   "execution_count": 19,
   "id": "48a52e88-eeb0-4766-bfd2-c1c718f008ba",
   "metadata": {},
   "outputs": [],
   "source": [
    "SYSTEM_PROMPT = \"\"\"\n",
    "Human: You are an AI assistant. You are able to find answers to the questions from the contextual passage snippets provided.\n",
    "\"\"\"\n",
    "USER_PROMPT = f\"\"\"\n",
    "Use the following pieces of information enclosed in <context> tags to provide an answer to the question enclosed in <question> tags.\n",
    "<context>\n",
    "{context}\n",
    "</context>\n",
    "<question>\n",
    "{question}\n",
    "</question>\n",
    "\"\"\""
   ]
  },
  {
   "cell_type": "code",
   "execution_count": 20,
   "id": "f2d84dc7-b839-4f02-b72c-16b3c82d76c1",
   "metadata": {},
   "outputs": [
    {
     "name": "stdout",
     "output_type": "stream",
     "text": [
      "The challenges in assessing the quality of AI-generated code stem from the inherent complexity of programming tasks and the lack of robust evaluation metrics that align well with human judgment. Traditional token-based metrics like BLEU and ROUGE are commonly used in natural language processing, but they exhibit weak correlations with human assessments when applied to code intelligence and verification tasks. These metrics are research-focused and not designed for integration into the software development lifecycle, which limits their practical utility for developers aiming to enhance code quality and security.\n",
      "\n",
      "To address these challenges, the paper introduces a novel scoring mechanism called the SBC score. This strategy is based on a reverse generation technique that leverages the natural language generation capabilities of Large Language Models (LLMs). Instead of relying solely on direct code analysis, this approach reconstructs system requirements from the AI-generated code and compares them with the original specifications to quantify accuracy. The SBC score combines semantic similarity, BLEU, and completeness analysis to provide actionable insights, highlighting missing features and hallucinations in the AI-generated code. This hybrid metric improves the evaluation of AI-generated code and offers a real-time, interpretable scoring system that can be integrated into the software development process, thereby benefiting developers of all experience levels.\n"
     ]
    }
   ],
   "source": [
    "response = openai_client.chat.completions.create(\n",
    "    model=\"gpt-4o\",\n",
    "    messages=[\n",
    "        {\"role\": \"system\", \"content\": SYSTEM_PROMPT},\n",
    "        {\"role\": \"user\", \"content\": USER_PROMPT},\n",
    "    ],\n",
    ")\n",
    "print(response.choices[0].message.content)"
   ]
  }
 ],
 "metadata": {
  "kernelspec": {
   "display_name": "Python 3.11",
   "language": "python",
   "name": "python3"
  },
  "language_info": {
   "codemirror_mode": {
    "name": "ipython",
    "version": 3
   },
   "file_extension": ".py",
   "mimetype": "text/x-python",
   "name": "python",
   "nbconvert_exporter": "python",
   "pygments_lexer": "ipython3",
   "version": "3.11.11"
  }
 },
 "nbformat": 4,
 "nbformat_minor": 5
}
