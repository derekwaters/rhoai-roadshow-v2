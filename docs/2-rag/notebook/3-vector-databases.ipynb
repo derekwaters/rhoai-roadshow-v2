{
 "cells": [
  {
   "cell_type": "markdown",
   "id": "c7518dc2-fbeb-4968-b126-af818e32c436",
   "metadata": {},
   "source": [
    "# Introduction to vector databases\n",
    "\n",
    "In this exercise you will learn how vector databases are used to store text. \n",
    "\n",
    "Text is converted to vectors through the use of an `embedding model`. An embedding model is a large language model that is designed to create vectors out of chunks of text. It is these vectors that will be stored in the database.\n",
    "\n",
    "For the lab we will be using Milvus for our vector database."
   ]
  },
  {
   "cell_type": "markdown",
   "id": "f9789051",
   "metadata": {},
   "source": [
    "### Step 1: Setup Environment\n",
    "\n",
    "Install the required Python packages listed in `requirements.txt` to ensure all dependencies for the lab are available."
   ]
  },
  {
   "cell_type": "code",
   "execution_count": 1,
   "id": "08886914",
   "metadata": {
    "vscode": {
     "languageId": "plaintext"
    }
   },
   "outputs": [
    {
     "name": "stdout",
     "output_type": "stream",
     "text": [
      "\u001b[2mUsing Python 3.11.11 environment at: /opt/app-root\u001b[0m\n",
      "\u001b[2mAudited \u001b[1m10 packages\u001b[0m \u001b[2min 21ms\u001b[0m\u001b[0m\n"
     ]
    }
   ],
   "source": [
    "# Step 1: Install necessary libraries (run in a cell if needed)\n",
    "!uv pip install -r requirements.txt"
   ]
  },
  {
   "cell_type": "markdown",
   "id": "0875c35f",
   "metadata": {},
   "source": [
    "### Step 2: Import Required Libraries\n",
    "\n",
    "The following code block imports all necessary Python libraries and packages that will be used throughout this lab, including Milvus client, embedding model, and analysis tools."
   ]
  },
  {
   "cell_type": "code",
   "execution_count": 2,
   "id": "34e9a822-a34d-4755-b954-d76d2bf897f5",
   "metadata": {},
   "outputs": [
    {
     "name": "stderr",
     "output_type": "stream",
     "text": [
      "/opt/app-root/lib64/python3.11/site-packages/sentence_transformers/cross_encoder/CrossEncoder.py:11: TqdmWarning: IProgress not found. Please update jupyter and ipywidgets. See https://ipywidgets.readthedocs.io/en/stable/user_install.html\n",
      "  from tqdm.autonotebook import tqdm, trange\n"
     ]
    }
   ],
   "source": [
    "# Milvus client for vector database operations\n",
    "from pymilvus import connections, utility, Collection, CollectionSchema, FieldSchema, DataType\n",
    "# SentenceTransformer for generating text embeddings\n",
    "from sentence_transformers import SentenceTransformer\n",
    "# Cosine similarity metric for embedding comparison\n",
    "from sklearn.metrics.pairwise import cosine_similarity\n",
    "# NumPy for numerical computations\n",
    "import numpy as np\n",
    "# Matplotlib for visualization\n",
    "import matplotlib.pyplot as plt\n",
    "# PCA for dimensionality reduction\n",
    "from sklearn.decomposition import PCA"
   ]
  },
  {
   "cell_type": "markdown",
   "id": "f8acfa6d-a20f-4028-ba4c-f6be7cfb39ec",
   "metadata": {},
   "source": [
    "## Create the vector database\n",
    "\n",
    "### Step 3: Create the Vector Database\n",
    "\n",
    "In this step, we will connect to Milvus, define a collection schema, and create a new collection to store our text embeddings. The schema includes an integer ID and a float vector field for the embeddings.  \n",
    "\n",
    "The length of the vectors that are stored in the vector database must support the the chosen embedding model. For this lab we have chosen is `\"all-MiniLM-L6-v2\"` which has 385 dimensions. There are many sifferent embedding models available on Hugging Face. The best way to assess them for your task is to review the **[Embedding LLM Leaderboard](https://huggingface.co/spaces/mteb/leaderboard)**.  \n",
    "\n",
    "As you can see from the diagram below, `all-MiniLM-L6-v2` is not the best embedding model, but for its size it is one of the best in class models. We selected it for this lab because it will download and run faster for you.\n",
    "\n",
    "<img src=\"https://raw.githubusercontent.com/odh-labs/rhoai-roadshow-v2/rag-dev/docs/2-rag/images/simple-rag-1.png\" width=50%/>"
   ]
  },
  {
   "cell_type": "code",
   "execution_count": 3,
   "id": "87ac1faa-dd01-43cd-95ff-47ac827222c2",
   "metadata": {},
   "outputs": [],
   "source": [
    "# Define the Milvus collection name that will store our embeddings\n",
    "collection_name = \"vectordb_collection\"  # Unique identifier for vector store\n",
    "\n",
    "# Establish connection to Milvus vector database service\n",
    "connections.connect(\n",
    "    uri=\"http://milvus-service.milvus.svc.cluster.local:19530\",  # Milvus server endpoint\n",
    "    alias=\"default\"  # Alias to reference this connection in later operations\n",
    ")"
   ]
  },
  {
   "cell_type": "code",
   "execution_count": 4,
   "id": "0597e32f-9e61-48d6-952c-4580f19791f7",
   "metadata": {},
   "outputs": [
    {
     "name": "stdout",
     "output_type": "stream",
     "text": [
      "Collection list after cleanup: []\n"
     ]
    }
   ],
   "source": [
    "# Remove any existing collection with the same name to start fresh\n",
    "if utility.has_collection(collection_name):\n",
    "    utility.drop_collection(collection_name)\n",
    "\n",
    "# Display current collections to verify deletion\n",
    "print(f\"Collection list after cleanup: {utility.list_collections()}\")"
   ]
  },
  {
   "cell_type": "code",
   "execution_count": 5,
   "id": "9a1d13cc-1884-44a3-a4ab-2b2ed655426b",
   "metadata": {},
   "outputs": [],
   "source": [
    "# Databases need a schema. In this lab the schema will consist \n",
    "# of an identifier and a vector that contains the embedding of a text string.\n",
    "\n",
    "# Define the primary key field for unique record identification\n",
    "id_field = FieldSchema(\n",
    "    name=\"id\",\n",
    "    dtype=DataType.INT64,\n",
    "    is_primary=True,\n",
    "    auto_id=False\n",
    ")\n",
    "\n",
    "# Specify embedding model and its output dimension\n",
    "embedding_model = \"all-MiniLM-L6-v2\"  # Example Hugging Face model\n",
    "embedding_dim = 384  # Embedding vector size as per the model\n",
    "\n",
    "# Define the vector field to hold embedding values\n",
    "embedding_field = FieldSchema(\n",
    "    name=\"embedding\",\n",
    "    dtype=DataType.FLOAT_VECTOR,\n",
    "    dim=embedding_dim\n",
    ")\n",
    "\n",
    "# Assemble collection schema combining ID and embedding fields\n",
    "schema = CollectionSchema(\n",
    "    fields=[id_field, embedding_field],\n",
    "    description=\"Milvus shakeout test\",\n",
    "    enable_dynamic_field=False\n",
    ")"
   ]
  },
  {
   "cell_type": "code",
   "execution_count": 6,
   "id": "c1594974-484a-4b48-bbfc-4166f393d731",
   "metadata": {},
   "outputs": [
    {
     "name": "stdout",
     "output_type": "stream",
     "text": [
      "Collection: {'auto_id': False, 'description': 'Milvus shakeout test', 'fields': [{'name': 'id', 'description': '', 'type': <DataType.INT64: 5>, 'is_primary': True, 'auto_id': False}, {'name': 'embedding', 'description': '', 'type': <DataType.FLOAT_VECTOR: 101>, 'params': {'dim': 384}}], 'enable_dynamic_field': False}\n",
      "\n",
      "Collection list: ['vectordb_collection']\n"
     ]
    }
   ],
   "source": [
    "# Instantiate the Milvus collection using the defined schema and configuration\n",
    "collection = Collection(\n",
    "    name=collection_name, \n",
    "    schema=schema, \n",
    "    using='default', \n",
    "    shards_num=2,\n",
    "    consistency_level=\"Strong\"\n",
    ")\n",
    "\n",
    "# Display the collection schema that was just created\n",
    "print(f\"Collection: {collection.schema}\\n\")\n",
    "\n",
    "# List all collections in Milvus to confirm creation\n",
    "print(f\"Collection list: {utility.list_collections()}\")"
   ]
  },
  {
   "cell_type": "code",
   "execution_count": 7,
   "id": "4a335e56-4058-4b5c-b11a-fee2399230ce",
   "metadata": {},
   "outputs": [],
   "source": [
    "# Generate embeddings using a simple embedding model from Hugging Face \n",
    "model = SentenceTransformer(embedding_model)"
   ]
  },
  {
   "cell_type": "markdown",
   "id": "e9a43ec4-519d-4ef3-921e-969d55858f0e",
   "metadata": {},
   "source": [
    "## Create test data for the vector database\n",
    "\n",
    "### Step 4: Generate Embeddings and Create Test Data\n",
    "\n",
    "In this step, we use a Hugging Face embedding model to convert text terms into high-dimensional vectors that will be stored in the database."
   ]
  },
  {
   "cell_type": "markdown",
   "id": "0e078f59-518f-4203-af5a-f9b4738140e0",
   "metadata": {},
   "source": [
    "## Test data retrieval\n",
    "\n",
    "### Step 5: Test Data Retrieval\n",
    "\n",
    "In this step, we define a function to search the collection using an embedding and retrieve the most similar items based on cosine similarity."
   ]
  },
  {
   "cell_type": "code",
   "execution_count": 8,
   "id": "749f2e97-10f2-440d-ace7-041cf36a7c01",
   "metadata": {},
   "outputs": [],
   "source": [
    "# Prove we can retrieve data from the database\n",
    "def search(term):\n",
    "    vector = model.encode([term])\n",
    "    results = collection.search(vector, \"embedding\", param={\"metric_type\": \"COSINE\"}, limit=3)\n",
    "    return results"
   ]
  },
  {
   "cell_type": "markdown",
   "id": "2b468105",
   "metadata": {},
   "source": [
    "### Step 6: Visualize Embeddings\n",
    "\n",
    "Here we reduce the high-dimensional embeddings to 2D using PCA and plot the terms to observe their relative positions and relationships.\n",
    "\n",
    "Observe that dog and cat are more similar than dog and pumpkin"
   ]
  },
  {
   "cell_type": "markdown",
   "id": "b5ce6d5a-6773-4d7a-a4d5-149ff63ff566",
   "metadata": {},
   "source": [
    "# 🧠 Text Embeddings: Converting Words to Vectors\n",
    "\n",
    "## What Are Text Embeddings?\n",
    "\n",
    "Text embeddings are numerical representations of text that capture semantic meaning. Think of them as coordinates in a high-dimensional space where similar concepts are located close to each other.\n",
    "\n",
    "### Key Concepts:\n",
    "\n",
    "- **Vector Space**: Each word or phrase becomes a point in multidimensional space\n",
    "- **Semantic Similarity**: Similar texts have similar vector representations\n",
    "- **Distance Metrics**: We can measure how \"close\" two texts are using mathematical distance\n",
    "- **Dense Representation**: Unlike sparse representations (like one-hot encoding), embeddings are dense vectors\n",
    "\n",
    "### Why Use Embeddings in RAG?\n",
    "\n",
    "1. **Semantic Search**: Find documents by meaning, not just keyword matching\n",
    "2. **Context Understanding**: Capture relationships between concepts\n",
    "3. **Efficiency**: Enable fast similarity comparisons using vector operations\n",
    "4. **Generalization**: Handle synonyms and related concepts automatically\n",
    "\n",
    "### The Model We're Using: all-MiniLM-L6-v2\n",
    "\n",
    "This is a popular sentence embedding model that:\n",
    "- **Balances Performance and Speed**: Good quality embeddings with fast inference\n",
    "- **Sentence-Level**: Optimized for encoding entire sentences or paragraphs\n",
    "- **384 Dimensions**: Compact representation that's efficient for storage and search\n",
    "- **Multilingual**: Supports multiple languages out of the box\n",
    "\n",
    "Let's initialize our embedding model and explore how it works!"
   ]
  },
  {
   "cell_type": "markdown",
   "id": "f02164a8-55e0-436a-8af7-5d6be2529730",
   "metadata": {},
   "source": [
    "## 🔬 Understanding Embedding Dimension and Semantic Similarity Exploration\n",
    "\n",
    "This section is designed to **demonstrate how text embeddings work** and illustrate two key educational goals:\n",
    "\n",
    "1. **Understanding the structure and dimensionality of embedding vectors**\n",
    "2. **Evaluating how embeddings capture semantic meaning**\n",
    "\n",
    "These insights are foundational for configuring and using a **vector database** in Retrieval-Augmented Generation (RAG) systems or semantic search.\n",
    "\n",
    "---\n",
    "\n",
    "## 🧪 Purpose of the Code\n",
    "\n",
    "### 1. Embedding Output Inspection\n",
    "The first half of the code runs a test on the embedding function (`model.encode`) using a simple sentence:\n",
    "\n",
    "```python\n",
    "test_text = \"This is a test sentence to demonstrate text embeddings.\"\n",
    "test_embedding = model.encode(test_text)\n",
    "```\n",
    "\n",
    "## 2. 📌 Similarity Scores and Educational Highlight\n",
    "Pay attention to the similarity scores printed for the weather-related vs unrelated sentences.\n",
    "You should see a higher similarity score for the related pair, which illustrates how embeddings can meaningfully represent the semantic closeness of two pieces of text.\n",
    "This capability underpins search relevance in vector databases.\n"
   ]
  },
  {
   "cell_type": "code",
   "execution_count": 9,
   "id": "a06399dd-4f7e-4dd6-b070-4eabe413d4c2",
   "metadata": {},
   "outputs": [
    {
     "name": "stdout",
     "output_type": "stream",
     "text": [
      "🧪 Testing embedding function with sample text...\n",
      "📊 EMBEDDING ANALYSIS:\n",
      "   • Input text: 'This is a test sentence to demonstrate text embeddings.'\n",
      "   • Embedding dimensions: 384\n",
      "   • Data type: <class 'numpy.ndarray'>\n",
      "   • Sample values: [-0.00573698  0.00202521  0.07564172  0.0383721   0.02895643  0.0611613\n",
      " -0.01208316 -0.01273861  0.02499382 -0.04949658]\n",
      "   • Value range: [-0.1730, 0.1419]\n",
      "\n",
      "🔍 SEMANTIC SIMILARITY TEST:\n",
      "Embedding for 'The weather is beautiful today.' (first 5 values):\n",
      "[0.01307229 0.11939922 0.16268437 0.07397012 0.02783019]\n",
      "\n",
      "Embedding for 'Today has gorgeous weather.' (first 5 values):\n",
      "[-0.01245069  0.12634028  0.1523056   0.04857649  0.01352607]\n",
      "\n",
      "Embedding for 'I love programming in Python.' (first 5 values):\n",
      "[-0.05761703  0.00426226 -0.02815313  0.02519761 -0.01650562]\n",
      "\n",
      "Similarity (weather vs weather): 0.91359115\n",
      "Similarity (weather vs programming): 0.03874033\n"
     ]
    }
   ],
   "source": [
    "from sklearn.metrics.pairwise import cosine_similarity\n",
    "import numpy as np\n",
    "\n",
    "# ===== EMBEDDING DIMENSION EXPLORATION =====\n",
    "# Test our embedding function to understand the output format and dimensions\n",
    "# This information is crucial for configuring the vector database schema\n",
    "\n",
    "print(\"🧪 Testing embedding function with sample text...\")\n",
    "test_text = \"This is a test sentence to demonstrate text embeddings.\"\n",
    "test_embedding = model.encode(test_text)\n",
    "embedding_dim = len(test_embedding)\n",
    "\n",
    "print(f\"📊 EMBEDDING ANALYSIS:\")\n",
    "print(f\"   • Input text: '{test_text}'\")\n",
    "print(f\"   • Embedding dimensions: {embedding_dim}\")\n",
    "print(f\"   • Data type: {type(test_embedding)}\")\n",
    "print(f\"   • Sample values: {test_embedding[:10]}\")\n",
    "print(f\"   • Value range: [{min(test_embedding):.4f}, {max(test_embedding):.4f}]\")\n",
    "\n",
    "# Test semantic similarity with related sentences\n",
    "print(\"\\n🔍 SEMANTIC SIMILARITY TEST:\")\n",
    "sentences = [\"The weather is beautiful today.\",\n",
    "             \"Today has gorgeous weather.\",\n",
    "             \"I love programming in Python.\"]\n",
    "\n",
    "embeddings = model.encode(sentences)\n",
    "\n",
    "# Display the first 5 values of each embedding vector\n",
    "for sentence, vector in zip(sentences, embeddings):\n",
    "    print(f\"Embedding for '{sentence}' (first 5 values):\\n{vector[:5]}\\n\")\n",
    "\n",
    "# Perform semantic similarity using sklearn's cosine_similarity\n",
    "cos_sim = cosine_similarity([embeddings[0]], embeddings[1:])\n",
    "\n",
    "print(\"Similarity (weather vs weather):\", cos_sim[0][0])\n",
    "print(\"Similarity (weather vs programming):\", cos_sim[0][1])\n"
   ]
  },
  {
   "cell_type": "code",
   "execution_count": 10,
   "id": "323acccc-499e-4beb-baa4-7abe7010ce9a",
   "metadata": {},
   "outputs": [
    {
     "data": {
      "image/png": "[encoded data removed]",
      "text/plain": [
       "<Figure size 640x480 with 1 Axes>"
      ]
     },
     "metadata": {},
     "output_type": "display_data"
    }
   ],
   "source": [
    "# Visualise the result\n",
    "pca = PCA(n_components=2)\n",
    "reduced = pca.fit_transform(embeddings)\n",
    "plt.scatter(reduced[:, 0], reduced[:, 1])\n",
    "for i, sentence in enumerate(sentences):\n",
    "    plt.annotate(sentence, (reduced[i, 0], reduced[i, 1]))\n",
    "plt.title(\"PCA Projection of Embeddings\")\n",
    "plt.show()"
   ]
  },
  {
   "cell_type": "markdown",
   "id": "b4fc3356-8e5d-4cd4-86a7-9a9bad767884",
   "metadata": {},
   "source": [
    "# Store the embeddings in the vector database"
   ]
  },
  {
   "cell_type": "code",
   "execution_count": 11,
   "id": "cfb03b66-f384-4c89-ba37-326420ab07ea",
   "metadata": {},
   "outputs": [],
   "source": [
    "# Create a list of dictionaries for DB insertion\n",
    "data = [\n",
    "    {\"id\": i, \"embedding\": vec.tolist()}  # Ensure vector is a list\n",
    "    for i, vec in enumerate(embeddings)\n",
    "]\n",
    "\n",
    "# Insert the vectors into the collection\n",
    "collection.insert(data=data)\n",
    "\n",
    "# OPTIONAL: Create index if not already created\n",
    "collection.create_index(\n",
    "    field_name=\"embedding\",\n",
    "    index_params={\n",
    "        \"metric_type\": \"COSINE\",\n",
    "        \"index_type\": \"IVF_FLAT\",\n",
    "        \"params\": {\"nlist\": 128}\n",
    "    },\n",
    "    index_name=\"idx\"\n",
    ")\n",
    "\n",
    "collection.flush()\n",
    "collection.load()"
   ]
  },
  {
   "cell_type": "code",
   "execution_count": 12,
   "id": "8bec26c4-6105-47b0-b430-2505f38ab8ea",
   "metadata": {},
   "outputs": [
    {
     "name": "stdout",
     "output_type": "stream",
     "text": [
      "\n",
      "🔁 VECTOR DATABASE RETRIEVAL DEMO\n",
      "\n",
      "📌 Query term: 'weather'\n",
      "\n",
      "📥 Top matches returned by vector DB:\n",
      "\n",
      "🆔 ID: 0\n",
      "🧠 Text: The weather is beautiful today.\n",
      "📏 Cosine Similarity Score: 0.6844\n",
      "📊 First 5 vector values: [0.013072286732494831, 0.11939921975135803, 0.162684366106987, 0.07397012412548065, 0.027830185368657112]\n",
      "\n",
      "🆔 ID: 1\n",
      "🧠 Text: Today has gorgeous weather.\n",
      "📏 Cosine Similarity Score: 0.6311\n",
      "📊 First 5 vector values: [-0.012450693175196648, 0.12634028494358063, 0.15230560302734375, 0.048576489090919495, 0.013526065275073051]\n",
      "\n",
      "🆔 ID: 2\n",
      "🧠 Text: I love programming in Python.\n",
      "📏 Cosine Similarity Score: 0.0227\n",
      "📊 First 5 vector values: [-0.057617031037807465, 0.004262263886630535, -0.028153132647275925, 0.025197606533765793, -0.016505615785717964]\n",
      "\n",
      "✅ Only semantically similar entries (e.g. weather-related) were returned.\n",
      "❌ Unrelated entries like 'I love programming in Python.' were filtered out due to low similarity.\n"
     ]
    }
   ],
   "source": [
    "# 🔎 Now demonstrate vector DB retrieval with semantic search\n",
    "print(\"\\n🔁 VECTOR DATABASE RETRIEVAL DEMO\")\n",
    "query = \"weather\"\n",
    "query_vector = model.encode([query])\n",
    "\n",
    "# Search DB using the embedded query\n",
    "results = collection.search(\n",
    "    data=query_vector,\n",
    "    anns_field=\"embedding\",\n",
    "    param={\"metric_type\": \"COSINE\"},\n",
    "    limit=3,\n",
    "    output_fields=[\"embedding\"]  # optional if you want to view the matched vectors\n",
    ")\n",
    "\n",
    "# Mapping from id to original input text (stored in memory from `sentences`)\n",
    "id_to_text = {i: sentence for i, sentence in enumerate(sentences)}\n",
    "\n",
    "# Print matches\n",
    "print(f\"\\n📌 Query term: '{query}'\\n\")\n",
    "print(\"📥 Top matches returned by vector DB:\\n\")\n",
    "for match in results[0]:\n",
    "    match_id = match.id\n",
    "    score = match.score\n",
    "    matched_vector = match.entity.get(\"embedding\")\n",
    "    matched_text = id_to_text.get(match_id, \"[Unknown]\")\n",
    "\n",
    "    print(f\"🆔 ID: {match_id}\")\n",
    "    print(f\"🧠 Text: {matched_text}\")\n",
    "    print(f\"📏 Cosine Similarity Score: {score:.4f}\")\n",
    "    print(f\"📊 First 5 vector values: {matched_vector[:5]}\\n\")\n",
    "\n",
    "print(\"✅ Only semantically similar entries (e.g. weather-related) were returned.\")\n",
    "print(\"❌ Unrelated entries like 'I love programming in Python.' were filtered out due to low similarity.\")\n"
   ]
  },
  {
   "cell_type": "code",
   "execution_count": 13,
   "id": "766da69d-2a18-4851-aab9-c3a391247c78",
   "metadata": {},
   "outputs": [],
   "source": [
    "# Close the Milvus connection\n",
    "collection.release()\n",
    "utility.drop_collection(collection_name)"
   ]
  },
  {
   "cell_type": "code",
   "execution_count": null,
   "id": "35681e1a-7af3-4b60-812f-5b0c3859b379",
   "metadata": {},
   "outputs": [],
   "source": []
  }
 ],
 "metadata": {
  "kernelspec": {
   "display_name": "Python 3.11",
   "language": "python",
   "name": "python3"
  },
  "language_info": {
   "codemirror_mode": {
    "name": "ipython",
    "version": 3
   },
   "file_extension": ".py",
   "mimetype": "text/x-python",
   "name": "python",
   "nbconvert_exporter": "python",
   "pygments_lexer": "ipython3",
   "version": "3.11.11"
  }
 },
 "nbformat": 4,
 "nbformat_minor": 5
}
