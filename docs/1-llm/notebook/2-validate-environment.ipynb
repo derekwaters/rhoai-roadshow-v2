{
 "cells": [
  {
   "cell_type": "markdown",
   "id": "ceffd7de-5d51-4d05-aa50-9ffa247e709f",
   "metadata": {},
   "source": [
    "# Install required Python modules\n",
    "\n",
    "*Note:* This step may take a while to run the first time."
   ]
  },
  {
   "cell_type": "code",
   "execution_count": 1,
   "id": "61ab88ea-3161-4ef0-a8d7-bb3468b18bda",
   "metadata": {},
   "outputs": [
    {
     "name": "stdout",
     "output_type": "stream",
     "text": [
      "downloading uv 0.8.4 x86_64-unknown-linux-gnu\n",
      "no checksums to verify\n",
      "installing to /opt/app-root/src/.local/bin\n",
      "  uv\n",
      "  uvx\n",
      "everything's installed!\n",
      "\n",
      "To add $HOME/.local/bin to your PATH, either restart your shell or run:\n",
      "\n",
      "    source $HOME/.local/bin/env (sh, bash, zsh)\n",
      "    source $HOME/.local/bin/env.fish (fish)\n"
     ]
    }
   ],
   "source": [
    "# Install uv for simplified package management. (It is not necessary to understand this step.)\n",
    "!curl -LsSf https://astral.sh/uv/install.sh | sh"
   ]
  },
  {
   "cell_type": "code",
   "execution_count": 2,
   "id": "c7518dc2-fbeb-4968-b126-af818e32c436",
   "metadata": {},
   "outputs": [
    {
     "name": "stdout",
     "output_type": "stream",
     "text": [
      "\u001b[2mUsing Python 3.11.11 environment at: /opt/app-root\u001b[0m\n",
      "\u001b[2K\u001b[2mResolved \u001b[1m36 packages\u001b[0m \u001b[2min 413ms\u001b[0m\u001b[0m                                        \u001b[0m\n",
      "\u001b[2K\u001b[2mPrepared \u001b[1m23 packages\u001b[0m \u001b[2min 479ms\u001b[0m\u001b[0m                                            \n",
      "\u001b[2mUninstalled \u001b[1m1 package\u001b[0m \u001b[2min 3ms\u001b[0m\u001b[0m\n",
      "\u001b[2K░░░░░░░░░░░░░░░░░░░░ [0/23] \u001b[2mInstalling wheels...                                \u001b[0m\u001b[1m\u001b[33mwarning\u001b[39m\u001b[0m\u001b[1m:\u001b[0m \u001b[1mFailed to hardlink files; falling back to full copy. This may lead to degraded performance.\n",
      "         If the cache and target directories are on different filesystems, hardlinking may not be supported.\n",
      "         If this is intentional, set `export UV_LINK_MODE=copy` or use `--link-mode=copy` to suppress this warning.\u001b[0m\n",
      "\u001b[2K\u001b[2mInstalled \u001b[1m23 packages\u001b[0m \u001b[2min 331ms\u001b[0m\u001b[0m                              \u001b[0m\n",
      " \u001b[32m+\u001b[39m \u001b[1mannotated-types\u001b[0m\u001b[2m==0.7.0\u001b[0m\n",
      " \u001b[32m+\u001b[39m \u001b[1mdistro\u001b[0m\u001b[2m==1.9.0\u001b[0m\n",
      " \u001b[32m+\u001b[39m \u001b[1mgreenlet\u001b[0m\u001b[2m==3.2.3\u001b[0m\n",
      " \u001b[32m+\u001b[39m \u001b[1mjiter\u001b[0m\u001b[2m==0.10.0\u001b[0m\n",
      " \u001b[32m+\u001b[39m \u001b[1mjsonpatch\u001b[0m\u001b[2m==1.33\u001b[0m\n",
      " \u001b[32m+\u001b[39m \u001b[1mlangchain\u001b[0m\u001b[2m==0.3.25\u001b[0m\n",
      " \u001b[32m+\u001b[39m \u001b[1mlangchain-core\u001b[0m\u001b[2m==0.3.68\u001b[0m\n",
      " \u001b[32m+\u001b[39m \u001b[1mlangchain-openai\u001b[0m\u001b[2m==0.3.27\u001b[0m\n",
      " \u001b[32m+\u001b[39m \u001b[1mlangchain-text-splitters\u001b[0m\u001b[2m==0.3.8\u001b[0m\n",
      " \u001b[32m+\u001b[39m \u001b[1mlangsmith\u001b[0m\u001b[2m==0.3.45\u001b[0m\n",
      " \u001b[32m+\u001b[39m \u001b[1mopenai\u001b[0m\u001b[2m==1.98.0\u001b[0m\n",
      " \u001b[32m+\u001b[39m \u001b[1morjson\u001b[0m\u001b[2m==3.11.1\u001b[0m\n",
      " \u001b[31m-\u001b[39m \u001b[1mpackaging\u001b[0m\u001b[2m==25.0\u001b[0m\n",
      " \u001b[32m+\u001b[39m \u001b[1mpackaging\u001b[0m\u001b[2m==24.2\u001b[0m\n",
      " \u001b[32m+\u001b[39m \u001b[1mpydantic\u001b[0m\u001b[2m==2.11.7\u001b[0m\n",
      " \u001b[32m+\u001b[39m \u001b[1mpydantic-core\u001b[0m\u001b[2m==2.33.2\u001b[0m\n",
      " \u001b[32m+\u001b[39m \u001b[1mregex\u001b[0m\u001b[2m==2025.7.34\u001b[0m\n",
      " \u001b[32m+\u001b[39m \u001b[1mrequests-toolbelt\u001b[0m\u001b[2m==1.0.0\u001b[0m\n",
      " \u001b[32m+\u001b[39m \u001b[1msqlalchemy\u001b[0m\u001b[2m==2.0.42\u001b[0m\n",
      " \u001b[32m+\u001b[39m \u001b[1mtenacity\u001b[0m\u001b[2m==9.1.2\u001b[0m\n",
      " \u001b[32m+\u001b[39m \u001b[1mtiktoken\u001b[0m\u001b[2m==0.9.0\u001b[0m\n",
      " \u001b[32m+\u001b[39m \u001b[1mtqdm\u001b[0m\u001b[2m==4.67.1\u001b[0m\n",
      " \u001b[32m+\u001b[39m \u001b[1mtyping-inspection\u001b[0m\u001b[2m==0.4.1\u001b[0m\n",
      " \u001b[32m+\u001b[39m \u001b[1mzstandard\u001b[0m\u001b[2m==0.23.0\u001b[0m\n"
     ]
    }
   ],
   "source": [
    "# Step 1: Install necessary libraries (run in a cell if needed)\n",
    "!uv pip install -r requirements.txt"
   ]
  },
  {
   "cell_type": "markdown",
   "id": "4d142a29-d889-4e19-8460-e66b9fee387a",
   "metadata": {},
   "source": [
    "# Validate LLM connectivity\n",
    "Check that the LLM that is used by this lab is available."
   ]
  },
  {
   "cell_type": "code",
   "execution_count": 3,
   "id": "15b0bf4d-7839-45c8-a212-337316198c0d",
   "metadata": {},
   "outputs": [
    {
     "name": "stdout",
     "output_type": "stream",
     "text": [
      "✅ vLLM responded successfully:\n",
      "Completion: Sydney\n",
      "LLM status: 🟢 OK\n",
      "\n",
      "If all results are OK, return to your lab workbook for further instructions. If any have an error please inform your instructor.\n"
     ]
    }
   ],
   "source": [
    "import requests\n",
    "import json\n",
    "\n",
    "llm_status = \"🟢 OK\"\n",
    "\n",
    "llm_uri = \"http://llama3-2-3b-predictor.llama-serving.svc.cluster.local:8080/v1/completions\"\n",
    "model_name = \"llama3-2-3b\"\n",
    "\n",
    "payload = {\n",
    "    \"model\": model_name,\n",
    "    \"prompt\": \"What is the capital of Australia?\\nA:\",\n",
    "    \"max_tokens\": 50,\n",
    "    \"temperature\": 0.7,\n",
    "    \"stop\": [\"\\n\"]  # Prevent the LLM from generating extra questions as it responds.\n",
    "}\n",
    "\n",
    "headers = {\"Content-Type\": \"application/json\"}\n",
    "\n",
    "try:\n",
    "    response = requests.post(llm_uri, headers=headers, data=json.dumps(payload), timeout=10)\n",
    "    if response.ok:\n",
    "        result = response.json()\n",
    "        print(\"✅ vLLM responded successfully:\")\n",
    "        print(\"Completion:\", result[\"choices\"][0][\"text\"].strip())\n",
    "    else:\n",
    "        print(f\"⚠️ vLLM responded with status code {response.status_code}:\")\n",
    "        print(response.text)\n",
    "        llm_status = \"🔴 FAIL\"\n",
    "except requests.exceptions.RequestException as e:\n",
    "    print(f\"❌ Failed to reach vLLM at {llm_uri}: {e}\")\n",
    "    llm_status = \"🔴 FAIL\"\n",
    "\n",
    "print(f\"LLM status: {llm_status}\")\n",
    "\n",
    "print(\"\\nIf all results are OK, return to your lab workbook for further instructions. If any have an error please inform your instructor.\")"
   ]
  }
 ],
 "metadata": {
  "kernelspec": {
   "display_name": "Python 3.11",
   "language": "python",
   "name": "python3"
  },
  "language_info": {
   "codemirror_mode": {
    "name": "ipython",
    "version": 3
   },
   "file_extension": ".py",
   "mimetype": "text/x-python",
   "name": "python",
   "nbconvert_exporter": "python",
   "pygments_lexer": "ipython3",
   "version": "3.11.11"
  }
 },
 "nbformat": 4,
 "nbformat_minor": 5
}
