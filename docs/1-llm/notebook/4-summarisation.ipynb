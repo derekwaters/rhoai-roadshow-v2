{
 "cells": [
  {
   "cell_type": "markdown",
   "id": "4ad2cc4e-31ec-4648-b0fe-6632f2bdbc36",
   "metadata": {},
   "source": [
    "## Summarizing a text using an LLM\n",
    "\n",
    "As an LLM \"understands\" a language, it can be suited for tasks like translation or summarization.\n",
    "\n",
    "In this Notebook, we are going to use our LLM to summarize some texts, especially claims examples."
   ]
  },
  {
   "cell_type": "markdown",
   "id": "2a4e2b81-0e10-4390-a7b8-5ddfda53a3e3",
   "metadata": {},
   "source": [
    "### Requirements and Imports\n",
    "\n",
    "If you have selected the right workbench image to launch as per the Lab's instructions, you should already have all the needed libraries. If not uncomment the first line in the next cell to install all the right packages."
   ]
  },
  {
   "cell_type": "code",
   "execution_count": 1,
   "id": "d61c595d-967e-47de-a598-02b5d1ccec85",
   "metadata": {
    "tags": []
   },
   "outputs": [],
   "source": [
    "# Uncomment the following line only if you have not selected the right workbench image, or are using this notebook outside of the workshop environment.\n",
    "# !pip install --no-cache-dir --no-dependencies --disable-pip-version-check -r requirements.txt\n",
    "\n",
    "import json\n",
    "import os\n",
    "import httpx\n",
    "from os import listdir\n",
    "from os.path import isfile, join\n",
    "\n",
    "from langchain_openai import ChatOpenAI\n",
    "from langchain_core.prompts import ChatPromptTemplate\n",
    "from langchain_core.prompts.chat import SystemMessagePromptTemplate, HumanMessagePromptTemplate\n",
    "from langchain.callbacks.streaming_stdout import StreamingStdOutCallbackHandler"
   ]
  },
  {
   "cell_type": "markdown",
   "id": "c428fbad-2345-4536-b687-72416d6b9b15",
   "metadata": {},
   "source": [
    "### Langchain pipeline\n",
    "\n",
    "Again, we are going to use Langchain to define our summarization pipeline."
   ]
  },
  {
   "cell_type": "code",
   "execution_count": 2,
   "id": "77f95a70-89fb-4e21-a51c-24e862b7953e",
   "metadata": {
    "tags": []
   },
   "outputs": [],
   "source": [
    "# LLM Inference Server URL\n",
    "inference_server_url = \"http://llama3-2-3b-predictor.llama-serving.svc.cluster.local:8080/v1\"\n",
    "inference_server_model_name = \"llama3-2-3b\"\n",
    "\n",
    "\n",
    "# LLM definition\n",
    "llm = ChatOpenAI(\n",
    "    model=inference_server_model_name,\n",
    "    temperature=0,\n",
    "    max_tokens=None,\n",
    "    timeout=None,\n",
    "    max_retries=2,\n",
    "    api_key=\"EMPTY\",  # if you prefer to pass api key in directly instaed of using env vars\n",
    "    base_url=inference_server_url,\n",
    "    http_client=httpx.Client(verify=False)    # Because we are using an internal API endpoint (service) we need to disable SSL certificate checking.\n",
    ")"
   ]
  },
  {
   "cell_type": "markdown",
   "id": "20b950bc-4d73-49e5-a35b-083a784edd50",
   "metadata": {},
   "source": [
    "The **template** we will use is now formatted for this specific summarization task."
   ]
  },
  {
   "cell_type": "code",
   "execution_count": 3,
   "id": "a0bbaf53-8825-4521-908e-db5f9441353c",
   "metadata": {},
   "outputs": [],
   "source": [
    "template = ChatPromptTemplate.from_messages([\n",
    "    SystemMessagePromptTemplate.from_template(\n",
    "        \"\"\"You are a helpful, respectful and honest assistant.\n",
    "        Always assist with care, respect, and truth. Respond with utmost utility yet securely.\n",
    "        Avoid harmful, unethical, prejudiced, or negative content. Ensure replies promote fairness and positivity.\n",
    "        I will give you a text that you must summarize as best as you can.\n",
    "        \"\"\"),\n",
    "    HumanMessagePromptTemplate.from_template(\n",
    "        \"\"\"### TEXT:\n",
    "        {input}\n",
    "        ### SUMMARY:\"\"\"\n",
    "    )\n",
    "])"
   ]
  },
  {
   "cell_type": "markdown",
   "id": "849fbd67-220c-4a02-8e4e-7e0d1aa91588",
   "metadata": {},
   "source": [
    "We are now ready to query the model!\n",
    "\n",
    "In the `claims` folder we have JSON files with examples of claims that could be received. We are going to read those files, display them, then the summary that the LLM made."
   ]
  },
  {
   "cell_type": "code",
   "execution_count": 4,
   "id": "ca714bca-7cec-4afc-b275-fa389c05a993",
   "metadata": {
    "tags": []
   },
   "outputs": [],
   "source": [
    "# Read the claims and populate a dictionary\n",
    "claims_path = 'claims'\n",
    "onlyfiles = [f for f in listdir(claims_path) if isfile(join(claims_path, f))]\n",
    "\n",
    "claims = {}\n",
    "\n",
    "for filename in onlyfiles:\n",
    "    # Opening JSON file\n",
    "    with open(os.path.join(claims_path, filename), 'r') as file:\n",
    "        data = json.load(file)\n",
    "    claims[filename] = data"
   ]
  },
  {
   "cell_type": "code",
   "execution_count": 5,
   "id": "dac009d5-d558-4258-9735-4fb0de46c309",
   "metadata": {
    "tags": []
   },
   "outputs": [
    {
     "name": "stdout",
     "output_type": "stream",
     "text": [
      "***************************\n",
      "* Claim: claim1.json\n",
      "***************************\n",
      "===== ORIGINAL CONTENT =====\n",
      "\n",
      "\n",
      "Subject: Claim for Recent Car Accident - Policy Number: AC-987654321\n",
      "Content:\n",
      "Dear Parasol Insurance,\n",
      "\n",
      "I hope this email finds you well. My name is Sarah Turner, and I am writing to file a claim for a recent car accident that occurred on January 2nd, 2024, at approximately 3:30 PM. My policy number is AC-987654321.\n",
      "\n",
      "The accident took place at the intersection of Birch Street and Willow Avenue in the city of Evergreen. I was driving my vehicle, a black Toyota Camry with license plate number DEF-456, heading south on Birch Street. At the intersection, the traffic signal was green, and I proceeded through the intersection.\n",
      "\n",
      "At the same time, another vehicle, a blue Chevrolet Traverse with license plate number GHI-789, was traveling west on Willow Avenue. Unfortunately, the driver failed to stop at the red traffic signal, resulting in a collision with the front passenger side of my vehicle.\n",
      "\n",
      "The impact caused significant damage to both vehicles. The front bumper and right headlight of my Toyota Camry are extensively damaged, and there are also damages to the front driver's side of the Chevrolet Traverse. Fortunately, no injuries were sustained during the accident, and both drivers were able to move their vehicles to the side of the road.\n",
      "\n",
      "I promptly exchanged information with the other driver, Mr. Daniel Reynolds, including our names, phone numbers, insurance details, and a brief description of the accident. Additionally, I took photos of the accident scene, including the damages to both vehicles and the position of the traffic signal.\n",
      "\n",
      "I have attached the necessary documents to this email, including the photos, a copy of the police report filed at the Evergreen Police Department, and the estimate for the repair costs from Evergreen Auto Repair, where I have taken my vehicle for assessment.\n",
      "\n",
      "I kindly request your prompt attention to this matter and would appreciate any guidance on the next steps in the claims process. If you require any additional information or documentation, please do not hesitate to contact me at (555) 123-4567 or sarah.turner@email.com.\n",
      "\n",
      "Thank you for your assistance, and I look forward to a swift resolution of this claim.\n",
      "\n",
      "Sincerely,\n",
      "\n",
      "Sarah Turner\n",
      "123 Oak Street\n",
      "Evergreen, CA 98765\n",
      "(555) 123-4567\n",
      "sarah.turner@email.com\n",
      "\n",
      "\n",
      "===== SUMMARY =====\n",
      "\n",
      "\n",
      "Here is a summary of the text:\n",
      "\n",
      "Sarah Turner is filing a claim with Parasol Insurance for a car accident that occurred on January 2nd, 2024, at the intersection of Birch Street and Willow Avenue in Evergreen, CA. She was driving a black Toyota Camry when another vehicle, a blue Chevrolet Traverse, failed to stop at a red traffic signal and collided with her vehicle. Fortunately, no one was injured. Sarah has exchanged information with the other driver, taken photos of the accident scene, and attached necessary documents, including a police report and repair estimate, to the email. She is requesting prompt attention to the matter and guidance on the next steps in the claims process.\n",
      "\n",
      "\n",
      "===== END OF SUMMARY =====\n",
      "\n",
      "\n",
      "***************************\n",
      "* Claim: claim2.json\n",
      "***************************\n",
      "===== ORIGINAL CONTENT =====\n",
      "\n",
      "\n",
      "Subject: Urgent: Unacceptable Delay and Lack of Communication Regarding Claim #XYZ789\n",
      "Content:\n",
      "Dear Prestige Insurances,\n",
      "\n",
      "I am writing to express my extreme dissatisfaction with the appalling service I have received concerning my recent claim, reference number #XYZ789. The lack of communication and delayed response from your company is utterly unacceptable, and I demand immediate attention to rectify this matter.\n",
      "\n",
      "The accident occurred on January 15, 2024, at approximately 3:45 PM, near the intersection of Maple Street and Oak Avenue in Rivertown. My vehicle, a Silver Hawk GT, was struck by another driver, identified as Samantha Reynolds, who ran a red light at the aforementioned intersection. This incident resulted in substantial damage to the front end of my car, including severe structural damage and airbag deployment.\n",
      "\n",
      "I reported the claim immediately after the accident, providing all necessary details, witness information, and a detailed description of the events leading up to the collision. However, the response—or lack thereof—from your company has been absolutely deplorable. I have yet to receive any updates on the status of my claim, and my attempts to contact your claims department have been met with prolonged hold times and unhelpful representatives.\n",
      "\n",
      "I insist on a thorough investigation into this matter and demand an explanation for the unreasonable delay. It is my right as a policyholder to receive timely updates on the progress of my claim and to be treated with the respect and urgency that this situation demands.\n",
      "\n",
      "Furthermore, the lack of transparency and communication from your company is not only unprofessional but also exacerbates the stress and inconvenience caused by the accident itself. I expect immediate action to be taken to expedite the processing of my claim and provide me with the information I am entitled to as a paying customer.\n",
      "\n",
      "I am appalled at the disregard for customer satisfaction and the apparent negligence displayed by your company in handling my claim. If my concerns are not addressed promptly and to my satisfaction, I will have no choice but to escalate this matter to the appropriate regulatory authorities and consider legal action.\n",
      "\n",
      "I demand a comprehensive update on the status of my claim within the next 48 hours. Failing to meet this deadline will only reinforce my belief that your company values its bottom line over the well-being of its customers.\n",
      "\n",
      "I trust that you will treat this matter with the urgency and seriousness it deserves.\n",
      "\n",
      "Sincerely,\n",
      "\n",
      "John T. Anderson\n",
      "Policy Number: PT567890\n",
      "\n",
      "\n",
      "===== SUMMARY =====\n",
      "\n",
      "\n",
      "A policyholder, John T. Anderson, is writing to express his extreme dissatisfaction with the service he received from Prestige Insurances regarding his recent claim (#XYZ789). He reports a car accident on January 15, 2024, where his vehicle was struck by another driver who ran a red light. Despite reporting the claim immediately, he has not received any updates or communication from the company, leading to prolonged hold times and unhelpful representatives. He demands a thorough investigation, immediate action to expedite the claim processing, and transparency in communication. If his concerns are not addressed promptly, he will escalate the matter to regulatory authorities and consider legal action.\n",
      "\n",
      "\n",
      "===== END OF SUMMARY =====\n",
      "\n",
      "\n",
      "***************************\n",
      "* Claim: claim3.json\n",
      "***************************\n",
      "===== ORIGINAL CONTENT =====\n",
      "\n",
      "\n",
      "Subject: Urgent: Car Accident Claim Assistance Needed\n",
      "Content:\n",
      "Dear Parasol Insurance,\n",
      "\n",
      "I hope this email finds you well. I'm writing to, uh, inform you about, well, something that happened recently. It's, um, about a car accident, and I'm not really sure how to, you know, go about all this. I'm kinda anxious and confused, to be honest.\n",
      "\n",
      "So, the accident, uh, occurred on January 15, 2024, at around 3:30 PM. I was driving, or, um, attempting to drive, my car at the intersection of Maple Street and Elm Avenue. It's kinda close to, um, a gas station and a, uh, coffee shop called Brew Haven? I'm not sure if that matters, but, yeah.\n",
      "\n",
      "So, I was just, you know, driving along, and suddenly, out of nowhere, another car, a Blue Crest Sedan, crashed into the, uh, driver's side of my car. It was like, whoa, what just happened, you know? There was this screeching noise and, uh, some honking from other cars, and I just felt really, uh, overwhelmed.\n",
      "\n",
      "The weather was, um, kinda cloudy that day, but I don't think it was raining. I mean, I can't really remember. Sorry if that's important. Anyway, the road, or, well, maybe the intersection, was kinda busy, with cars going in different directions. I guess that's, you know, a detail you might need?\n",
      "\n",
      "As for damages, my car has, uh, significant damage on the driver's side. The front door is all dented, and the side mirror is, like, hanging by a thread. It's not really drivable in its current, uh, state. The Blue Crest Sedan also had some damage, but I'm not exactly sure what because, you know, everything happened so fast.\n",
      "\n",
      "I did manage to exchange information with the other driver. Their name is Sarah Johnson, and I got their phone number (555-1234), license plate number (ABC123), and insurance information. So, yeah, I hope that's helpful.\n",
      "\n",
      "I'm not sure what, um, steps I should take now. Do I need to go to a specific, uh, repair shop? Should I get a quote for the repairs? And, uh, how do I, you know, proceed with the insurance claim? I'm kinda lost here, and any guidance or assistance you can provide would be really, um, appreciated.\n",
      "\n",
      "Sorry if this email is a bit all over the place. I'm just really, uh, anxious about the whole situation. Thank you for your understanding.\n",
      "\n",
      "Sincerely,\n",
      "\n",
      "Jane Doe\n",
      "Policy Number: AC987654\n",
      "\n",
      "\n",
      "===== SUMMARY =====\n",
      "\n",
      "\n",
      "Here's a summary of the text:\n",
      "\n",
      "A woman named Jane Doe is reaching out to Parasol Insurance for assistance with a car accident claim. The accident occurred on January 15, 2024, at 3:30 PM at the intersection of Maple Street and Elm Avenue. Jane's car was damaged on the driver's side, with significant damage to the front door and side mirror, making it un drivable. She exchanged information with the other driver, Sarah Johnson, including her phone number, license plate number, and insurance information. Jane is unsure about the next steps and is seeking guidance on how to proceed with the insurance claim, including finding a repair shop and getting a quote for the repairs.\n",
      "\n",
      "\n",
      "===== END OF SUMMARY =====\n",
      "\n",
      "\n"
     ]
    }
   ],
   "source": [
    "for filename in onlyfiles:\n",
    "    print(\"***************************\")\n",
    "    print(f\"* Claim: {filename}\")\n",
    "    print(\"***************************\")\n",
    "    print(\"===== ORIGINAL CONTENT =====\\n\\n\")\n",
    "    print(f\"Subject: {claims[filename]['subject']}\\nContent:\\n{claims[filename]['content']}\\n\\n\")\n",
    "    print('===== SUMMARY =====\\n\\n')\n",
    "    summary_input = f\"Subject: {claims[filename]['subject']}\\nContent:\\n{claims[filename]['content']}\"\n",
    "    prompt = template.invoke({\"input\": summary_input})\n",
    "    resp = llm.invoke(input=prompt)\n",
    "    print(resp.content)  # Access the text\n",
    "    print(\"\\n\\n===== END OF SUMMARY =====\\n\\n\")\n"
   ]
  },
  {
   "cell_type": "code",
   "execution_count": 6,
   "id": "1d01c325-f606-4655-831f-0bd888fa04c2",
   "metadata": {},
   "outputs": [
    {
     "name": "stdout",
     "output_type": "stream",
     "text": [
      "Summarisation complete.\n"
     ]
    }
   ],
   "source": [
    "print(\"Summarisation complete.\")"
   ]
  },
  {
   "cell_type": "markdown",
   "id": "6e28a5b0-6c93-42ba-84dd-42e17746d11d",
   "metadata": {},
   "source": [
    "---\n",
    "# End of activity\n",
    "Return to the Roadshow instructions for next steps."
   ]
  }
 ],
 "metadata": {
  "kernelspec": {
   "display_name": "Python 3.11",
   "language": "python",
   "name": "python3"
  },
  "language_info": {
   "codemirror_mode": {
    "name": "ipython",
    "version": 3
   },
   "file_extension": ".py",
   "mimetype": "text/x-python",
   "name": "python",
   "nbconvert_exporter": "python",
   "pygments_lexer": "ipython3",
   "version": "3.11.11"
  }
 },
 "nbformat": 4,
 "nbformat_minor": 5
}
