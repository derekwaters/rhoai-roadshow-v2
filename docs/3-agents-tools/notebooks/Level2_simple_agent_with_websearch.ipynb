{
 "cells": [
  {
   "cell_type": "markdown",
   "metadata": {},
   "source": [
    "# Level 2: Simple Agent with Web Search\n",
    "\n",
    "This notebook will introduce how to build a simple agent using Llama Stack's agent framework, enhanced with a single tool: the builtin web search tool. This capability will  allow the agent to retrieve up to date external information beyond the limits of its training data. This is an important step toward developing a more capable and autonomous agent. Make sure you have setup your environment OK in [Level 1](Level1_getting_started_with_Llama_Stack.ipynb)\n",
    "\n",
    "## Overview\n",
    "\n",
    "This tutorial will walk you through how to build your own AI agent who can search the web:\n",
    "\n",
    "1. Configure a Llama Stack agent.\n",
    "2. Enhance the agent by providing it access to a specific tool\n",
    "2. Interact with the agent and tests its use of the web search tool.\n",
    "\n",
    "## Prerequisites\n",
    "\n",
    "Before starting this notebook, ensure that you have:\n",
    "- Followed the instructions in the [Setup Guide](./Level1_getting_started_with_Llama_Stack.ipynb) notebook. \n",
    "- A Tavily API key. It is critical for this notebook to run correctly. You can register for one at [https://tavily.com/](https://tavily.com/).\n",
    "\n",
    "Add your TAVILY_SEARCH_API_KEY=\"tvly-dev-your-key\" to the `env.example` file."
   ]
  },
  {
   "cell_type": "markdown",
   "metadata": {},
   "source": [
    "## 1. Setting Up this Notebook\n",
    "We will start with a few imports."
   ]
  },
  {
   "cell_type": "code",
   "execution_count": 1,
   "metadata": {},
   "outputs": [],
   "source": [
    "from llama_stack_client import Agent\n",
    "from llama_stack_client.lib.agents.event_logger import EventLogger"
   ]
  },
  {
   "cell_type": "markdown",
   "metadata": {},
   "source": [
    "Next, we will initialize our environment as described in detail in our [\"Getting Started\" notebook](./Level0_getting_started_with_Llama_Stack.ipynb). Please refer to it for additional explanations."
   ]
  },
  {
   "cell_type": "code",
   "execution_count": 5,
   "metadata": {},
   "outputs": [
    {
     "name": "stdout",
     "output_type": "stream",
     "text": [
      "Connected to Llama Stack server\n",
      "Inference Parameters:\n",
      "\tModel: llama3-2-3b\n",
      "\tSampling Parameters: {'strategy': {'type': 'greedy'}, 'max_tokens': 6000}\n",
      "\tstream: True\n"
     ]
    }
   ],
   "source": [
    "# for accessing the environment variables\n",
    "import os\n",
    "from dotenv import load_dotenv\n",
    "load_dotenv(override=True)\n",
    "\n",
    "# for communication with Llama Stack\n",
    "from llama_stack_client import LlamaStackClient\n",
    "\n",
    "# pretty print of the results returned from the model/agent\n",
    "import sys\n",
    "sys.path.append('.')\n",
    "from src.utils import step_printer\n",
    "from termcolor import cprint\n",
    "\n",
    "base_url = os.getenv(\"REMOTE_BASE_URL\")\n",
    "\n",
    "# Tavily search API key is required for some of our demos and must be provided to the client upon initialization.\n",
    "# We will cover it in the agentic demos that use the respective tool. Please ignore this parameter for all other demos.\n",
    "tavily_search_api_key = os.getenv(\"TAVILY_SEARCH_API_KEY\")\n",
    "if len(tavily_search_api_key) != 41:\n",
    "    raise ValueError(\"Sorry your Tavily Search key seems invalid?\")\n",
    "else:\n",
    "    provider_data = {\"tavily_search_api_key\": tavily_search_api_key}\n",
    "\n",
    "client = LlamaStackClient(\n",
    "    base_url=base_url,\n",
    "    provider_data=provider_data\n",
    ")\n",
    "\n",
    "print(f\"Connected to Llama Stack server\")\n",
    "\n",
    "# model_id for the model you wish to use that is configured with the Llama Stack server\n",
    "model_id = \"llama3-2-3b\" # \"deepseek-r1-0528-qwen3-8b-bnb-4bit\", \"llama-4-scout-17b-16e-w4a16\"\n",
    "\n",
    "temperature = float(os.getenv(\"TEMPERATURE\", 0.0))\n",
    "if temperature > 0.0:\n",
    "    top_p = float(os.getenv(\"TOP_P\", 0.95))\n",
    "    strategy = {\"type\": \"top_p\", \"temperature\": temperature, \"top_p\": top_p}\n",
    "else:\n",
    "    strategy = {\"type\": \"greedy\"}\n",
    "\n",
    "max_tokens = 6000\n",
    "\n",
    "# sampling_params will later be used to pass the parameters to Llama Stack Agents/Inference APIs\n",
    "sampling_params = {\n",
    "    \"strategy\": strategy,\n",
    "    \"max_tokens\": max_tokens,\n",
    "}\n",
    "\n",
    "stream = \"True\"\n",
    "\n",
    "print(f\"Inference Parameters:\\n\\tModel: {model_id}\\n\\tSampling Parameters: {sampling_params}\\n\\tstream: {stream}\")"
   ]
  },
  {
   "cell_type": "markdown",
   "metadata": {},
   "source": [
    "## 2. Configure an agent for tool use.\n",
    "\n",
    "- **Agent Initialization**: First we create an `Agent` instance with the desired LLM model, agent instructions and tools.\n",
    "\n",
    "- **Instructions**: The `instructions` parameter, also referred to as the system prompt, specifies the agent's role and behavior. In this example, the agent is configured as a helpful web search assistant. It is instructed to use a tool whenever a web search is required and to respond in a friendly and helpful tone.\n",
    "\n",
    "- **Tools**: The `tools` parameter defines the tools available to the agent. In this case, the `builtin::websearch` tool is used, which enables the agent to perform web searches. This tool is essential for retrieving up-to-date information from the web.\n",
    "\n",
    "- **How It Works**: When a user query is provided, the agent processes the input and determines whether a tool is required to fulfill the request. If the query involves retrieving information from the web, the agent invokes the `builtin::websearch` tool. The tool interacts with Tavily Search to fetch real-time data, which is then processed and returned to the user in a friendly and helpful tone. This workflow ensures that the agent can handle a wide range of queries effectively.\n",
    "\n",
    "For more details on the `builtin::websearch` tool and its capabilities, refer to the [Llama-stack tools documentation](https://llama-stack.readthedocs.io/en/latest/building_applications/tools.html#web-search-providers). "
   ]
  },
  {
   "cell_type": "code",
   "execution_count": 6,
   "metadata": {},
   "outputs": [],
   "source": [
    "agent = Agent(\n",
    "    client, \n",
    "    model=model_id,\n",
    "    instructions=\"\"\"You are a helpful websearch assistant. When you are asked to search the latest you must use a tool. \n",
    "            Whenever a tool is called, be sure return the response in a friendly and helpful tone.\n",
    "            \"\"\" ,\n",
    "    tools=[\"builtin::websearch\"],\n",
    "    sampling_params=sampling_params\n",
    ")"
   ]
  },
  {
   "cell_type": "markdown",
   "metadata": {},
   "source": [
    "## 3. Run the agent.\n",
    "- Populate `user_prompts` with questions that you would like to ask the agent.\n",
    "- Create a unique agent session for this conversation so that it can store metadata and context history in the Llama Stack server.\n",
    "- Finally, display the agent's responses for each query."
   ]
  },
  {
   "cell_type": "code",
   "execution_count": 7,
   "metadata": {},
   "outputs": [
    {
     "name": "stdout",
     "output_type": "stream",
     "text": [
      "\n",
      "==================================================\n",
      "\u001b[34mProcessing user query: What’s latest in OpenShift?\u001b[0m\n",
      "==================================================\n",
      "\u001b[33minference> \u001b[0m\u001b[33m\u001b[0m\u001b[97m\u001b[0m\n",
      "\u001b[32mtool_execution> Tool:brave_search Args:{'query': 'latest OpenShift news'}\u001b[0m\n",
      "\u001b[32mtool_execution> Tool:brave_search Response:{\"query\": \"latest OpenShift news\", \"top_k\": [{\"url\": \"https://www.infoq.com/openshift/news/\", \"title\": \"OpenShift > News > Page #1 - InfoQ\", \"content\": \"What's New in Red Hat OpenShift Q1 2024 Enhancements. RedHat has announced the general availability of Red Hat OpenShift 4.15, based on Kubernetes 1.28 and\", \"score\": 0.7420672, \"raw_content\": null}, {\"url\": \"https://www.redhat.com/en/whats-new-red-hat-openshift\", \"title\": \"What's new in Red Hat OpenShift\", \"content\": \"What's New in OpenShift 4.18 Security Highlights for OpenShift 4.18 Increased security for networking, secrets management, cluster stability 13 Product Manager:\", \"score\": 0.71496695, \"raw_content\": null}, {\"url\": \"https://federalnewsnetwork.com/tag/openshift/\", \"title\": \"OpenShift - Federal News Network\", \"content\": \"Red Hat recently delivered updates to OpenShift Container Platform that enables deployment of a small, 3-Node footprint.\", \"score\": 0.6786044, \"raw_content\": null}, {\"url\": \"https://www.redhat.com/en/blog/channel/red-hat-openshift\", \"title\": \"Red Hat OpenShift\", \"content\": \"The latest on our hybrid cloud application platform. Blog post \\u00b7 9 articles Red Hat customers are reading after Red Hat Summit. July 22, 2025 | Isabel Lee.\", \"score\": 0.5829428, \"raw_content\": null}, {\"url\": \"https://www.commvault.com/news/commvault-extends-support-to-red-hat-openshift-virtualization-workloads\", \"title\": \"Commvault Extends Support to Red Hat OpenShift Virtualization ...\", \"content\": \"Commvault, a leading provider of cyber resilience and data protection solutions for the hybrid cloud, today announced it is extending its Kubernetes protection.\", \"score\": 0.46657884, \"raw_content\": null}]}\u001b[0m\n",
      "\u001b[33minference> \u001b[0m\u001b[33m\u001b[0m\u001b[33mHere\u001b[0m\u001b[33m are\u001b[0m\u001b[33m the\u001b[0m\u001b[33m latest\u001b[0m\u001b[33m news\u001b[0m\u001b[33m and\u001b[0m\u001b[33m updates\u001b[0m\u001b[33m in\u001b[0m\u001b[33m Open\u001b[0m\u001b[33mShift\u001b[0m\u001b[33m:\n",
      "\n",
      "\u001b[0m\u001b[33m*\u001b[0m\u001b[33m Red\u001b[0m\u001b[33m Hat\u001b[0m\u001b[33m has\u001b[0m\u001b[33m announced\u001b[0m\u001b[33m the\u001b[0m\u001b[33m general\u001b[0m\u001b[33m availability\u001b[0m\u001b[33m of\u001b[0m\u001b[33m Red\u001b[0m\u001b[33m Hat\u001b[0m\u001b[33m Open\u001b[0m\u001b[33mShift\u001b[0m\u001b[33m \u001b[0m\u001b[33m4\u001b[0m\u001b[33m.\u001b[0m\u001b[33m15\u001b[0m\u001b[33m,\u001b[0m\u001b[33m based\u001b[0m\u001b[33m on\u001b[0m\u001b[33m Kubernetes\u001b[0m\u001b[33m \u001b[0m\u001b[33m1\u001b[0m\u001b[33m.\u001b[0m\u001b[33m28\u001b[0m\u001b[33m.\n",
      "\u001b[0m\u001b[33m*\u001b[0m\u001b[33m Open\u001b[0m\u001b[33mShift\u001b[0m\u001b[33m \u001b[0m\u001b[33m4\u001b[0m\u001b[33m.\u001b[0m\u001b[33m18\u001b[0m\u001b[33m has\u001b[0m\u001b[33m been\u001b[0m\u001b[33m released\u001b[0m\u001b[33m with\u001b[0m\u001b[33m increased\u001b[0m\u001b[33m security\u001b[0m\u001b[33m for\u001b[0m\u001b[33m networking\u001b[0m\u001b[33m,\u001b[0m\u001b[33m secrets\u001b[0m\u001b[33m management\u001b[0m\u001b[33m,\u001b[0m\u001b[33m and\u001b[0m\u001b[33m cluster\u001b[0m\u001b[33m stability\u001b[0m\u001b[33m.\n",
      "\u001b[0m\u001b[33m*\u001b[0m\u001b[33m Red\u001b[0m\u001b[33m Hat\u001b[0m\u001b[33m has\u001b[0m\u001b[33m delivered\u001b[0m\u001b[33m updates\u001b[0m\u001b[33m to\u001b[0m\u001b[33m Open\u001b[0m\u001b[33mShift\u001b[0m\u001b[33m Container\u001b[0m\u001b[33m Platform\u001b[0m\u001b[33m that\u001b[0m\u001b[33m enables\u001b[0m\u001b[33m deployment\u001b[0m\u001b[33m of\u001b[0m\u001b[33m a\u001b[0m\u001b[33m small\u001b[0m\u001b[33m,\u001b[0m\u001b[33m \u001b[0m\u001b[33m3\u001b[0m\u001b[33m-\u001b[0m\u001b[33mNode\u001b[0m\u001b[33m footprint\u001b[0m\u001b[33m.\n",
      "\u001b[0m\u001b[33m*\u001b[0m\u001b[33m Comm\u001b[0m\u001b[33mvault\u001b[0m\u001b[33m is\u001b[0m\u001b[33m extending\u001b[0m\u001b[33m its\u001b[0m\u001b[33m support\u001b[0m\u001b[33m to\u001b[0m\u001b[33m Red\u001b[0m\u001b[33m Hat\u001b[0m\u001b[33m Open\u001b[0m\u001b[33mShift\u001b[0m\u001b[33m virtual\u001b[0m\u001b[33mization\u001b[0m\u001b[33m work\u001b[0m\u001b[33mloads\u001b[0m\u001b[33m.\n",
      "\n",
      "\u001b[0m\u001b[33mYou\u001b[0m\u001b[33m can\u001b[0m\u001b[33m find\u001b[0m\u001b[33m more\u001b[0m\u001b[33m information\u001b[0m\u001b[33m on\u001b[0m\u001b[33m these\u001b[0m\u001b[33m updates\u001b[0m\u001b[33m and\u001b[0m\u001b[33m others\u001b[0m\u001b[33m by\u001b[0m\u001b[33m visiting\u001b[0m\u001b[33m the\u001b[0m\u001b[33m provided\u001b[0m\u001b[33m links\u001b[0m\u001b[33m.\u001b[0m\u001b[97m\u001b[0m\n",
      "\u001b[30m\u001b[0m"
     ]
    }
   ],
   "source": [
    "user_prompts = [\n",
    "    \"What’s latest in OpenShift?\",\n",
    "]\n",
    "for prompt in user_prompts:\n",
    "    print(\"\\n\"+\"=\"*50)\n",
    "    cprint(f\"Processing user query: {prompt}\", \"blue\")\n",
    "    print(\"=\"*50)\n",
    "    session_id = agent.create_session(\"web-session\")\n",
    "    response = agent.create_turn(\n",
    "        messages=[\n",
    "            {\n",
    "                \"role\": \"user\",\n",
    "                \"content\": prompt,\n",
    "            }\n",
    "        ],\n",
    "        session_id=session_id,\n",
    "        stream=stream\n",
    "    )\n",
    "    if stream:\n",
    "        for log in EventLogger().log(response):\n",
    "            log.print()\n",
    "    else:\n",
    "        step_printer(response.steps) # print the steps of an agent's response in a formatted way. "
   ]
  },
  {
   "cell_type": "markdown",
   "metadata": {},
   "source": [
    "## Output Analysis\n",
    "Here, we can observe that the `builtin::websearch` tool is used to perform a web search. Note that the \"type\" of the tool is still reported \"brave_search\" since Llama models have been trained with brave search as a builtin tool. Tavily is just being used in lieu of Brave search.\n",
    "\n",
    "Great! \n",
    "\n",
    "We can see that the model returned relevant and up-to-date information about OpenShift. This is particularly impressive given that the model that we are using here was released in September 2024 and has a knowledge cutoff of December 2023. These results were only possible due to its ability to call tools like web search, demonstrating the agent's capacity to retrieve real-time data effectively."
   ]
  },
  {
   "cell_type": "markdown",
   "metadata": {},
   "source": [
    "## Key Takeaways\n",
    "\n",
    "- We've demonstrated how to set up Llama Stack agents and extended them with builtin tools (like web search) that come prepackaged with Llama Stack.\n",
    "- We've shown that this simple approach can provide significantly increased functionality of existing open source LLM's. \n",
    "- This will serves as a foundational example for the more advanced examples to come involving Agentic RAG, External Tools, and complex agentic patterns.\n",
    "\n",
    "Continue to the [next notebook](./Level3_advanced_agent_with_Prompt_Chaining_and_ReAct.ipynb) to learn how we can upgrade our agents to solve even more complex and multi-step tasks using advanced agentic patterns. \n"
   ]
  },
  {
   "cell_type": "code",
   "execution_count": null,
   "metadata": {},
   "outputs": [],
   "source": []
  }
 ],
 "metadata": {
  "kernelspec": {
   "display_name": "Python 3.11",
   "language": "python",
   "name": "python3"
  },
  "language_info": {
   "codemirror_mode": {
    "name": "ipython",
    "version": 3
   },
   "file_extension": ".py",
   "mimetype": "text/x-python",
   "name": "python",
   "nbconvert_exporter": "python",
   "pygments_lexer": "ipython3",
   "version": "3.11.11"
  }
 },
 "nbformat": 4,
 "nbformat_minor": 4
}
