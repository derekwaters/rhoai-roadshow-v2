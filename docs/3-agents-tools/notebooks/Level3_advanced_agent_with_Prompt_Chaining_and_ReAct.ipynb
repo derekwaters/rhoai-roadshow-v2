{
 "cells": [
  {
   "cell_type": "markdown",
   "metadata": {},
   "source": [
    "# Level 3: Advanced Agent Capabilities with Prompt Chaining and ReAct Agent\n",
    "\n",
    "Building on the simple agent introduced in [Level 1](Level1_simple_agent_with_websearch.ipynb), this tutorial continues the agent-focused section of our series by introducing techniques that make the agent smarter and more autonomous: **Prompt Chaining** and the **ReAct (Reasoning + Acting) framework**. These approaches allow the agent to complete multi-step tasks, dynamically choose tools, and adjust its behavior based on context.\n",
    "\n",
    "- **Prompt Chaining** connects multiple prompts into a coherent sequence, allowing the agent to maintain context and perform multi-step reasoning across tool invocations. \n",
    "- **ReAct Agent** combines reasoning and acting steps in a loop, enabling the agent to make decisions, use tools dynamically, and adapt based on intermediate results. \n",
    "\n",
    "## Overview\n",
    "\n",
    "In this notebook, you'll explore three agent configurations:\n",
    "1. **Simple Agent (Baseline)** – Uses a single web search tool.\n",
    "2. **Prompt Chaining** – Performs structured, multi-step reasoning by chaining prompts and responses.\n",
    "3. **ReAct Agent** – Dynamically plans and executes actions using a loop of reasoning and tool use.\n",
    "\n",
    "\n",
    "## Prerequisites\n",
    "\n",
    "Before starting this notebook, ensure that you have:\n",
    "- Followed the instructions in the [Setup Guide](./Level1_getting_started_with_Llama_Stack.ipynb) notebook. \n",
    "- A Tavily API key. It is critical for this notebook to run correctly. You can register for one at [https://tavily.com/](https://tavily.com/).\n",
    "\n",
    "Add your TAVILY_SEARCH_API_KEY=\"tvly-dev-your-key\" to the `env.example` file."
   ]
  },
  {
   "cell_type": "markdown",
   "metadata": {},
   "source": [
    "## 1. Setting Up this Notebook\n",
    "We will start with a few imports needed for this demo only."
   ]
  },
  {
   "cell_type": "code",
   "execution_count": 1,
   "metadata": {},
   "outputs": [],
   "source": [
    "from llama_stack_client import Agent\n",
    "from llama_stack_client.lib.agents.event_logger import EventLogger\n",
    "from llama_stack_client.lib.agents.react.agent import ReActAgent\n",
    "from llama_stack_client.lib.agents.react.tool_parser import ReActOutput\n",
    "import sys\n",
    "sys.path.append('.') \n",
    "from src.client_tools import get_location"
   ]
  },
  {
   "cell_type": "markdown",
   "metadata": {},
   "source": [
    "Next, we will initialize our environment as described in detail in our [\"Getting Started\" notebook](./Level1_getting_started_with_Llama_Stack.ipynb). Please refer to it for additional explanations."
   ]
  },
  {
   "cell_type": "code",
   "execution_count": 2,
   "metadata": {},
   "outputs": [
    {
     "name": "stdout",
     "output_type": "stream",
     "text": [
      "Connected to Llama Stack server\n",
      "Inference Parameters:\n",
      "\tModel: llama3-2-3b\n",
      "\tSampling Parameters: {'strategy': {'type': 'greedy'}, 'max_tokens': 5000}\n",
      "\tstream: True\n"
     ]
    }
   ],
   "source": [
    "# for accessing the environment variables\n",
    "import os\n",
    "from dotenv import load_dotenv\n",
    "load_dotenv(override=True)\n",
    "\n",
    "# for communication with Llama Stack\n",
    "from llama_stack_client import LlamaStackClient\n",
    "\n",
    "# pretty print of the results returned from the model/agent\n",
    "import sys\n",
    "sys.path.append('.')  \n",
    "from src.utils import step_printer\n",
    "from termcolor import cprint\n",
    "\n",
    "base_url = os.getenv(\"REMOTE_BASE_URL\")\n",
    "\n",
    "\n",
    "# Tavily search API key is required for some of our demos and must be provided to the client upon initialization.\n",
    "# We will cover it in the agentic demos that use the respective tool. Please ignore this parameter for all other demos.\n",
    "tavily_search_api_key = os.getenv(\"TAVILY_SEARCH_API_KEY\")\n",
    "if len(tavily_search_api_key) != 41:\n",
    "    raise ValueError(\"Sorry your Tavily Search key seems invalid?\")\n",
    "else:\n",
    "    provider_data = {\"tavily_search_api_key\": tavily_search_api_key}\n",
    "\n",
    "\n",
    "client = LlamaStackClient(\n",
    "    base_url=base_url,\n",
    "    provider_data=provider_data\n",
    ")\n",
    "    \n",
    "print(f\"Connected to Llama Stack server\")\n",
    "\n",
    "# model_id for the model you wish to use that is configured with the Llama Stack server\n",
    "model_id = \"llama3-2-3b\" # \"deepseek-r1-0528-qwen3-8b-bnb-4bit\"\n",
    "\n",
    "temperature = float(os.getenv(\"TEMPERATURE\", 0.0))\n",
    "if temperature > 0.0:\n",
    "    top_p = float(os.getenv(\"TOP_P\", 0.95))\n",
    "    strategy = {\"type\": \"top_p\", \"temperature\": temperature, \"top_p\": top_p}\n",
    "else:\n",
    "    strategy = {\"type\": \"greedy\"}\n",
    "\n",
    "max_tokens = 5000\n",
    "\n",
    "# sampling_params will later be used to pass the parameters to Llama Stack Agents/Inference APIs\n",
    "sampling_params = {\n",
    "    \"strategy\": strategy,\n",
    "    \"max_tokens\": max_tokens,\n",
    "}\n",
    "\n",
    "stream = \"True\"\n",
    "\n",
    "print(f\"Inference Parameters:\\n\\tModel: {model_id}\\n\\tSampling Parameters: {sampling_params}\\n\\tstream: {stream}\")"
   ]
  },
  {
   "cell_type": "markdown",
   "metadata": {},
   "source": [
    "## 2. Simple Agent (Baseline)\n",
    "Same agent setup as [Level 2 notebook](Level2_simple_agent_with_websearch.ipynb). "
   ]
  },
  {
   "cell_type": "code",
   "execution_count": 3,
   "metadata": {},
   "outputs": [
    {
     "name": "stdout",
     "output_type": "stream",
     "text": [
      "\n",
      "==================================================\n",
      "\u001b[34mProcessing user query: Are there any immediate weather-related risks in my area that could disrupt network connectivity or system availability?\u001b[0m\n",
      "==================================================\n",
      "\u001b[33minference> \u001b[0m\u001b[97m\u001b[0m\n",
      "\u001b[32mtool_execution> Tool:brave_search Args:{'query': 'weather-related risks in my area'}\u001b[0m\n",
      "\u001b[32mtool_execution> Tool:brave_search Response:{\"query\": \"weather-related risks in my area\", \"top_k\": [{\"title\": \"Weather in my area\", \"url\": \"https://www.weatherapi.com/\", \"content\": \"{'location': {'name': 'Brighton Area', 'region': 'Sarawak', 'country': 'Malaysia', 'lat': 4.3833, 'lon': 113.9667, 'tz_id': 'Asia/Kuching', 'localtime_epoch': 1750484728, 'localtime': '2025-06-21 13:45'}, 'current': {'last_updated_epoch': 1750484700, 'last_updated': '2025-06-21 13:45', 'temp_c': 29.1, 'temp_f': 84.4, 'is_day': 1, 'condition': {'text': 'Partly cloudy', 'icon': '//cdn.weatherapi.com/weather/64x64/day/116.png', 'code': 1003}, 'wind_mph': 9.4, 'wind_kph': 15.1, 'wind_degree': 249, 'wind_dir': 'WSW', 'pressure_mb': 1009.0, 'pressure_in': 29.8, 'precip_mm': 0.0, 'precip_in': 0.0, 'humidity': 79, 'cloud': 50, 'feelslike_c': 31.9, 'feelslike_f': 89.4, 'windchill_c': 29.8, 'windchill_f': 85.7, 'heatindex_c': 33.2, 'heatindex_f': 91.8, 'dewpoint_c': 22.0, 'dewpoint_f': 71.6, 'vis_km': 10.0, 'vis_miles': 6.0, 'uv': 11.9, 'gust_mph': 11.3, 'gust_kph': 18.2}}\", \"score\": 0.9320246, \"raw_content\": null}, {\"title\": \"Day 3-7 U.S. Hazards Outlook - Weather Prediction Center\", \"url\": \"https://www.wpc.ncep.noaa.gov/threats/threats.php\", \"content\": \"Day 3-7 U.S. Hazards Outlook U.S. Day 3-7 Hazards Outlook On or about June 24, 2025, WPC will implement modifications to improve the readability of the static map image. For the most up to date information on the flooding areas, please refer to the National Flood Outlook Static Hazards Map ImageCPC's Day 8-14 US Hazards Outlook For more information about hazards affecting the Continental U.S., please see the Weather/Hazards Highlights section of our Extended Forecast Discussion. For more information about hazards affecting Alaska, please see the Weather/Hazards Highlights section of our Alaska Extended Forecast Discussion. For information about hazards affecting Hawaii, please read our Hawaiian Forecast Discussion. Image 16: Weather Safety for All Hazards NWS Regional and Forecast Offices WPC Product Archives Weather Ready Nation\", \"score\": 0.5515985, \"raw_content\": null}, {\"title\": \"For 3-7 day hazards see Weather Prediction Center's:\", \"url\": \"https://www.cpc.ncep.noaa.gov/products/predictions/threats/threats.php\", \"content\": \"Probabilistic Hazards Outlook Remnants of hurricane Erick and surface low pressure and fronts extending from the Four Corners region to the Great Lakes may bring localized heavy precipitation to parts of the Four Corners and Upper Midwest at the beginning of the period. *   Moderate risk of extreme heat for parts of the Great Lakes, Ohio Valley, Northeast, Mid-Atlantic, and South Carolina, Thu-Fri, Jun 26-27. A moderate risk of extreme heat is posted for parts of the Great Lakes, Ohio Valley, Northeast, Mid-Atlantic, and South Carolina, Jun 26 to 27, where the Probabilistic Extremes Tools (PETs) show at least a 40% chance of maximum temperatures exceeding the 85th climatological percentile, climatologically.\", \"score\": 0.30019185, \"raw_content\": null}, {\"title\": \"U.S. Hazards Outlooks - Maps - NOAA Climate.gov\", \"url\": \"https://www.climate.gov/maps-data/dataset/us-hazards-outlooks-maps\", \"content\": \"U.S. Hazards Outlooks - Maps | NOAA Climate.gov Climate And ... Maps & Data All Maps & Data Climate Data Primer Maps & Data Climate Data Primer U.S. Hazards Outlooks - Maps Monday through Friday of each week, NOAA's Climate Prediction Center issues an outlook of weather- and climate-related hazards to the United States for the next eight to fourteen days. Climate Prediction Center (CPC) meteorologists and oceanographers review climate and weather observations and data along with model results. Climate Prediction Center (CPC) meteorologists and oceanographers review climate and weather observations and data along with model results; assess their meaning, significance, and current status; and likely future climate impacts. Maps & Data Maps & Data Maps and Data Home Climate Data Primer\", \"score\": 0.18741544, \"raw_content\": null}, {\"title\": \"Current Weather Watches, Advisories, and Active Warnings\", \"url\": \"https://www.iweathernet.com/advisories\", \"content\": \"Interactive map showing weather watches, warnings, and weather advisories issued by the National Weather Service, including a national radar overlay with animation option.\", \"score\": 0.11188995, \"raw_content\": null}]}\u001b[0m\n",
      "\u001b[33minference> \u001b[0m\u001b[33mBased\u001b[0m\u001b[33m on\u001b[0m\u001b[33m the\u001b[0m\u001b[33m search\u001b[0m\u001b[33m results\u001b[0m\u001b[33m,\u001b[0m\u001b[33m it\u001b[0m\u001b[33m appears\u001b[0m\u001b[33m that\u001b[0m\u001b[33m there\u001b[0m\u001b[33m are\u001b[0m\u001b[33m no\u001b[0m\u001b[33m immediate\u001b[0m\u001b[33m weather\u001b[0m\u001b[33m-related\u001b[0m\u001b[33m risks\u001b[0m\u001b[33m in\u001b[0m\u001b[33m your\u001b[0m\u001b[33m area\u001b[0m\u001b[33m that\u001b[0m\u001b[33m could\u001b[0m\u001b[33m disrupt\u001b[0m\u001b[33m network\u001b[0m\u001b[33m connectivity\u001b[0m\u001b[33m or\u001b[0m\u001b[33m system\u001b[0m\u001b[33m availability\u001b[0m\u001b[33m.\u001b[0m\u001b[33m However\u001b[0m\u001b[33m,\u001b[0m\u001b[33m it\u001b[0m\u001b[33m's\u001b[0m\u001b[33m always\u001b[0m\u001b[33m a\u001b[0m\u001b[33m good\u001b[0m\u001b[33m idea\u001b[0m\u001b[33m to\u001b[0m\u001b[33m check\u001b[0m\u001b[33m the\u001b[0m\u001b[33m current\u001b[0m\u001b[33m weather\u001b[0m\u001b[33m conditions\u001b[0m\u001b[33m and\u001b[0m\u001b[33m forecasts\u001b[0m\u001b[33m to\u001b[0m\u001b[33m ensure\u001b[0m\u001b[33m that\u001b[0m\u001b[33m you\u001b[0m\u001b[33m're\u001b[0m\u001b[33m prepared\u001b[0m\u001b[33m for\u001b[0m\u001b[33m any\u001b[0m\u001b[33m potential\u001b[0m\u001b[33m weather\u001b[0m\u001b[33m-related\u001b[0m\u001b[33m issues\u001b[0m\u001b[33m.\n",
      "\n",
      "\u001b[0m\u001b[33mThe\u001b[0m\u001b[33m first\u001b[0m\u001b[33m result\u001b[0m\u001b[33m from\u001b[0m\u001b[33m the\u001b[0m\u001b[33m Weather\u001b[0m\u001b[33m API\u001b[0m\u001b[33m provides\u001b[0m\u001b[33m the\u001b[0m\u001b[33m current\u001b[0m\u001b[33m weather\u001b[0m\u001b[33m conditions\u001b[0m\u001b[33m for\u001b[0m\u001b[33m your\u001b[0m\u001b[33m area\u001b[0m\u001b[33m,\u001b[0m\u001b[33m including\u001b[0m\u001b[33m temperature\u001b[0m\u001b[33m,\u001b[0m\u001b[33m humidity\u001b[0m\u001b[33m,\u001b[0m\u001b[33m wind\u001b[0m\u001b[33m speed\u001b[0m\u001b[33m,\u001b[0m\u001b[33m and\u001b[0m\u001b[33m precipitation\u001b[0m\u001b[33m.\u001b[0m\u001b[33m The\u001b[0m\u001b[33m second\u001b[0m\u001b[33m result\u001b[0m\u001b[33m from\u001b[0m\u001b[33m the\u001b[0m\u001b[33m Weather\u001b[0m\u001b[33m Prediction\u001b[0m\u001b[33m Center\u001b[0m\u001b[33m provides\u001b[0m\u001b[33m a\u001b[0m\u001b[33m \u001b[0m\u001b[33m3\u001b[0m\u001b[33m-\u001b[0m\u001b[33m7\u001b[0m\u001b[33m day\u001b[0m\u001b[33m hazards\u001b[0m\u001b[33m outlook\u001b[0m\u001b[33m,\u001b[0m\u001b[33m which\u001b[0m\u001b[33m includes\u001b[0m\u001b[33m information\u001b[0m\u001b[33m on\u001b[0m\u001b[33m potential\u001b[0m\u001b[33m weather\u001b[0m\u001b[33m hazards\u001b[0m\u001b[33m such\u001b[0m\u001b[33m as\u001b[0m\u001b[33m heavy\u001b[0m\u001b[33m precipitation\u001b[0m\u001b[33m,\u001b[0m\u001b[33m extreme\u001b[0m\u001b[33m heat\u001b[0m\u001b[33m,\u001b[0m\u001b[33m and\u001b[0m\u001b[33m flooding\u001b[0m\u001b[33m.\n",
      "\n",
      "\u001b[0m\u001b[33mThe\u001b[0m\u001b[33m third\u001b[0m\u001b[33m result\u001b[0m\u001b[33m from\u001b[0m\u001b[33m the\u001b[0m\u001b[33m CPC\u001b[0m\u001b[33m's\u001b[0m\u001b[33m Day\u001b[0m\u001b[33m \u001b[0m\u001b[33m8\u001b[0m\u001b[33m-\u001b[0m\u001b[33m14\u001b[0m\u001b[33m US\u001b[0m\u001b[33m Haz\u001b[0m\u001b[33mards\u001b[0m\u001b[33m Outlook\u001b[0m\u001b[33m provides\u001b[0m\u001b[33m information\u001b[0m\u001b[33m on\u001b[0m\u001b[33m potential\u001b[0m\u001b[33m weather\u001b[0m\u001b[33m hazards\u001b[0m\u001b[33m for\u001b[0m\u001b[33m the\u001b[0m\u001b[33m next\u001b[0m\u001b[33m \u001b[0m\u001b[33m8\u001b[0m\u001b[33m-\u001b[0m\u001b[33m14\u001b[0m\u001b[33m days\u001b[0m\u001b[33m,\u001b[0m\u001b[33m including\u001b[0m\u001b[33m a\u001b[0m\u001b[33m moderate\u001b[0m\u001b[33m risk\u001b[0m\u001b[33m of\u001b[0m\u001b[33m extreme\u001b[0m\u001b[33m heat\u001b[0m\u001b[33m for\u001b[0m\u001b[33m parts\u001b[0m\u001b[33m of\u001b[0m\u001b[33m the\u001b[0m\u001b[33m Great\u001b[0m\u001b[33m Lakes\u001b[0m\u001b[33m,\u001b[0m\u001b[33m Ohio\u001b[0m\u001b[33m Valley\u001b[0m\u001b[33m,\u001b[0m\u001b[33m Northeast\u001b[0m\u001b[33m,\u001b[0m\u001b[33m Mid\u001b[0m\u001b[33m-\u001b[0m\u001b[33mAtlantic\u001b[0m\u001b[33m,\u001b[0m\u001b[33m and\u001b[0m\u001b[33m South\u001b[0m\u001b[33m Carolina\u001b[0m\u001b[33m.\n",
      "\n",
      "\u001b[0m\u001b[33mThe\u001b[0m\u001b[33m fourth\u001b[0m\u001b[33m result\u001b[0m\u001b[33m from\u001b[0m\u001b[33m the\u001b[0m\u001b[33m NOAA\u001b[0m\u001b[33m Climate\u001b[0m\u001b[33m.gov\u001b[0m\u001b[33m website\u001b[0m\u001b[33m provides\u001b[0m\u001b[33m maps\u001b[0m\u001b[33m and\u001b[0m\u001b[33m data\u001b[0m\u001b[33m on\u001b[0m\u001b[33m U\u001b[0m\u001b[33m.S\u001b[0m\u001b[33m.\u001b[0m\u001b[33m hazards\u001b[0m\u001b[33m outlook\u001b[0m\u001b[33ms\u001b[0m\u001b[33m,\u001b[0m\u001b[33m which\u001b[0m\u001b[33m can\u001b[0m\u001b[33m help\u001b[0m\u001b[33m you\u001b[0m\u001b[33m stay\u001b[0m\u001b[33m informed\u001b[0m\u001b[33m about\u001b[0m\u001b[33m potential\u001b[0m\u001b[33m weather\u001b[0m\u001b[33m-related\u001b[0m\u001b[33m hazards\u001b[0m\u001b[33m.\n",
      "\n",
      "\u001b[0m\u001b[33mThe\u001b[0m\u001b[33m fifth\u001b[0m\u001b[33m result\u001b[0m\u001b[33m from\u001b[0m\u001b[33m the\u001b[0m\u001b[33m i\u001b[0m\u001b[33mWe\u001b[0m\u001b[33mather\u001b[0m\u001b[33mNetwork\u001b[0m\u001b[33m website\u001b[0m\u001b[33m provides\u001b[0m\u001b[33m an\u001b[0m\u001b[33m interactive\u001b[0m\u001b[33m map\u001b[0m\u001b[33m showing\u001b[0m\u001b[33m weather\u001b[0m\u001b[33m watches\u001b[0m\u001b[33m,\u001b[0m\u001b[33m warnings\u001b[0m\u001b[33m,\u001b[0m\u001b[33m and\u001b[0m\u001b[33m active\u001b[0m\u001b[33m warnings\u001b[0m\u001b[33m issued\u001b[0m\u001b[33m by\u001b[0m\u001b[33m the\u001b[0m\u001b[33m National\u001b[0m\u001b[33m Weather\u001b[0m\u001b[33m Service\u001b[0m\u001b[33m,\u001b[0m\u001b[33m including\u001b[0m\u001b[33m a\u001b[0m\u001b[33m national\u001b[0m\u001b[33m radar\u001b[0m\u001b[33m overlay\u001b[0m\u001b[33m with\u001b[0m\u001b[33m animation\u001b[0m\u001b[33m option\u001b[0m\u001b[33m.\n",
      "\n",
      "\u001b[0m\u001b[33mOverall\u001b[0m\u001b[33m,\u001b[0m\u001b[33m it\u001b[0m\u001b[33m's\u001b[0m\u001b[33m always\u001b[0m\u001b[33m a\u001b[0m\u001b[33m good\u001b[0m\u001b[33m idea\u001b[0m\u001b[33m to\u001b[0m\u001b[33m stay\u001b[0m\u001b[33m informed\u001b[0m\u001b[33m about\u001b[0m\u001b[33m the\u001b[0m\u001b[33m weather\u001b[0m\u001b[33m in\u001b[0m\u001b[33m your\u001b[0m\u001b[33m area\u001b[0m\u001b[33m and\u001b[0m\u001b[33m to\u001b[0m\u001b[33m take\u001b[0m\u001b[33m necessary\u001b[0m\u001b[33m precautions\u001b[0m\u001b[33m to\u001b[0m\u001b[33m ensure\u001b[0m\u001b[33m your\u001b[0m\u001b[33m safety\u001b[0m\u001b[33m and\u001b[0m\u001b[33m the\u001b[0m\u001b[33m safety\u001b[0m\u001b[33m of\u001b[0m\u001b[33m your\u001b[0m\u001b[33m systems\u001b[0m\u001b[33m.\u001b[0m\u001b[97m\u001b[0m\n",
      "\u001b[30m\u001b[0m"
     ]
    }
   ],
   "source": [
    "agent = Agent(\n",
    "    client, \n",
    "    model=model_id,\n",
    "    instructions=\"\"\"You are a helpful websearch assistant. When you are asked to search the latest you must use a tool. \n",
    "            Whenever a tool is called, be sure return the response in a friendly and helpful tone.\n",
    "            \"\"\" ,\n",
    "    tools=[\"builtin::websearch\"],\n",
    "    sampling_params=sampling_params\n",
    ")\n",
    "user_prompts = [\n",
    "    \"Are there any immediate weather-related risks in my area that could disrupt network connectivity or system availability?\",\n",
    "]\n",
    "for prompt in user_prompts:\n",
    "    print(\"\\n\"+\"=\"*50)\n",
    "    cprint(f\"Processing user query: {prompt}\", \"blue\")\n",
    "    print(\"=\"*50)\n",
    "    session_id = agent.create_session(\"web-session\")\n",
    "    response = agent.create_turn(\n",
    "        messages=[\n",
    "            {\n",
    "                \"role\": \"user\",\n",
    "                \"content\": prompt,\n",
    "            }\n",
    "        ],\n",
    "        session_id=session_id,\n",
    "        stream=stream\n",
    "    )\n",
    "    if stream:\n",
    "        for log in EventLogger().log(response):\n",
    "            log.print()\n",
    "    else:\n",
    "        step_printer(response.steps) # print the steps of an agent's response in a formatted way. "
   ]
  },
  {
   "cell_type": "markdown",
   "metadata": {},
   "source": [
    "### Output Analysis\n",
    "\n",
    "In this example, since the agent is unaware of the users location, it hallucinates one and generates an incorrect search query. This misidentification leads to inaccurate information about potential weather-related risks.\n",
    "\n",
    "This is where Prompt Chaining comes in. Prompt chaining allows the agent to:\n",
    "1. Maintain context across multiple queries\n",
    "2. Chain multiple tools together\n",
    "3. Use previous interactions to inform current decisions\n",
    "\n",
    "Let’s see how prompt chaining can improve the accuracy of the response."
   ]
  },
  {
   "cell_type": "markdown",
   "metadata": {},
   "source": [
    "## 3. Prompt chaining with websearch tool and client tool\n",
    "\n",
    "In this section, we demonstrate a more sophisticated use case that combines the use of two tools: location detection and web search.\n",
    "\n",
    "1. **Automatic Location Detection**: Use the `get_location` client tool (have a look in the src folder `client_tools.py`) to automatically determine the user's current location.\n",
    "2. **Contextual Search**: Leverage the detected location to formulate the correct websearch query.\n",
    "\n",
    "For example, when a user asks \"Are there any weather-related risks in my area that could disrupt network connectivity or system availability?\", the agent will:\n",
    "- First detect the user's current location using `get_location`.\n",
    "- Then use that location to search for nearby weather-related risks.\n",
    "- Finally, present a comprehensive response.\n",
    "\n",
    "This demonstrates how the builtin websearch tool and custom client tools can work together to provide intelligent, context-aware responses without requiring explicit location input from the user."
   ]
  },
  {
   "cell_type": "code",
   "execution_count": 4,
   "metadata": {},
   "outputs": [
    {
     "name": "stdout",
     "output_type": "stream",
     "text": [
      "\n",
      "==================================================\n",
      "\u001b[34mProcessing user query: Where am I?\u001b[0m\n",
      "==================================================\n",
      "\u001b[33minference> \u001b[0m\u001b[97m\u001b[0m\n",
      "\u001b[30m\u001b[0m\u001b[32mtool_execution> Tool:get_location Args:{'query': 'location'}\u001b[0m\n",
      "\u001b[32mtool_execution> Tool:get_location Response:\"Your current location is: Columbus, Ohio, US\"\u001b[0m\n",
      "\u001b[33minference> \u001b[0m\u001b[97m\u001b[0m\n",
      "\u001b[32mtool_execution> Tool:get_location Args:{'query': 'location'}\u001b[0m\n",
      "\u001b[32mtool_execution> Tool:get_location Response:\"Your current location is: Columbus, Ohio, US\"\u001b[0m\n",
      "\u001b[33minference> \u001b[0m\u001b[97m\u001b[0m\n",
      "\u001b[32mtool_execution> Tool:brave_search Args:{'query': 'latest news'}\u001b[0m\n",
      "\u001b[32mtool_execution> Tool:brave_search Response:{\"query\": \"latest news\", \"top_k\": [{\"title\": \"Breaking News, Latest News and Videos | CNN\", \"url\": \"https://www.cnn.com/\", \"content\": \"View the latest news and breaking news today for U.S., world, weather, entertainment, politics and health at CNN.com.\", \"score\": 0.522617, \"raw_content\": null}, {\"title\": \"Fox News - Breaking News Updates | Latest News Headlines | Photos ...\", \"url\": \"https://www.foxnews.com/\", \"content\": \"Breaking News, Latest News and Current News from FOXNews.com. Breaking news and video. Latest Current News: U.S., World, Entertainment, Health, Business, Technology\", \"score\": 0.50944775, \"raw_content\": null}, {\"title\": \"CBS News | Breaking news, top stories & today's latest headlines\", \"url\": \"https://www.cbsnews.com/\", \"content\": \"CBS News offers breaking news coverage of today's top headlines. Stay informed on the biggest new stories with our balanced, trustworthy reporting.\", \"score\": 0.46162403, \"raw_content\": null}, {\"title\": \"NBC News - Breaking News & Top Stories - Latest World, US & Local News\", \"url\": \"https://www.nbcnews.com/\", \"content\": \"Go to NBCNews.com for breaking news, videos, and the latest top stories in world news, business, politics, health and pop culture.\", \"score\": 0.4430467, \"raw_content\": null}, {\"title\": \"Associated Press News: Breaking News, Latest Headlines and Videos | AP News\", \"url\": \"https://apnews.com/\", \"content\": \"Read the latest headlines, breaking news, and videos at APNews.com, the definitive source for independent journalism from every corner of the globe. ... AP today remains the most trusted source of fast, accurate, unbiased news in all formats and the essential provider of the technology and services vital to the news business. More than half the\", \"score\": 0.37476835, \"raw_content\": null}]}\u001b[0m\n",
      "\u001b[33minference> \u001b[0m\u001b[33mHere\u001b[0m\u001b[33m is\u001b[0m\u001b[33m the\u001b[0m\u001b[33m location\u001b[0m\u001b[33m you\u001b[0m\u001b[33m are\u001b[0m\u001b[33m currently\u001b[0m\u001b[33m in\u001b[0m\u001b[33m:\n",
      "\n",
      "\u001b[0m\u001b[33mYour\u001b[0m\u001b[33m current\u001b[0m\u001b[33m location\u001b[0m\u001b[33m is\u001b[0m\u001b[33m:\u001b[0m\u001b[33m Columbus\u001b[0m\u001b[33m,\u001b[0m\u001b[33m Ohio\u001b[0m\u001b[33m,\u001b[0m\u001b[33m US\u001b[0m\u001b[97m\u001b[0m\n",
      "\u001b[30m\u001b[0m\n",
      "==================================================\n",
      "\u001b[34mProcessing user query: Are there any immediate weather-related risks in my area that could disrupt network connectivity or system availability?\u001b[0m\n",
      "==================================================\n",
      "\u001b[33minference> \u001b[0m\u001b[97m\u001b[0m\n",
      "\u001b[32mtool_execution> Tool:brave_search Args:{'query': 'weather risks in Columbus, Ohio, US today'}\u001b[0m\n",
      "\u001b[32mtool_execution> Tool:brave_search Response:{\"query\": \"weather risks in Columbus, Ohio, US today\", \"top_k\": [{\"title\": \"Weather in Columbus, Ohio, US\", \"url\": \"https://www.weatherapi.com/\", \"content\": \"{'location': {'name': 'Columbus', 'region': 'Ohio', 'country': 'United States of America', 'lat': 39.9611, 'lon': -82.9989, 'tz_id': 'America/New_York', 'localtime_epoch': 1750486626, 'localtime': '2025-06-21 02:17'}, 'current': {'last_updated_epoch': 1750486500, 'last_updated': '2025-06-21 02:15', 'temp_c': 22.2, 'temp_f': 72.0, 'is_day': 0, 'condition': {'text': 'Partly Cloudy', 'icon': '//cdn.weatherapi.com/weather/64x64/night/116.png', 'code': 1003}, 'wind_mph': 4.3, 'wind_kph': 6.8, 'wind_degree': 223, 'wind_dir': 'SW', 'pressure_mb': 1019.0, 'pressure_in': 30.08, 'precip_mm': 0.0, 'precip_in': 0.0, 'humidity': 76, 'cloud': 0, 'feelslike_c': 24.6, 'feelslike_f': 76.3, 'windchill_c': 20.4, 'windchill_f': 68.7, 'heatindex_c': 20.5, 'heatindex_f': 68.9, 'dewpoint_c': 18.5, 'dewpoint_f': 65.3, 'vis_km': 16.0, 'vis_miles': 9.0, 'uv': 0.0, 'gust_mph': 8.9, 'gust_kph': 14.4}}\", \"score\": 0.8615874, \"raw_content\": null}, {\"title\": \"Extreme heat possible as heat wave strikes Columbus next week, NWS says\", \"url\": \"https://www.msn.com/en-us/weather/topstories/extreme-heat-possible-as-heat-wave-strikes-columbus-next-week-nws-says/ar-AA1H3vRy\", \"content\": \"Columbus weather forecast starting June 19, 2025. ... June 21: Mostly sunny with a high near 92. There will be a southwest wind of 6 to 10 mph. ... from East Columbus play together in the Scioto\", \"score\": 0.77650476, \"raw_content\": null}, {\"title\": \"Columbus Weather: Heat index to reach triple digits over the weekend\", \"url\": \"https://abc6onyourside.com/news/local/columbus-weather-heat-index-hits-triple-digits-early-next-week-hot-temps-temperature-central-ohio-forecast-heat-wave\", \"content\": \"Sat, 21 Jun 2025 04:06:50 GMT (1750478810688) Story Infinite Scroll - News3 v1.0.0 (common) ... Columbus Weather: Heat index to reach triple digits over the weekend ... COLUMBUS, Ohio (WSYX)\", \"score\": 0.70067, \"raw_content\": null}, {\"title\": \"10-Day Weather Forecast for Columbus, OH - The Weather Channel\", \"url\": \"https://weather.com/weather/tenday/l/98a1b03b3e0448fd9d6a1915edec65059921a57daec590ff27a93b662424a098\", \"content\": \"Columbus, OH Weather. 18. Today. Hourly. 10 Day. Radar. Heat. 10 Day Weather-Columbus, OH. As of 11:11 am EDT. There is a possible risk of severe weather today. Today. 86 \\u00b0 / 68 \\u00b0 66%. Wed 18\", \"score\": 0.6219319, \"raw_content\": null}, {\"title\": \"June 21 Weather in Columbus: Detailed Weather Forecast for June 21 in ...\", \"url\": \"https://world-weather.info/forecast/usa/columbus_1/21-june/\", \"content\": \"Weather Forecast for June 21 in Columbus, Ohio - temperature, wind, atmospheric pressure, humidity and precipitations. Detailed hourly weather chart. June 19 June 20 Select date: June 22 June 23\", \"score\": 0.49494705, \"raw_content\": null}]}\u001b[0m\n",
      "\u001b[33minference> \u001b[0m\u001b[33mBased\u001b[0m\u001b[33m on\u001b[0m\u001b[33m the\u001b[0m\u001b[33m search\u001b[0m\u001b[33m results\u001b[0m\u001b[33m,\u001b[0m\u001b[33m there\u001b[0m\u001b[33m are\u001b[0m\u001b[33m no\u001b[0m\u001b[33m immediate\u001b[0m\u001b[33m weather\u001b[0m\u001b[33m-related\u001b[0m\u001b[33m risks\u001b[0m\u001b[33m in\u001b[0m\u001b[33m Columbus\u001b[0m\u001b[33m,\u001b[0m\u001b[33m Ohio\u001b[0m\u001b[33m,\u001b[0m\u001b[33m US\u001b[0m\u001b[33m that\u001b[0m\u001b[33m could\u001b[0m\u001b[33m disrupt\u001b[0m\u001b[33m network\u001b[0m\u001b[33m connectivity\u001b[0m\u001b[33m or\u001b[0m\u001b[33m system\u001b[0m\u001b[33m availability\u001b[0m\u001b[33m.\u001b[0m\u001b[33m The\u001b[0m\u001b[33m current\u001b[0m\u001b[33m weather\u001b[0m\u001b[33m conditions\u001b[0m\u001b[33m are\u001b[0m\u001b[33m partly\u001b[0m\u001b[33m cloudy\u001b[0m\u001b[33m with\u001b[0m\u001b[33m a\u001b[0m\u001b[33m temperature\u001b[0m\u001b[33m of\u001b[0m\u001b[33m \u001b[0m\u001b[33m22\u001b[0m\u001b[33m.\u001b[0m\u001b[33m2\u001b[0m\u001b[33m°C\u001b[0m\u001b[33m (\u001b[0m\u001b[33m72\u001b[0m\u001b[33m.\u001b[0m\u001b[33m0\u001b[0m\u001b[33m°F\u001b[0m\u001b[33m)\u001b[0m\u001b[33m and\u001b[0m\u001b[33m a\u001b[0m\u001b[33m wind\u001b[0m\u001b[33m speed\u001b[0m\u001b[33m of\u001b[0m\u001b[33m \u001b[0m\u001b[33m4\u001b[0m\u001b[33m.\u001b[0m\u001b[33m3\u001b[0m\u001b[33m mph\u001b[0m\u001b[33m (\u001b[0m\u001b[33m6\u001b[0m\u001b[33m.\u001b[0m\u001b[33m8\u001b[0m\u001b[33m km\u001b[0m\u001b[33m/h\u001b[0m\u001b[33m).\u001b[0m\u001b[33m There\u001b[0m\u001b[33m is\u001b[0m\u001b[33m no\u001b[0m\u001b[33m mention\u001b[0m\u001b[33m of\u001b[0m\u001b[33m any\u001b[0m\u001b[33m severe\u001b[0m\u001b[33m weather\u001b[0m\u001b[33m,\u001b[0m\u001b[33m heat\u001b[0m\u001b[33m waves\u001b[0m\u001b[33m,\u001b[0m\u001b[33m or\u001b[0m\u001b[33m extreme\u001b[0m\u001b[33m temperatures\u001b[0m\u001b[33m that\u001b[0m\u001b[33m could\u001b[0m\u001b[33m potentially\u001b[0m\u001b[33m disrupt\u001b[0m\u001b[33m network\u001b[0m\u001b[33m connectivity\u001b[0m\u001b[33m or\u001b[0m\u001b[33m system\u001b[0m\u001b[33m availability\u001b[0m\u001b[33m.\u001b[0m\u001b[97m\u001b[0m\n",
      "\u001b[30m\u001b[0m"
     ]
    }
   ],
   "source": [
    "agent = Agent(\n",
    "    client, \n",
    "    model=model_id,\n",
    "    instructions=\"\"\"You are a helpful assistant. \n",
    "    When a user asks about their location, you MUST use the get_location tool. When you are asked to search the latest news, you MUST use the websearch tool.\n",
    "    \"\"\" ,\n",
    "    tools=[get_location, \"builtin::websearch\"],\n",
    "    sampling_params=sampling_params\n",
    ")\n",
    "user_prompts = [\n",
    "    \"Where am I?\",\n",
    "    \"Are there any immediate weather-related risks in my area that could disrupt network connectivity or system availability?\"\n",
    "]\n",
    "session_id = agent.create_session(\"prompt-chaining-session\")  # for prompt chaining, queries must share the same session_id.\n",
    "for prompt in user_prompts:\n",
    "    print(\"\\n\"+\"=\"*50)\n",
    "    cprint(f\"Processing user query: {prompt}\", \"blue\")\n",
    "    print(\"=\"*50)\n",
    "    response = agent.create_turn(\n",
    "        messages=[\n",
    "            {\n",
    "                \"role\": \"user\",\n",
    "                \"content\": prompt,\n",
    "            }\n",
    "        ],\n",
    "        session_id=session_id,\n",
    "        stream=stream\n",
    "    )\n",
    "\n",
    "    if stream:\n",
    "        for log in EventLogger().log(response):\n",
    "            log.print()\n",
    "    else:\n",
    "        step_printer(response.steps) # print the steps of an agent's response in a formatted way. "
   ]
  },
  {
   "cell_type": "markdown",
   "metadata": {},
   "source": [
    "### ReAct Agent with websearch tool and client tool\n",
    "\n",
    "This section demonstrates the ReAct (Reasoning and Acting) framework in action.\n",
    "\n",
    "Here is a walkthrough of how the ReAct agent will tackle this same \"weather near me\" problem:\n",
    "\n",
    "When asked \"Are there any weather-related risks in my area that could disrupt network connectivity or system availability?\", the agent will:\n",
    "\n",
    "1. **Reason** that it needs to get location information first.\n",
    "2. **Act** by calling the `get_location` client tool.\n",
    "3. **Observe** the location result.\n",
    "4. **Reason** that it now needs to search for weather in that location.\n",
    "5. **Act** by calling the `websearch` tool with observed location.\n",
    "6. **Observe** and processes the search results into a final answer. \n",
    "\n",
    "Unlike prompt chaining which follows fixed steps, ReAct dynamically breaks down tasks and adapts its approach based on the results of each step. This makes it more flexible and capable of handling complex, real-world queries effectively.\n",
    "\n",
    "We are going to switch LLM models here from the LLM llama32-3b model to the more powerful reasoning model deepseek-r1-0528-qwen3-8b-bnb-4bit that is able to more accurately reason about the tools it will use. Resoning models output their \\<thought\\> process first."
   ]
  },
  {
   "cell_type": "code",
   "execution_count": 6,
   "metadata": {},
   "outputs": [
    {
     "name": "stdout",
     "output_type": "stream",
     "text": [
      "\u001b[34mProcessing user query: Are there any immediate weather-related risks in my area that could disrupt network connectivity or system availability?\u001b[0m\n",
      "==================================================\n",
      "\u001b[33minference> \u001b[0m\u001b[33m{\n",
      "\u001b[0m\u001b[33m   \u001b[0m\u001b[33m \"\u001b[0m\u001b[33mthought\u001b[0m\u001b[33m\":\u001b[0m\u001b[33m \"\u001b[0m\u001b[33mI\u001b[0m\u001b[33m need\u001b[0m\u001b[33m to\u001b[0m\u001b[33m determine\u001b[0m\u001b[33m if\u001b[0m\u001b[33m there\u001b[0m\u001b[33m are\u001b[0m\u001b[33m any\u001b[0m\u001b[33m immediate\u001b[0m\u001b[33m weather\u001b[0m\u001b[33m-related\u001b[0m\u001b[33m risks\u001b[0m\u001b[33m in\u001b[0m\u001b[33m the\u001b[0m\u001b[33m user\u001b[0m\u001b[33m's\u001b[0m\u001b[33m area\u001b[0m\u001b[33m.\u001b[0m\u001b[33m However\u001b[0m\u001b[33m,\u001b[0m\u001b[33m I\u001b[0m\u001b[33m don\u001b[0m\u001b[33m't\u001b[0m\u001b[33m have\u001b[0m\u001b[33m the\u001b[0m\u001b[33m user\u001b[0m\u001b[33m's\u001b[0m\u001b[33m location\u001b[0m\u001b[33m.\u001b[0m\u001b[33m I\u001b[0m\u001b[33m can\u001b[0m\u001b[33m use\u001b[0m\u001b[33m the\u001b[0m\u001b[33m get\u001b[0m\u001b[33m_location\u001b[0m\u001b[33m tool\u001b[0m\u001b[33m to\u001b[0m\u001b[33m get\u001b[0m\u001b[33m the\u001b[0m\u001b[33m user\u001b[0m\u001b[33m's\u001b[0m\u001b[33m location\u001b[0m\u001b[33m,\u001b[0m\u001b[33m but\u001b[0m\u001b[33m the\u001b[0m\u001b[33m tool\u001b[0m\u001b[33m description\u001b[0m\u001b[33m says\u001b[0m\u001b[33m '\u001b[0m\u001b[33mProvide\u001b[0m\u001b[33m the\u001b[0m\u001b[33m location\u001b[0m\u001b[33m upon\u001b[0m\u001b[33m request\u001b[0m\u001b[33m.'\u001b[0m\u001b[33m and\u001b[0m\u001b[33m it\u001b[0m\u001b[33m has\u001b[0m\u001b[33m a\u001b[0m\u001b[33m parameter\u001b[0m\u001b[33m '\u001b[0m\u001b[33mquery\u001b[0m\u001b[33m'\u001b[0m\u001b[33m with\u001b[0m\u001b[33m a\u001b[0m\u001b[33m default\u001b[0m\u001b[33m value\u001b[0m\u001b[33m of\u001b[0m\u001b[33m '\u001b[0m\u001b[33mlocation\u001b[0m\u001b[33m'.\u001b[0m\u001b[33m I\u001b[0m\u001b[33m should\u001b[0m\u001b[33m use\u001b[0m\u001b[33m the\u001b[0m\u001b[33m get\u001b[0m\u001b[33m_location\u001b[0m\u001b[33m tool\u001b[0m\u001b[33m to\u001b[0m\u001b[33m get\u001b[0m\u001b[33m the\u001b[0m\u001b[33m location\u001b[0m\u001b[33m first\u001b[0m\u001b[33m,\u001b[0m\u001b[33m then\u001b[0m\u001b[33m use\u001b[0m\u001b[33m that\u001b[0m\u001b[33m information\u001b[0m\u001b[33m to\u001b[0m\u001b[33m check\u001b[0m\u001b[33m for\u001b[0m\u001b[33m weather\u001b[0m\u001b[33m risks\u001b[0m\u001b[33m.\u001b[0m\u001b[33m But\u001b[0m\u001b[33m I\u001b[0m\u001b[33m don\u001b[0m\u001b[33m't\u001b[0m\u001b[33m have\u001b[0m\u001b[33m a\u001b[0m\u001b[33m tool\u001b[0m\u001b[33m to\u001b[0m\u001b[33m check\u001b[0m\u001b[33m weather\u001b[0m\u001b[33m.\u001b[0m\u001b[33m I\u001b[0m\u001b[33m only\u001b[0m\u001b[33m have\u001b[0m\u001b[33m web\u001b[0m\u001b[33m_search\u001b[0m\u001b[33m and\u001b[0m\u001b[33m get\u001b[0m\u001b[33m_location\u001b[0m\u001b[33m.\u001b[0m\u001b[33m I\u001b[0m\u001b[33m can\u001b[0m\u001b[33m use\u001b[0m\u001b[33m web\u001b[0m\u001b[33m_search\u001b[0m\u001b[33m to\u001b[0m\u001b[33m search\u001b[0m\u001b[33m for\u001b[0m\u001b[33m weather\u001b[0m\u001b[33m information\u001b[0m\u001b[33m after\u001b[0m\u001b[33m getting\u001b[0m\u001b[33m the\u001b[0m\u001b[33m location\u001b[0m\u001b[33m.\u001b[0m\u001b[33m However\u001b[0m\u001b[33m,\u001b[0m\u001b[33m the\u001b[0m\u001b[33m task\u001b[0m\u001b[33m is\u001b[0m\u001b[33m to\u001b[0m\u001b[33m check\u001b[0m\u001b[33m for\u001b[0m\u001b[33m weather\u001b[0m\u001b[33m-related\u001b[0m\u001b[33m risks\u001b[0m\u001b[33m that\u001b[0m\u001b[33m could\u001b[0m\u001b[33m disrupt\u001b[0m\u001b[33m network\u001b[0m\u001b[33m connectivity\u001b[0m\u001b[33m or\u001b[0m\u001b[33m system\u001b[0m\u001b[33m availability\u001b[0m\u001b[33m.\u001b[0m\u001b[33m I\u001b[0m\u001b[33m should\u001b[0m\u001b[33m first\u001b[0m\u001b[33m get\u001b[0m\u001b[33m the\u001b[0m\u001b[33m user\u001b[0m\u001b[33m's\u001b[0m\u001b[33m location\u001b[0m\u001b[33m,\u001b[0m\u001b[33m then\u001b[0m\u001b[33m use\u001b[0m\u001b[33m web\u001b[0m\u001b[33m_search\u001b[0m\u001b[33m to\u001b[0m\u001b[33m find\u001b[0m\u001b[33m weather\u001b[0m\u001b[33m information\u001b[0m\u001b[33m for\u001b[0m\u001b[33m that\u001b[0m\u001b[33m location\u001b[0m\u001b[33m.\",\n",
      "\u001b[0m\u001b[33m   \u001b[0m\u001b[33m \"\u001b[0m\u001b[33maction\u001b[0m\u001b[33m\":\u001b[0m\u001b[33m {\n",
      "\u001b[0m\u001b[33m       \u001b[0m\u001b[33m \"\u001b[0m\u001b[33mtool\u001b[0m\u001b[33m_name\u001b[0m\u001b[33m\":\u001b[0m\u001b[33m \"\u001b[0m\u001b[33mget\u001b[0m\u001b[33m_location\u001b[0m\u001b[33m\",\n",
      "\u001b[0m\u001b[33m       \u001b[0m\u001b[33m \"\u001b[0m\u001b[33mtool\u001b[0m\u001b[33m_params\u001b[0m\u001b[33m\":\u001b[0m\u001b[33m [{\"\u001b[0m\u001b[33mname\u001b[0m\u001b[33m\":\u001b[0m\u001b[33m \"\u001b[0m\u001b[33mquery\u001b[0m\u001b[33m\",\u001b[0m\u001b[33m \"\u001b[0m\u001b[33mvalue\u001b[0m\u001b[33m\":\u001b[0m\u001b[33m \"\u001b[0m\u001b[33mlocation\u001b[0m\u001b[33m\"}\u001b[0m\u001b[33m]\n",
      "\u001b[0m\u001b[33m   \u001b[0m\u001b[33m },\n",
      "\u001b[0m\u001b[33m   \u001b[0m\u001b[33m \"\u001b[0m\u001b[33manswer\u001b[0m\u001b[33m\":\u001b[0m\u001b[33m null\u001b[0m\u001b[33m\n",
      "\u001b[0m\u001b[33m}\u001b[0m\u001b[97m\u001b[0m\n",
      "\u001b[30m\u001b[0m\u001b[32mtool_execution> Tool:get_location Response:\"Your current location is: Columbus, Ohio, US\"\u001b[0m\n",
      "\u001b[33minference> \u001b[0m\u001b[33m{\"\u001b[0m\u001b[33mthought\u001b[0m\u001b[33m\":\u001b[0m\u001b[33m \"\u001b[0m\u001b[33mI\u001b[0m\u001b[33m have\u001b[0m\u001b[33m received\u001b[0m\u001b[33m the\u001b[0m\u001b[33m user\u001b[0m\u001b[33m's\u001b[0m\u001b[33m location\u001b[0m\u001b[33m as\u001b[0m\u001b[33m Columbus\u001b[0m\u001b[33m,\u001b[0m\u001b[33m Ohio\u001b[0m\u001b[33m,\u001b[0m\u001b[33m US\u001b[0m\u001b[33m.\u001b[0m\u001b[33m Now\u001b[0m\u001b[33m I\u001b[0m\u001b[33m need\u001b[0m\u001b[33m to\u001b[0m\u001b[33m check\u001b[0m\u001b[33m for\u001b[0m\u001b[33m immediate\u001b[0m\u001b[33m weather\u001b[0m\u001b[33m-related\u001b[0m\u001b[33m risks\u001b[0m\u001b[33m in\u001b[0m\u001b[33m this\u001b[0m\u001b[33m area\u001b[0m\u001b[33m.\u001b[0m\u001b[33m I\u001b[0m\u001b[33m can\u001b[0m\u001b[33m use\u001b[0m\u001b[33m the\u001b[0m\u001b[33m web\u001b[0m\u001b[33m_search\u001b[0m\u001b[33m tool\u001b[0m\u001b[33m to\u001b[0m\u001b[33m search\u001b[0m\u001b[33m for\u001b[0m\u001b[33m weather\u001b[0m\u001b[33m information\u001b[0m\u001b[33m.\u001b[0m\u001b[33m I\u001b[0m\u001b[33m should\u001b[0m\u001b[33m query\u001b[0m\u001b[33m for\u001b[0m\u001b[33m '\u001b[0m\u001b[33mweather\u001b[0m\u001b[33m in\u001b[0m\u001b[33m Columbus\u001b[0m\u001b[33m,\u001b[0m\u001b[33m Ohio\u001b[0m\u001b[33m'\u001b[0m\u001b[33m to\u001b[0m\u001b[33m get\u001b[0m\u001b[33m the\u001b[0m\u001b[33m current\u001b[0m\u001b[33m weather\u001b[0m\u001b[33m conditions\u001b[0m\u001b[33m and\u001b[0m\u001b[33m see\u001b[0m\u001b[33m if\u001b[0m\u001b[33m there\u001b[0m\u001b[33m are\u001b[0m\u001b[33m any\u001b[0m\u001b[33m risks\u001b[0m\u001b[33m.\",\u001b[0m\u001b[33m \"\u001b[0m\u001b[33maction\u001b[0m\u001b[33m\":\u001b[0m\u001b[33m {\"\u001b[0m\u001b[33mtool\u001b[0m\u001b[33m_name\u001b[0m\u001b[33m\":\u001b[0m\u001b[33m \"\u001b[0m\u001b[33mbr\u001b[0m\u001b[33mave\u001b[0m\u001b[33m_search\u001b[0m\u001b[33m\",\u001b[0m\u001b[33m \"\u001b[0m\u001b[33mtool\u001b[0m\u001b[33m_params\u001b[0m\u001b[33m\":\u001b[0m\u001b[33m [{\"\u001b[0m\u001b[33mname\u001b[0m\u001b[33m\":\u001b[0m\u001b[33m \"\u001b[0m\u001b[33mquery\u001b[0m\u001b[33m\",\u001b[0m\u001b[33m \"\u001b[0m\u001b[33mvalue\u001b[0m\u001b[33m\":\u001b[0m\u001b[33m \"\u001b[0m\u001b[33mweather\u001b[0m\u001b[33m in\u001b[0m\u001b[33m Columbus\u001b[0m\u001b[33m,\u001b[0m\u001b[33m Ohio\u001b[0m\u001b[33m\"}\u001b[0m\u001b[33m]},\u001b[0m\u001b[33m \"\u001b[0m\u001b[33manswer\u001b[0m\u001b[33m\":\u001b[0m\u001b[33m null\u001b[0m\u001b[33m}\u001b[0m\u001b[97m\u001b[0m\n",
      "\u001b[32mtool_execution> Tool:brave_search Response:Unknown tool `brave_search` was called.\u001b[0m\n",
      "\u001b[33minference> \u001b[0m\u001b[33m{\"\u001b[0m\u001b[33mthought\u001b[0m\u001b[33m\":\u001b[0m\u001b[33m \"\u001b[0m\u001b[33mI\u001b[0m\u001b[33m apologize\u001b[0m\u001b[33m,\u001b[0m\u001b[33m but\u001b[0m\u001b[33m it\u001b[0m\u001b[33m seems\u001b[0m\u001b[33m that\u001b[0m\u001b[33m the\u001b[0m\u001b[33m tool\u001b[0m\u001b[33m '\u001b[0m\u001b[33mbr\u001b[0m\u001b[33mave\u001b[0m\u001b[33m_search\u001b[0m\u001b[33m'\u001b[0m\u001b[33m is\u001b[0m\u001b[33m not\u001b[0m\u001b[33m available\u001b[0m\u001b[33m.\u001b[0m\u001b[33m Looking\u001b[0m\u001b[33m back\u001b[0m\u001b[33m at\u001b[0m\u001b[33m the\u001b[0m\u001b[33m tools\u001b[0m\u001b[33m I\u001b[0m\u001b[33m have\u001b[0m\u001b[33m,\u001b[0m\u001b[33m I\u001b[0m\u001b[33m only\u001b[0m\u001b[33m have\u001b[0m\u001b[33m '\u001b[0m\u001b[33mweb\u001b[0m\u001b[33m_search\u001b[0m\u001b[33m'\u001b[0m\u001b[33m and\u001b[0m\u001b[33m '\u001b[0m\u001b[33mget\u001b[0m\u001b[33m_location\u001b[0m\u001b[33m'.\u001b[0m\u001b[33m The\u001b[0m\u001b[33m tool\u001b[0m\u001b[33m I\u001b[0m\u001b[33m called\u001b[0m\u001b[33m is\u001b[0m\u001b[33m not\u001b[0m\u001b[33m defined\u001b[0m\u001b[33m.\u001b[0m\u001b[33m I\u001b[0m\u001b[33m should\u001b[0m\u001b[33m use\u001b[0m\u001b[33m the\u001b[0m\u001b[33m available\u001b[0m\u001b[33m tools\u001b[0m\u001b[33m.\u001b[0m\u001b[33m I\u001b[0m\u001b[33m can\u001b[0m\u001b[33m use\u001b[0m\u001b[33m the\u001b[0m\u001b[33m web\u001b[0m\u001b[33m_search\u001b[0m\u001b[33m tool\u001b[0m\u001b[33m instead\u001b[0m\u001b[33m.\u001b[0m\u001b[33m The\u001b[0m\u001b[33m web\u001b[0m\u001b[33m_search\u001b[0m\u001b[33m tool\u001b[0m\u001b[33m has\u001b[0m\u001b[33m a\u001b[0m\u001b[33m parameter\u001b[0m\u001b[33m '\u001b[0m\u001b[33mquery\u001b[0m\u001b[33m'\u001b[0m\u001b[33m which\u001b[0m\u001b[33m is\u001b[0m\u001b[33m required\u001b[0m\u001b[33m.\u001b[0m\u001b[33m I\u001b[0m\u001b[33m should\u001b[0m\u001b[33m use\u001b[0m\u001b[33m the\u001b[0m\u001b[33m same\u001b[0m\u001b[33m query\u001b[0m\u001b[33m to\u001b[0m\u001b[33m search\u001b[0m\u001b[33m for\u001b[0m\u001b[33m weather\u001b[0m\u001b[33m in\u001b[0m\u001b[33m Columbus\u001b[0m\u001b[33m,\u001b[0m\u001b[33m Ohio\u001b[0m\u001b[33m.\",\u001b[0m\u001b[33m \"\u001b[0m\u001b[33maction\u001b[0m\u001b[33m\":\u001b[0m\u001b[33m {\"\u001b[0m\u001b[33mtool\u001b[0m\u001b[33m_name\u001b[0m\u001b[33m\":\u001b[0m\u001b[33m \"\u001b[0m\u001b[33mweb\u001b[0m\u001b[33m_search\u001b[0m\u001b[33m\",\u001b[0m\u001b[33m \"\u001b[0m\u001b[33mtool\u001b[0m\u001b[33m_params\u001b[0m\u001b[33m\":\u001b[0m\u001b[33m [{\"\u001b[0m\u001b[33mname\u001b[0m\u001b[33m\":\u001b[0m\u001b[33m \"\u001b[0m\u001b[33mquery\u001b[0m\u001b[33m\",\u001b[0m\u001b[33m \"\u001b[0m\u001b[33mvalue\u001b[0m\u001b[33m\":\u001b[0m\u001b[33m \"\u001b[0m\u001b[33mweather\u001b[0m\u001b[33m in\u001b[0m\u001b[33m Columbus\u001b[0m\u001b[33m,\u001b[0m\u001b[33m Ohio\u001b[0m\u001b[33m\"}\u001b[0m\u001b[33m]},\u001b[0m\u001b[33m \"\u001b[0m\u001b[33manswer\u001b[0m\u001b[33m\":\u001b[0m\u001b[33m null\u001b[0m\u001b[33m}\u001b[0m\u001b[97m\u001b[0m\n",
      "\u001b[32mtool_execution> Tool:web_search Response:{\"query\": \"weather in Columbus, Ohio\", \"top_k\": [{\"title\": \"Weather in Columbus, Ohio\", \"url\": \"https://www.weatherapi.com/\", \"content\": \"{'location': {'name': 'Columbus', 'region': 'Ohio', 'country': 'United States of America', 'lat': 39.9611, 'lon': -82.9989, 'tz_id': 'America/New_York', 'localtime_epoch': 1750486678, 'localtime': '2025-06-21 02:17'}, 'current': {'last_updated_epoch': 1750486500, 'last_updated': '2025-06-21 02:15', 'temp_c': 22.2, 'temp_f': 72.0, 'is_day': 0, 'condition': {'text': 'Partly Cloudy', 'icon': '//cdn.weatherapi.com/weather/64x64/night/116.png', 'code': 1003}, 'wind_mph': 4.3, 'wind_kph': 6.8, 'wind_degree': 223, 'wind_dir': 'SW', 'pressure_mb': 1019.0, 'pressure_in': 30.08, 'precip_mm': 0.0, 'precip_in': 0.0, 'humidity': 76, 'cloud': 0, 'feelslike_c': 24.6, 'feelslike_f': 76.3, 'windchill_c': 20.4, 'windchill_f': 68.7, 'heatindex_c': 20.5, 'heatindex_f': 68.9, 'dewpoint_c': 18.5, 'dewpoint_f': 65.3, 'vis_km': 16.0, 'vis_miles': 9.0, 'uv': 0.0, 'gust_mph': 8.9, 'gust_kph': 14.4}}\", \"score\": 0.871998, \"raw_content\": null}, {\"title\": \"Columbus, Ohio Daily Weather Forecast for June 2025\", \"url\": \"https://www.weathertab.com/en/c/06/united-states/ohio/columbus/\", \"content\": \"June 2025 Daily Weather Forecast for Columbus, Ohio \\u2013 Plan Ahead Image 1: WeatherTAB Long Range Weather Forecasts *   Jun 25 Daily Weather Forecast *   Jun '25; \\\"Columbus, Ohio Daily Weather Forecast for June 2025\\\") Columbus, Ohio Daily Weather Forecast for June 2025 Our Columbus, Ohio Daily Weather Forecast for June 2025, developed from a specialized dynamic long-range model, provides precise daily temperature and rainfall predictions. Precipitation Forecast Temperature Forecast Avg High Temps 75 to 85 \\u00b0F 20 to 35 \\u00b0C Avg Low Temps 55 to 65 \\u00b0F 10 to 20 \\u00b0C Weather Forecast Legend WeatherTAB helps you plan activities on days with the least risk of rain. %Forecast risk of rain/snow. Weather forecasts that start where the others stop\", \"score\": 0.81665546, \"raw_content\": null}, {\"title\": \"2025 Weather History in Columbus Ohio, United States\", \"url\": \"https://weatherspark.com/h/y/17263/2025/Historical-Weather-during-2025-in-Columbus-Ohio-United-States\", \"content\": \"Image 2: Map Image 3: Marker \\u00a9 OpenStreetMap contributors ### Compare Columbus to another city: Image 4 CompareMap ADVERTISEMENT ### Cloud Cover in 2025 in Columbus Link Download Compare Averages History:202520242023202220212020201920182017 _0%_ _clear_ _20%_ _mostly clear_ _40%_ _partly cloudy_ _60%_ _mostly cloudy_ _80%_ _overcast_ _100%_ _no significant cloud_ _no cloud detected_ _ceiling and visibility ok_ The hourly reported cloud coverage, categorized by the percentage of the sky covered by clouds. Please review our full terms contained on our Terms of Service page.Image 5 #### Columbus Franklin County, Ohio, United States Image 6: Map Image 7: Marker \\u00a9 OpenStreetMap contributors Today Yesterday Jun 2025 * * * 194019501960197019801990200020102020 * * * 2016201720182019202020212022202320242025 * * * SpringSummerFall Winter JanFebMarAprMayJunJul Aug Sep Oct Nov Dec Currently Temperature Clouds Precipitation Observed Weather Sun Moon Humidity Wind Wind Direction Pressure Inventory Data Sources * * * Hide Ads Data Download License Charts\", \"score\": 0.79215926, \"raw_content\": null}, {\"title\": \"June 21 Weather in Columbus: Detailed Weather Forecast for June 21 in ...\", \"url\": \"https://world-weather.info/forecast/usa/columbus_1/21-june/\", \"content\": \"June 21 Weather in Columbus: Detailed Weather Forecast for June 21 in Columbus, Ohio, United States *   Weather *   Weather Widget *   Weather in Columbus Weather in Columbus, June 21 Weather Forecast for June 21 in Columbus, Ohio - temperature, wind, atmospheric pressure, humidity and precipitations. Day+88\\u00b0+91\\u00b029.3 12.3 54% *   Weak solar activity may affect some highly sensitive people. Day+93\\u00b0+102\\u00b029.4 6.5 51% Day+81\\u00b0+81\\u00b029.3 13 46% Columbus Weather Calendar for June More about the weather forecast Find out more about the weather in Columbus: air temperature, precipitation, pressure and wind speed. Weather in large and nearby cities Weather in Washington, D.C.**+82\\u00b0** Hilliard**+79\\u00b0** Lima**+81\\u00b0** Mansfield**+77\\u00b0** Marion**+79\\u00b0** Newark**+75\\u00b0** Sunbury**+77\\u00b0** Tiffin**+79\\u00b0** Findlay**+77\\u00b0** Chillicothe**+77\\u00b0** Parkersburg**+79\\u00b0** Amelia**+79\\u00b0** Circleville**+79\\u00b0** Dayton**+81\\u00b0** Gallipolis**+77\\u00b0** Harrisburg**+79\\u00b0** Tuttle**+79\\u00b0** Weather forecast on your site Install _Columbus_ +81\\u00b0\", \"score\": 0.7265231, \"raw_content\": null}, {\"title\": \"Columbus weather in June 2025 | Columbus 14 day weather\", \"url\": \"https://www.weather25.com/north-america/usa/ohio/columbus?page=month&month=June\", \"content\": \"Columbus weather in June 2025 | Columbus 14 day weather Columbus Image 3: weather in United States Columbus weather in June 2025 The average weather in Columbus in June You can expect about **3 to 8 days of rain** in Columbus during the month of June. | June | **26\\u00b0** / 16\\u00b0 | 7 | 23 | 0 | 136 mm | Good | Columbus in June | Weather in Columbus in June - FAQ The average temperature in Columbus in June is 16/26\\u00b0 C. On average, there are 7 rainy days in Columbus during June. The weather in Columbus in June is good. On average, there are 0 snowy days in Columbus in June. More about the weather in Columbus\", \"score\": 0.7185356, \"raw_content\": null}]}\u001b[0m\n",
      "\u001b[33minference> \u001b[0m\u001b[33m{\"\u001b[0m\u001b[33mthought\u001b[0m\u001b[33m\":\u001b[0m\u001b[33m \"\u001b[0m\u001b[33mI\u001b[0m\u001b[33m have\u001b[0m\u001b[33m received\u001b[0m\u001b[33m the\u001b[0m\u001b[33m search\u001b[0m\u001b[33m results\u001b[0m\u001b[33m for\u001b[0m\u001b[33m '\u001b[0m\u001b[33mweather\u001b[0m\u001b[33m in\u001b[0m\u001b[33m Columbus\u001b[0m\u001b[33m,\u001b[0m\u001b[33m Ohio\u001b[0m\u001b[33m'.\u001b[0m\u001b[33m Now\u001b[0m\u001b[33m I\u001b[0m\u001b[33m need\u001b[0m\u001b[33m to\u001b[0m\u001b[33m determine\u001b[0m\u001b[33m if\u001b[0m\u001b[33m there\u001b[0m\u001b[33m are\u001b[0m\u001b[33m any\u001b[0m\u001b[33m immediate\u001b[0m\u001b[33m weather\u001b[0m\u001b[33m-related\u001b[0m\u001b[33m risks\u001b[0m\u001b[33m that\u001b[0m\u001b[33m could\u001b[0m\u001b[33m disrupt\u001b[0m\u001b[33m network\u001b[0m\u001b[33m connectivity\u001b[0m\u001b[33m or\u001b[0m\u001b[33m system\u001b[0m\u001b[33m availability\u001b[0m\u001b[33m.\u001b[0m\u001b[33m Looking\u001b[0m\u001b[33m at\u001b[0m\u001b[33m the\u001b[0m\u001b[33m search\u001b[0m\u001b[33m results\u001b[0m\u001b[33m,\u001b[0m\u001b[33m the\u001b[0m\u001b[33m current\u001b[0m\u001b[33m weather\u001b[0m\u001b[33m in\u001b[0m\u001b[33m Columbus\u001b[0m\u001b[33m,\u001b[0m\u001b[33m Ohio\u001b[0m\u001b[33m is\u001b[0m\u001b[33m partly\u001b[0m\u001b[33m cloudy\u001b[0m\u001b[33m with\u001b[0m\u001b[33m a\u001b[0m\u001b[33m temperature\u001b[0m\u001b[33m of\u001b[0m\u001b[33m \u001b[0m\u001b[33m2\u001b[0m\u001b[33m2\u001b[0m\u001b[33m.\u001b[0m\u001b[33m2\u001b[0m\u001b[33m°C\u001b[0m\u001b[33m (\u001b[0m\u001b[33m7\u001b[0m\u001b[33m2\u001b[0m\u001b[33m.\u001b[0m\u001b[33m0\u001b[0m\u001b[33m°F\u001b[0m\u001b[33m).\u001b[0m\u001b[33m There\u001b[0m\u001b[33m is\u001b[0m\u001b[33m no\u001b[0m\u001b[33m mention\u001b[0m\u001b[33m of\u001b[0m\u001b[33m severe\u001b[0m\u001b[33m weather\u001b[0m\u001b[33m conditions\u001b[0m\u001b[33m like\u001b[0m\u001b[33m storms\u001b[0m\u001b[33m,\u001b[0m\u001b[33m heavy\u001b[0m\u001b[33m rain\u001b[0m\u001b[33m,\u001b[0m\u001b[33m snow\u001b[0m\u001b[33m,\u001b[0m\u001b[33m or\u001b[0m\u001b[33m high\u001b[0m\u001b[33m winds\u001b[0m\u001b[33m.\u001b[0m\u001b[33m The\u001b[0m\u001b[33m forecast\u001b[0m\u001b[33m for\u001b[0m\u001b[33m the\u001b[0m\u001b[33m next\u001b[0m\u001b[33m few\u001b[0m\u001b[33m days\u001b[0m\u001b[33m shows\u001b[0m\u001b[33m temperatures\u001b[0m\u001b[33m around\u001b[0m\u001b[33m \u001b[0m\u001b[33m8\u001b[0m\u001b[33m0\u001b[0m\u001b[33m-\u001b[0m\u001b[33m9\u001b[0m\u001b[33m0\u001b[0m\u001b[33m°F\u001b[0m\u001b[33m (\u001b[0m\u001b[33m2\u001b[0m\u001b[33m7\u001b[0m\u001b[33m-\u001b[0m\u001b[33m3\u001b[0m\u001b[33m2\u001b[0m\u001b[33m°C\u001b[0m\u001b[33m)\u001b[0m\u001b[33m with\u001b[0m\u001b[33m some\u001b[0m\u001b[33m humidity\u001b[0m\u001b[33m,\u001b[0m\u001b[33m but\u001b[0m\u001b[33m no\u001b[0m\u001b[33m extreme\u001b[0m\u001b[33m conditions\u001b[0m\u001b[33m.\u001b[0m\u001b[33m However\u001b[0m\u001b[33m,\u001b[0m\u001b[33m I\u001b[0m\u001b[33m should\u001b[0m\u001b[33m consider\u001b[0m\u001b[33m if\u001b[0m\u001b[33m there\u001b[0m\u001b[33m are\u001b[0m\u001b[33m any\u001b[0m\u001b[33m risks\u001b[0m\u001b[33m from\u001b[0m\u001b[33m weather\u001b[0m\u001b[33m events\u001b[0m\u001b[33m.\u001b[0m\u001b[33m The\u001b[0m\u001b[33m search\u001b[0m\u001b[33m results\u001b[0m\u001b[33m mention\u001b[0m\u001b[33m that\u001b[0m\u001b[33m there\u001b[0m\u001b[33m are\u001b[0m\u001b[33m \u001b[0m\u001b[33m3\u001b[0m\u001b[33m to\u001b[0m\u001b[33m \u001b[0m\u001b[33m8\u001b[0m\u001b[33m days\u001b[0m\u001b[33m of\u001b[0m\u001b[33m rain\u001b[0m\u001b[33m in\u001b[0m\u001b[33m June\u001b[0m\u001b[33m,\u001b[0m\u001b[33m but\u001b[0m\u001b[33m this\u001b[0m\u001b[33m is\u001b[0m\u001b[33m for\u001b[0m\u001b[33m the\u001b[0m\u001b[33m entire\u001b[0m\u001b[33m month\u001b[0m\u001b[33m,\u001b[0m\u001b[33m not\u001b[0m\u001b[33m immediate\u001b[0m\u001b[33m.\u001b[0m\u001b[33m The\u001b[0m\u001b[33m current\u001b[0m\u001b[33m conditions\u001b[0m\u001b[33m don\u001b[0m\u001b[33m't\u001b[0m\u001b[33m indicate\u001b[0m\u001b[33m any\u001b[0m\u001b[33m immediate\u001b[0m\u001b[33m risk\u001b[0m\u001b[33m.\u001b[0m\u001b[33m I\u001b[0m\u001b[33m should\u001b[0m\u001b[33m also\u001b[0m\u001b[33m consider\u001b[0m\u001b[33m if\u001b[0m\u001b[33m there\u001b[0m\u001b[33m are\u001b[0m\u001b[33m any\u001b[0m\u001b[33m weather\u001b[0m\u001b[33m-related\u001b[0m\u001b[33m events\u001b[0m\u001b[33m scheduled\u001b[0m\u001b[33m,\u001b[0m\u001b[33m but\u001b[0m\u001b[33m I\u001b[0m\u001b[33m don\u001b[0m\u001b[33m't\u001b[0m\u001b[33m have\u001b[0m\u001b[33m that\u001b[0m\u001b[33m information\u001b[0m\u001b[33m.\u001b[0m\u001b[33m Based\u001b[0m\u001b[33m on\u001b[0m\u001b[33m the\u001b[0m\u001b[33m current\u001b[0m\u001b[33m weather\u001b[0m\u001b[33m data\u001b[0m\u001b[33m,\u001b[0m\u001b[33m there\u001b[0m\u001b[33m are\u001b[0m\u001b[33m no\u001b[0m\u001b[33m immediate\u001b[0m\u001b[33m weather\u001b[0m\u001b[33m-related\u001b[0m\u001b[33m risks\u001b[0m\u001b[33m in\u001b[0m\u001b[33m Columbus\u001b[0m\u001b[33m,\u001b[0m\u001b[33m Ohio\u001b[0m\u001b[33m that\u001b[0m\u001b[33m would\u001b[0m\u001b[33m disrupt\u001b[0m\u001b[33m network\u001b[0m\u001b[33m connectivity\u001b[0m\u001b[33m or\u001b[0m\u001b[33m system\u001b[0m\u001b[33m availability\u001b[0m\u001b[33m.\u001b[0m\u001b[33m I\u001b[0m\u001b[33m can\u001b[0m\u001b[33m provide\u001b[0m\u001b[33m the\u001b[0m\u001b[33m answer\u001b[0m\u001b[33m now\u001b[0m\u001b[33m.\",\u001b[0m\u001b[33m \"\u001b[0m\u001b[33maction\u001b[0m\u001b[33m\":\u001b[0m\u001b[33m null\u001b[0m\u001b[33m,\u001b[0m\u001b[33m \"\u001b[0m\u001b[33manswer\u001b[0m\u001b[33m\":\u001b[0m\u001b[33m \"\u001b[0m\u001b[33mThere\u001b[0m\u001b[33m are\u001b[0m\u001b[33m no\u001b[0m\u001b[33m immediate\u001b[0m\u001b[33m weather\u001b[0m\u001b[33m-related\u001b[0m\u001b[33m risks\u001b[0m\u001b[33m in\u001b[0m\u001b[33m Columbus\u001b[0m\u001b[33m,\u001b[0m\u001b[33m Ohio\u001b[0m\u001b[33m that\u001b[0m\u001b[33m could\u001b[0m\u001b[33m disrupt\u001b[0m\u001b[33m network\u001b[0m\u001b[33m connectivity\u001b[0m\u001b[33m or\u001b[0m\u001b[33m system\u001b[0m\u001b[33m availability\u001b[0m\u001b[33m.\u001b[0m\u001b[33m The\u001b[0m\u001b[33m current\u001b[0m\u001b[33m weather\u001b[0m\u001b[33m is\u001b[0m\u001b[33m partly\u001b[0m\u001b[33m cloudy\u001b[0m\u001b[33m with\u001b[0m\u001b[33m a\u001b[0m\u001b[33m temperature\u001b[0m\u001b[33m of\u001b[0m\u001b[33m \u001b[0m\u001b[33m7\u001b[0m\u001b[33m2\u001b[0m\u001b[33m°F\u001b[0m\u001b[33m,\u001b[0m\u001b[33m and\u001b[0m\u001b[33m the\u001b[0m\u001b[33m forecast\u001b[0m\u001b[33m does\u001b[0m\u001b[33m not\u001b[0m\u001b[33m indicate\u001b[0m\u001b[33m any\u001b[0m\u001b[33m severe\u001b[0m\u001b[33m weather\u001b[0m\u001b[33m conditions\u001b[0m\u001b[33m.\"\u001b[0m\u001b[33m}\u001b[0m\u001b[97m\u001b[0m\n",
      "\u001b[30m\u001b[0m"
     ]
    }
   ],
   "source": [
    "model_id = \"deepseek-r1-0528-qwen3-8b-bnb-4bit\" # \"llama3-2-3b\"\n",
    "\n",
    "agent = ReActAgent(\n",
    "            client=client,\n",
    "            model=model_id,\n",
    "            tools=[get_location, \"builtin::websearch\"],\n",
    "            response_format={\n",
    "                \"type\": \"json_schema\",\n",
    "                \"json_schema\": ReActOutput.model_json_schema(),\n",
    "            },\n",
    "            sampling_params=sampling_params,\n",
    "        )\n",
    "user_prompts = [\n",
    "    \"Are there any immediate weather-related risks in my area that could disrupt network connectivity or system availability?\"\n",
    "]\n",
    "session_id = agent.create_session(\"web-session\")\n",
    "for prompt in user_prompts:\n",
    "    cprint(f\"Processing user query: {prompt}\", \"blue\")\n",
    "    print(\"=\"*50)\n",
    "    response = agent.create_turn(\n",
    "        messages=[\n",
    "            {\n",
    "                \"role\": \"user\",\n",
    "                \"content\": prompt,\n",
    "            }\n",
    "        ],\n",
    "        session_id=session_id,\n",
    "        stream=stream\n",
    "    )\n",
    "    if stream:\n",
    "        for log in EventLogger().log(response):\n",
    "            log.print()\n",
    "    else:\n",
    "        step_printer(response.steps) # print the steps of an agent's response in a formatted way. "
   ]
  },
  {
   "cell_type": "markdown",
   "metadata": {},
   "source": [
    "## Key Takeaways\n",
    "- This notebook demonstrated how to build more capable agents using Prompt Chaining and the ReAct framework.\n",
    "- It showed how agents can maintain context across multiple steps and perform structured, multi-step reasoning.\n",
    "- It highlights how ReAct enables dynamic tool selection and adaptive decision-making based on intermediate results.\n",
    "- These techniques enhance agent autonomy and make them more suitable for complex operational tasks.\n",
    "\n",
    "For further extensions, continue exploring in the next notebook: [Agents and MCP](Level4_agents_and_mcp.ipynb)."
   ]
  }
 ],
 "metadata": {
  "kernelspec": {
   "display_name": "Python 3.11",
   "language": "python",
   "name": "python3"
  },
  "language_info": {
   "codemirror_mode": {
    "name": "ipython",
    "version": 3
   },
   "file_extension": ".py",
   "mimetype": "text/x-python",
   "name": "python",
   "nbconvert_exporter": "python",
   "pygments_lexer": "ipython3",
   "version": "3.11.11"
  }
 },
 "nbformat": 4,
 "nbformat_minor": 4
}
